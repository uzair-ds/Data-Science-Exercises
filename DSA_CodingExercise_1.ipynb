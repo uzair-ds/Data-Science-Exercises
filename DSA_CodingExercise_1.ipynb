{
  "cells": [
    {
      "cell_type": "markdown",
      "metadata": {
        "id": "view-in-github",
        "colab_type": "text"
      },
      "source": [
        "<a href=\"https://colab.research.google.com/github/uzair-ds/learnings-notebooks/blob/main/dsa_exercise_1.ipynb\" target=\"_parent\"><img src=\"https://colab.research.google.com/assets/colab-badge.svg\" alt=\"Open In Colab\"/></a>"
      ]
    },
    {
      "cell_type": "markdown",
      "metadata": {
        "id": "ao2Cko3YTGs8"
      },
      "source": [
        "## DSA Using Python - 1"
      ]
    },
    {
      "cell_type": "markdown",
      "metadata": {
        "id": "CNfvqA5TTVpt"
      },
      "source": [
        "List Operations :"
      ]
    },
    {
      "cell_type": "code",
      "execution_count": null,
      "metadata": {
        "id": "9Q34rHD4TNAg"
      },
      "outputs": [],
      "source": [
        "a = [12,32,2,45,666,321,1.5,1.5,1.5,0.001]"
      ]
    },
    {
      "cell_type": "code",
      "execution_count": null,
      "metadata": {
        "id": "gjHNjGQYHZ0a"
      },
      "outputs": [],
      "source": [
        "a.append(\"NewElement\")"
      ]
    },
    {
      "cell_type": "code",
      "execution_count": null,
      "metadata": {
        "colab": {
          "base_uri": "https://localhost:8080/"
        },
        "id": "oDbkFoXXHjEQ",
        "outputId": "c57d485f-de11-480d-97c2-543a065adcac"
      },
      "outputs": [
        {
          "data": {
            "text/plain": [
              "[12, 32, 2, 45, 666, 321, 1.5, 1.5, 1.5, 0.001, 'NewElement']"
            ]
          },
          "execution_count": 10,
          "metadata": {},
          "output_type": "execute_result"
        }
      ],
      "source": [
        "a"
      ]
    },
    {
      "cell_type": "code",
      "execution_count": null,
      "metadata": {
        "id": "50euXSwoHjZB"
      },
      "outputs": [],
      "source": [
        "a.insert(0,\"InsertedElementAtZeroIndex\")"
      ]
    },
    {
      "cell_type": "code",
      "execution_count": null,
      "metadata": {
        "colab": {
          "base_uri": "https://localhost:8080/"
        },
        "id": "p6Wyr_UHHqIx",
        "outputId": "a27e9f70-9fcc-4081-bb3a-4e67cd6c699b"
      },
      "outputs": [
        {
          "data": {
            "text/plain": [
              "['InsertedElementAtZeroIndex',\n",
              " 12,\n",
              " 32,\n",
              " 2,\n",
              " 45,\n",
              " 666,\n",
              " 321,\n",
              " 1.5,\n",
              " 1.5,\n",
              " 1.5,\n",
              " 0.001,\n",
              " 'NewElement']"
            ]
          },
          "execution_count": 12,
          "metadata": {},
          "output_type": "execute_result"
        }
      ],
      "source": [
        "a"
      ]
    },
    {
      "cell_type": "code",
      "execution_count": null,
      "metadata": {
        "colab": {
          "base_uri": "https://localhost:8080/"
        },
        "id": "7hd773v3Hqnz",
        "outputId": "0380c7e8-dab2-4086-c7e9-0c2614503c8d"
      },
      "outputs": [
        {
          "data": {
            "text/plain": [
              "False"
            ]
          },
          "execution_count": 13,
          "metadata": {},
          "output_type": "execute_result"
        }
      ],
      "source": [
        "\"CheckOne\" in a"
      ]
    },
    {
      "cell_type": "code",
      "execution_count": null,
      "metadata": {
        "colab": {
          "base_uri": "https://localhost:8080/"
        },
        "id": "mwUzaEnSHvW6",
        "outputId": "a71f7302-54ad-43a9-8058-9d3a41d1bc68"
      },
      "outputs": [
        {
          "data": {
            "text/plain": [
              "3"
            ]
          },
          "execution_count": 16,
          "metadata": {},
          "output_type": "execute_result"
        }
      ],
      "source": [
        "a.count(1.5) #count number of times 1.5 occured in the list"
      ]
    },
    {
      "cell_type": "code",
      "execution_count": null,
      "metadata": {
        "colab": {
          "base_uri": "https://localhost:8080/"
        },
        "id": "nharq14FHzDT",
        "outputId": "4aeae5a0-cc39-4d9f-f6e0-40e6fcb814ab"
      },
      "outputs": [
        {
          "data": {
            "text/plain": [
              "7"
            ]
          },
          "execution_count": 19,
          "metadata": {},
          "output_type": "execute_result"
        }
      ],
      "source": [
        "a.index(1.5) #index of first occuring of 1.5"
      ]
    },
    {
      "cell_type": "code",
      "execution_count": null,
      "metadata": {
        "colab": {
          "base_uri": "https://localhost:8080/"
        },
        "id": "RtCNCErGH5Pc",
        "outputId": "65e13cf6-6009-4c40-b38e-93480d76f152"
      },
      "outputs": [
        {
          "data": {
            "text/plain": [
              "7"
            ]
          },
          "execution_count": 22,
          "metadata": {},
          "output_type": "execute_result"
        }
      ],
      "source": [
        "a.index(1.5,5,8)  #index of 1.5 between index 5 to 8"
      ]
    },
    {
      "cell_type": "code",
      "execution_count": null,
      "metadata": {
        "colab": {
          "base_uri": "https://localhost:8080/"
        },
        "id": "YrzovrGgIRX3",
        "outputId": "252ad384-d573-4dab-b59d-bd5e0d8b421b"
      },
      "outputs": [
        {
          "data": {
            "text/plain": [
              "1.5"
            ]
          },
          "execution_count": 27,
          "metadata": {},
          "output_type": "execute_result"
        }
      ],
      "source": [
        "a.pop() #return removed element"
      ]
    },
    {
      "cell_type": "code",
      "execution_count": null,
      "metadata": {
        "colab": {
          "base_uri": "https://localhost:8080/"
        },
        "id": "ZNvpFeIGIZ5i",
        "outputId": "6664a6b7-fede-4e75-98d7-66a5e5af2b70"
      },
      "outputs": [
        {
          "data": {
            "text/plain": [
              "[12, 32, 2, 45, 666, 321, 1.5, 1.5, 1.5, 0.001]"
            ]
          },
          "execution_count": 34,
          "metadata": {},
          "output_type": "execute_result"
        }
      ],
      "source": [
        "a"
      ]
    },
    {
      "cell_type": "code",
      "execution_count": null,
      "metadata": {
        "id": "xCvAE94hIbec"
      },
      "outputs": [],
      "source": [
        "a.remove(666) #remove element by specific element"
      ]
    },
    {
      "cell_type": "code",
      "execution_count": null,
      "metadata": {
        "id": "9cwW5YxQIgNd"
      },
      "outputs": [],
      "source": []
    },
    {
      "cell_type": "markdown",
      "metadata": {
        "id": "OwKdTRIop0T0"
      },
      "source": [
        "- In python variable or element in list is are stored at different location. - List can dynamically insert and delete items.\n",
        "- Items can be randomly accessed in constant time.\n",
        "- Set and dict has no random access.\n",
        "- In array or list , the items stored in continuous location and these references are already present in cache memory so accessing it easily.\n"
      ]
    },
    {
      "cell_type": "code",
      "execution_count": null,
      "metadata": {
        "id": "dQxqadxYqKrW"
      },
      "outputs": [],
      "source": [
        "def avg_of_list(list1):\n",
        "  n=len(list1)\n",
        "  sum=sum(list1)\n",
        "  avg=sum/n\n",
        "  return avg\n"
      ]
    },
    {
      "cell_type": "code",
      "execution_count": null,
      "metadata": {
        "id": "OF3Oz_lQMB2q"
      },
      "outputs": [],
      "source": [
        "def avg_of_list(list1):\n",
        "  sum=0\n",
        "  for item in list1:\n",
        "    sum=sum+item\n",
        "  n=len(list1)\n",
        "  return sum/n"
      ]
    },
    {
      "cell_type": "code",
      "execution_count": null,
      "metadata": {
        "id": "AM7nNxQCMS25"
      },
      "outputs": [],
      "source": [
        "def separate_odd_even(list1):\n",
        "  even=[]\n",
        "  odd = []\n",
        "  for item in list1:\n",
        "    if item%2==0:\n",
        "      even.append(item)\n",
        "    else:\n",
        "      odd.append(item)\n",
        "  return odd,even"
      ]
    },
    {
      "cell_type": "code",
      "execution_count": null,
      "metadata": {
        "id": "XkRKdQ6TPheo"
      },
      "outputs": [],
      "source": [
        "x1 = [10,41,30,15,80]"
      ]
    },
    {
      "cell_type": "code",
      "execution_count": null,
      "metadata": {
        "colab": {
          "base_uri": "https://localhost:8080/"
        },
        "id": "eVOzFdPTPphJ",
        "outputId": "d1f7ea1f-6314-4445-8ecd-1a8a6fd66626"
      },
      "outputs": [
        {
          "data": {
            "text/plain": [
              "([41, 15], [10, 30, 80])"
            ]
          },
          "execution_count": 16,
          "metadata": {},
          "output_type": "execute_result"
        }
      ],
      "source": [
        "separate_odd_even(x1)"
      ]
    },
    {
      "cell_type": "code",
      "execution_count": null,
      "metadata": {
        "colab": {
          "background_save": true
        },
        "id": "4BwBGU0SPsD3"
      },
      "outputs": [],
      "source": [
        "def get_smaller_list(list1,num):\n",
        "  smaller_list = []\n",
        "  for item in list1:\n",
        "    if item<num:\n",
        "      smaller_list.append(item)\n",
        "  return smaller_list"
      ]
    },
    {
      "cell_type": "markdown",
      "source": [
        "### List Comprehension"
      ],
      "metadata": {
        "id": "wmyi6V_kJjyv"
      }
    },
    {
      "cell_type": "code",
      "source": [
        "# create even number list using list comprehension"
      ],
      "metadata": {
        "id": "720bdgKzJaDu"
      },
      "execution_count": null,
      "outputs": []
    },
    {
      "cell_type": "code",
      "source": [
        "even_list = [item for item in range(15) if item%2==0]"
      ],
      "metadata": {
        "id": "LF3GMpQ8Kcos"
      },
      "execution_count": null,
      "outputs": []
    },
    {
      "cell_type": "code",
      "source": [
        "even_list"
      ],
      "metadata": {
        "colab": {
          "base_uri": "https://localhost:8080/"
        },
        "id": "YwlTdJZIKloL",
        "outputId": "43f0e0b2-7514-4bd1-a98c-b94aeb5aa6fc"
      },
      "execution_count": null,
      "outputs": [
        {
          "output_type": "execute_result",
          "data": {
            "text/plain": [
              "[0, 2, 4, 6, 8, 10, 12, 14]"
            ]
          },
          "metadata": {},
          "execution_count": 6
        }
      ]
    },
    {
      "cell_type": "code",
      "source": [
        "odd_list = [item for item in range(15) if item%2!=0]"
      ],
      "metadata": {
        "id": "yE2k27-VKnER"
      },
      "execution_count": null,
      "outputs": []
    },
    {
      "cell_type": "code",
      "source": [
        "odd_list"
      ],
      "metadata": {
        "colab": {
          "base_uri": "https://localhost:8080/"
        },
        "id": "G9uCOCc9KvJi",
        "outputId": "6565dd93-c69f-4f59-8d84-e96230d01af4"
      },
      "execution_count": null,
      "outputs": [
        {
          "output_type": "execute_result",
          "data": {
            "text/plain": [
              "[1, 3, 5, 7, 9, 11, 13]"
            ]
          },
          "metadata": {},
          "execution_count": 9
        }
      ]
    },
    {
      "cell_type": "code",
      "source": [],
      "metadata": {
        "id": "itg87KNEKy_6"
      },
      "execution_count": null,
      "outputs": []
    },
    {
      "cell_type": "markdown",
      "source": [
        "### Dictionary Comprehension"
      ],
      "metadata": {
        "id": "wO0DuWyHK4Yo"
      }
    },
    {
      "cell_type": "code",
      "source": [
        "list1= [i for i in range(8)]\n",
        "dict1= {x:x**2 for x in list1}\n",
        "#key is x and value is x**2 and creating from base list1\n",
        "dict1"
      ],
      "metadata": {
        "colab": {
          "base_uri": "https://localhost:8080/"
        },
        "id": "ziSDPExhK7gg",
        "outputId": "1441312c-8728-490a-d8a1-538b8550afdb"
      },
      "execution_count": null,
      "outputs": [
        {
          "output_type": "execute_result",
          "data": {
            "text/plain": [
              "{0: 0, 1: 1, 2: 4, 3: 9, 4: 16, 5: 25, 6: 36, 7: 49}"
            ]
          },
          "metadata": {},
          "execution_count": 10
        }
      ]
    },
    {
      "cell_type": "code",
      "source": [
        "dict2 = {x:f\"some_value_for_{x}\" for x in list1}\n",
        "dict2"
      ],
      "metadata": {
        "colab": {
          "base_uri": "https://localhost:8080/"
        },
        "id": "qUXKjDJeLLCG",
        "outputId": "1b9c9b6b-dcc0-4982-da72-e2efd0f460f6"
      },
      "execution_count": null,
      "outputs": [
        {
          "output_type": "execute_result",
          "data": {
            "text/plain": [
              "{0: 'some_value_for_0',\n",
              " 1: 'some_value_for_1',\n",
              " 2: 'some_value_for_2',\n",
              " 3: 'some_value_for_3',\n",
              " 4: 'some_value_for_4',\n",
              " 5: 'some_value_for_5',\n",
              " 6: 'some_value_for_6',\n",
              " 7: 'some_value_for_7'}"
            ]
          },
          "metadata": {},
          "execution_count": 11
        }
      ]
    },
    {
      "cell_type": "code",
      "source": [
        "list1 = [i for i in range(0,10)]\n",
        "list2 = [j for j in range(10,20)]\n",
        "list3 = zip(list1,list2)\n",
        "dict3 = {list1[i]:list2[i] for i in range(10)}\n",
        "dict3"
      ],
      "metadata": {
        "colab": {
          "base_uri": "https://localhost:8080/"
        },
        "id": "nApdChwqLgeH",
        "outputId": "a5a340b7-626d-4fb1-f627-5a8510185ba7"
      },
      "execution_count": null,
      "outputs": [
        {
          "output_type": "execute_result",
          "data": {
            "text/plain": [
              "{0: 10, 1: 11, 2: 12, 3: 13, 4: 14, 5: 15, 6: 16, 7: 17, 8: 18, 9: 19}"
            ]
          },
          "metadata": {},
          "execution_count": 17
        }
      ]
    },
    {
      "cell_type": "code",
      "source": [
        "test_list = [23,3,23,45,78,333,21,2,1]"
      ],
      "metadata": {
        "id": "iFORuwfZNj7A"
      },
      "execution_count": 2,
      "outputs": []
    },
    {
      "cell_type": "markdown",
      "source": [
        "Get largest element in the list"
      ],
      "metadata": {
        "id": "hFwCfoYfRipz"
      }
    },
    {
      "cell_type": "code",
      "source": [
        "def get_largest_num(test):\n",
        "  for x in test:\n",
        "    for y in test:\n",
        "      if y>x:\n",
        "        break\n",
        "    else:\n",
        "      return x\n",
        "\n",
        "# time complexity = O(n**2)\n",
        "\n"
      ],
      "metadata": {
        "id": "LOFtHd5FLttj"
      },
      "execution_count": null,
      "outputs": []
    },
    {
      "cell_type": "code",
      "source": [
        "get_largest_num(test_list)"
      ],
      "metadata": {
        "colab": {
          "base_uri": "https://localhost:8080/"
        },
        "id": "BK90EwokM58L",
        "outputId": "119998ab-440a-4a16-b1e1-20387c3a3cdb"
      },
      "execution_count": null,
      "outputs": [
        {
          "output_type": "execute_result",
          "data": {
            "text/plain": [
              "333"
            ]
          },
          "metadata": {},
          "execution_count": 44
        }
      ]
    },
    {
      "cell_type": "code",
      "source": [
        "# Make Solution Efficient - Time Complexity - O(n)\n",
        "def get_max(test):\n",
        "  max_item=test[0]\n",
        "  for item in range(1,len(test)):\n",
        "    if test[item]>max_item:\n",
        "      max_item = test[item]\n",
        "  return max_item"
      ],
      "metadata": {
        "id": "SMht48uCM-gm"
      },
      "execution_count": null,
      "outputs": []
    },
    {
      "cell_type": "code",
      "source": [
        "get_max(test_list)"
      ],
      "metadata": {
        "colab": {
          "base_uri": "https://localhost:8080/"
        },
        "id": "Ale6NUdIP_dW",
        "outputId": "a093f078-41d2-458b-be91-264355e1efb5"
      },
      "execution_count": null,
      "outputs": [
        {
          "output_type": "execute_result",
          "data": {
            "text/plain": [
              "333"
            ]
          },
          "metadata": {},
          "execution_count": 68
        }
      ]
    },
    {
      "cell_type": "code",
      "source": [],
      "metadata": {
        "id": "t6j4qxqrQey0"
      },
      "execution_count": null,
      "outputs": []
    },
    {
      "cell_type": "markdown",
      "source": [
        "Get Second Largest Element in List"
      ],
      "metadata": {
        "id": "srEWQ_gNRueD"
      }
    },
    {
      "cell_type": "code",
      "source": [
        "def get_second_max(test): # one traveral solution\n",
        "  if len(test)<=1:\n",
        "    return None\n",
        "  max_val = test[0]\n",
        "  second_max = None\n",
        "  for item in test[1:]:\n",
        "    if item > max_val:\n",
        "      second_max = max_val\n",
        "      max_val = item\n",
        "\n",
        "    elif item != max_val:\n",
        "      if second_max == None or second_max < item:\n",
        "        second_max = item\n",
        "  return second_max\n",
        "\n"
      ],
      "metadata": {
        "id": "PIfZQ9jHRxWj"
      },
      "execution_count": null,
      "outputs": []
    },
    {
      "cell_type": "code",
      "source": [
        "get_second_max(test_list)"
      ],
      "metadata": {
        "colab": {
          "base_uri": "https://localhost:8080/"
        },
        "id": "KMx1TxyvR2GJ",
        "outputId": "cf0d5ebb-ff77-4f3b-cb28-cd1668e3dc8d"
      },
      "execution_count": null,
      "outputs": [
        {
          "output_type": "execute_result",
          "data": {
            "text/plain": [
              "78"
            ]
          },
          "metadata": {},
          "execution_count": 85
        }
      ]
    },
    {
      "cell_type": "markdown",
      "source": [
        "Check if the list is sorted in ascending order"
      ],
      "metadata": {
        "id": "0RV7JBkKzRYX"
      }
    },
    {
      "cell_type": "code",
      "source": [
        "def is_sorted(test):\n",
        "  if len(test)<2:\n",
        "    return True\n",
        "\n",
        "  for item in range(len(test)-1):\n",
        "    if test[item]>test[item+1]:\n",
        "      return False\n",
        "  else:\n",
        "    return True"
      ],
      "metadata": {
        "id": "uKt66mOVzWxl"
      },
      "execution_count": 26,
      "outputs": []
    },
    {
      "cell_type": "code",
      "source": [
        "is_sorted([1,2,2,4,5])"
      ],
      "metadata": {
        "colab": {
          "base_uri": "https://localhost:8080/"
        },
        "id": "6uBAU9agz6cW",
        "outputId": "39d67d43-7a4f-4c2b-bae9-7defad6dc3df"
      },
      "execution_count": 29,
      "outputs": [
        {
          "output_type": "execute_result",
          "data": {
            "text/plain": [
              "True"
            ]
          },
          "metadata": {},
          "execution_count": 29
        }
      ]
    },
    {
      "cell_type": "markdown",
      "source": [
        "Find element in list which is appearing odd no. of times"
      ],
      "metadata": {
        "id": "potL7BJi3iWW"
      }
    },
    {
      "cell_type": "code",
      "source": [
        "def odd_occurence(test): #Simple and Efficient\n",
        "  only_odd = None\n",
        "  for item in test:\n",
        "    occurence = test.count(item)\n",
        "    if occurence%2!=0:\n",
        "      only_odd = item\n",
        "      break\n",
        "  return only_odd"
      ],
      "metadata": {
        "id": "3BZ-jfRL3o5B"
      },
      "execution_count": 35,
      "outputs": []
    },
    {
      "cell_type": "code",
      "source": [
        "odd_occurence([10,10,20,20,20,20,30,30,10])"
      ],
      "metadata": {
        "colab": {
          "base_uri": "https://localhost:8080/"
        },
        "id": "C35qo_QI4Y3D",
        "outputId": "29f93dbf-1bc5-4367-d1c4-14ad11890af7"
      },
      "execution_count": 37,
      "outputs": [
        {
          "output_type": "execute_result",
          "data": {
            "text/plain": [
              "10"
            ]
          },
          "metadata": {},
          "execution_count": 37
        }
      ]
    },
    {
      "cell_type": "code",
      "source": [
        "def odd_occurence2(test):\n",
        "  res = 0\n",
        "  for item in test:\n",
        "    res = XOR(res,item)\n",
        "  return res\n",
        "# Using Bitwise Operation\n",
        "\"\"\"\n",
        "  XOR(x,0)=x means if two bits are same then output will be 0 otherwise 1.\n",
        "  XOR(x,x)=0\n",
        "  Using this we can get odd appering element\n",
        " \"\"\""
      ],
      "metadata": {
        "colab": {
          "base_uri": "https://localhost:8080/",
          "height": 73
        },
        "id": "jbppGxJ_4oYU",
        "outputId": "c2b3a2de-2098-4483-85e9-001de46d663b"
      },
      "execution_count": 40,
      "outputs": [
        {
          "output_type": "execute_result",
          "data": {
            "text/plain": [
              "' \\n  XOR(x,0)=x means if two bits are same then output will be 0 otherwise 1.\\n  XOR(x,x)=0\\n\\n  Using this we can get odd appering element\\n '"
            ],
            "application/vnd.google.colaboratory.intrinsic+json": {
              "type": "string"
            }
          },
          "metadata": {},
          "execution_count": 40
        }
      ]
    },
    {
      "cell_type": "code",
      "source": [],
      "metadata": {
        "id": "21PDRlBK5LMb"
      },
      "execution_count": null,
      "outputs": []
    },
    {
      "cell_type": "markdown",
      "source": [
        "Reverse the given list"
      ],
      "metadata": {
        "id": "bM5B81447R4i"
      }
    },
    {
      "cell_type": "code",
      "source": [
        "def reverse_list(test):\n",
        "  reversed = test[::-1]\n",
        "  return reversed"
      ],
      "metadata": {
        "id": "KAYeLHPh7UdX"
      },
      "execution_count": 50,
      "outputs": []
    },
    {
      "cell_type": "code",
      "source": [
        "t1 = [\"geeks\",\"ide\",\"coursera\"]\n",
        "t2 = [1,2,3,4,5]"
      ],
      "metadata": {
        "id": "mOix9zrZ7guM"
      },
      "execution_count": 51,
      "outputs": []
    },
    {
      "cell_type": "code",
      "source": [
        "reverse_list(t1)"
      ],
      "metadata": {
        "colab": {
          "base_uri": "https://localhost:8080/"
        },
        "id": "GXNPHQtl7rgG",
        "outputId": "621bb8d7-c626-41fa-f2ee-1b4584438f4f"
      },
      "execution_count": 53,
      "outputs": [
        {
          "output_type": "execute_result",
          "data": {
            "text/plain": [
              "['coursera', 'ide', 'geeks']"
            ]
          },
          "metadata": {},
          "execution_count": 53
        }
      ]
    },
    {
      "cell_type": "code",
      "source": [
        "def reverse_list1(test):\n",
        "  start = 0\n",
        "  end = len(test)-1\n",
        "  while start < end:\n",
        "    test[start],test[end] = test[end],test[start]\n",
        "    start = start+1\n",
        "    end = end-1\n",
        "    print(test)"
      ],
      "metadata": {
        "id": "Yks4inJx7tVK"
      },
      "execution_count": 59,
      "outputs": []
    },
    {
      "cell_type": "code",
      "source": [
        "reverse_list1(t1)"
      ],
      "metadata": {
        "colab": {
          "base_uri": "https://localhost:8080/"
        },
        "id": "yJ_qFVsd8gVe",
        "outputId": "b9b2eb52-22b6-43bc-b91d-055eec3bfb57"
      },
      "execution_count": 60,
      "outputs": [
        {
          "output_type": "stream",
          "name": "stdout",
          "text": [
            "['coursera', 'ide', 'geeks']\n"
          ]
        }
      ]
    },
    {
      "cell_type": "markdown",
      "source": [
        "Left rotate the list"
      ],
      "metadata": {
        "id": "TeBMNkv_Wh8k"
      }
    },
    {
      "cell_type": "code",
      "source": [
        "def left_rotate(test):\n",
        "  last = test[0]\n",
        "  test = test[1:] + [last]\n",
        "  return test"
      ],
      "metadata": {
        "id": "BaC0lV_z8niD"
      },
      "execution_count": 63,
      "outputs": []
    },
    {
      "cell_type": "code",
      "source": [
        "left_rotate([10,20,30,40])"
      ],
      "metadata": {
        "colab": {
          "base_uri": "https://localhost:8080/"
        },
        "id": "lXwTTBhcW3UL",
        "outputId": "b00096fe-da06-4fdc-f421-574575c9eaa6"
      },
      "execution_count": 65,
      "outputs": [
        {
          "output_type": "execute_result",
          "data": {
            "text/plain": [
              "[20, 30, 40, 10]"
            ]
          },
          "metadata": {},
          "execution_count": 65
        }
      ]
    },
    {
      "cell_type": "code",
      "source": [
        "def rotate_left(test):\n",
        "  n=len(test)\n",
        "  first =test[0]\n",
        "  for item in range(1,n):\n",
        "    test[item-1]=test[item]\n",
        "  test[n-1]=first\n",
        "  return test"
      ],
      "metadata": {
        "id": "6UPLwv3_W5-E"
      },
      "execution_count": 71,
      "outputs": []
    },
    {
      "cell_type": "code",
      "source": [
        "res = rotate_left([10,20,30,40])"
      ],
      "metadata": {
        "id": "nuPrbIZKYEmZ"
      },
      "execution_count": 74,
      "outputs": []
    },
    {
      "cell_type": "code",
      "source": [],
      "metadata": {
        "id": "CxkfwVESYOJh"
      },
      "execution_count": null,
      "outputs": []
    },
    {
      "cell_type": "markdown",
      "source": [
        "Left rotate the list by d-places"
      ],
      "metadata": {
        "id": "u6b4oYLaYezD"
      }
    },
    {
      "cell_type": "code",
      "source": [
        "def left_rotate_by_d1(test,d):\n",
        "  test=test[d:] + test[:d]\n",
        "  return test"
      ],
      "metadata": {
        "id": "WRgWd8pLYjlt"
      },
      "execution_count": 73,
      "outputs": []
    },
    {
      "cell_type": "code",
      "source": [
        "left_rotate_by_d1(res,2)"
      ],
      "metadata": {
        "colab": {
          "base_uri": "https://localhost:8080/"
        },
        "id": "AAd7rs8VaXCw",
        "outputId": "6543801e-de79-4ea4-c745-ab14cf141ab0"
      },
      "execution_count": 75,
      "outputs": [
        {
          "output_type": "execute_result",
          "data": {
            "text/plain": [
              "[40, 10, 20, 30]"
            ]
          },
          "metadata": {},
          "execution_count": 75
        }
      ]
    },
    {
      "cell_type": "code",
      "source": [
        "def left_rotate_by_d2(test,d): # space complexity is O(nd)\n",
        "  for i in range(d):\n",
        "    test.append(test.pop(0))\n",
        "  return test"
      ],
      "metadata": {
        "id": "zEWC9qMpadFx"
      },
      "execution_count": 77,
      "outputs": []
    },
    {
      "cell_type": "code",
      "source": [
        "def left_rotate_by_d3(test,d): # constant auxilary space\n",
        "   n=len(test)\n",
        "   # first rotate first d elements , then reverse the last rest of the element left and the reverse the entire list\n",
        "   first = test[:d][::-1]\n",
        "   second = test[d:][::-1]\n",
        "   x = first + second\n",
        "   return x[::-1]\n",
        "\n"
      ],
      "metadata": {
        "id": "V_NJ0RoyaxXW"
      },
      "execution_count": 78,
      "outputs": []
    },
    {
      "cell_type": "code",
      "source": [
        "left_rotate_by_d3([1,2,3,4,5],3)"
      ],
      "metadata": {
        "colab": {
          "base_uri": "https://localhost:8080/"
        },
        "id": "9_YLlZINdV1d",
        "outputId": "e279e021-8473-4829-8395-e1be695313ea"
      },
      "execution_count": 79,
      "outputs": [
        {
          "output_type": "execute_result",
          "data": {
            "text/plain": [
              "[4, 5, 1, 2, 3]"
            ]
          },
          "metadata": {},
          "execution_count": 79
        }
      ]
    },
    {
      "cell_type": "code",
      "source": [],
      "metadata": {
        "id": "rTIIFAn-dgO0"
      },
      "execution_count": null,
      "outputs": []
    }
  ],
  "metadata": {
    "colab": {
      "provenance": [],
      "authorship_tag": "ABX9TyPPgv5+heDBv9CbqmFI1kbo",
      "include_colab_link": true
    },
    "kernelspec": {
      "display_name": "Python 3",
      "name": "python3"
    },
    "language_info": {
      "name": "python"
    }
  },
  "nbformat": 4,
  "nbformat_minor": 0
}
