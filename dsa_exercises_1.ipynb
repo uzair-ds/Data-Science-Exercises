{
  "nbformat": 4,
  "nbformat_minor": 0,
  "metadata": {
    "colab": {
      "provenance": [],
      "authorship_tag": "ABX9TyMOonZQUIo7PBBOcF/6VS79",
      "include_colab_link": true
    },
    "kernelspec": {
      "name": "python3",
      "display_name": "Python 3"
    },
    "language_info": {
      "name": "python"
    }
  },
  "cells": [
    {
      "cell_type": "markdown",
      "metadata": {
        "id": "view-in-github",
        "colab_type": "text"
      },
      "source": [
        "<a href=\"https://colab.research.google.com/github/uzair-ds/learnings-notebooks/blob/main/dsa_exercises_1.ipynb\" target=\"_parent\"><img src=\"https://colab.research.google.com/assets/colab-badge.svg\" alt=\"Open In Colab\"/></a>"
      ]
    },
    {
      "cell_type": "markdown",
      "source": [
        "Data Structures & Algorithms Using Python"
      ],
      "metadata": {
        "id": "ao2Cko3YTGs8"
      }
    },
    {
      "cell_type": "code",
      "source": [
        "!pip install jupyter_contrib_nbextensions && jupyter contrib nbextension install --user\n"
      ],
      "metadata": {
        "colab": {
          "base_uri": "https://localhost:8080/"
        },
        "id": "u4-1IyNCM8WT",
        "outputId": "7bbb6cbe-3bd7-4bf2-a5d6-5f2ac194b4a1"
      },
      "execution_count": 3,
      "outputs": [
        {
          "output_type": "stream",
          "name": "stdout",
          "text": [
            "Collecting jupyter_contrib_nbextensions\n",
            "  Downloading jupyter_contrib_nbextensions-0.7.0.tar.gz (23.5 MB)\n",
            "\u001b[2K     \u001b[90m━━━━━━━━━━━━━━━━━━━━━━━━━━━━━━━━━━━━━━━━\u001b[0m \u001b[32m23.5/23.5 MB\u001b[0m \u001b[31m27.7 MB/s\u001b[0m eta \u001b[36m0:00:00\u001b[0m\n",
            "\u001b[?25h  Preparing metadata (setup.py) ... \u001b[?25l\u001b[?25hdone\n",
            "Requirement already satisfied: ipython_genutils in /usr/local/lib/python3.10/dist-packages (from jupyter_contrib_nbextensions) (0.2.0)\n",
            "Collecting jupyter_contrib_core>=0.3.3 (from jupyter_contrib_nbextensions)\n",
            "  Downloading jupyter_contrib_core-0.4.2.tar.gz (17 kB)\n",
            "  Preparing metadata (setup.py) ... \u001b[?25l\u001b[?25hdone\n",
            "Requirement already satisfied: jupyter_core in /usr/local/lib/python3.10/dist-packages (from jupyter_contrib_nbextensions) (5.3.1)\n",
            "Collecting jupyter_highlight_selected_word>=0.1.1 (from jupyter_contrib_nbextensions)\n",
            "  Downloading jupyter_highlight_selected_word-0.2.0-py2.py3-none-any.whl (11 kB)\n",
            "Collecting jupyter_nbextensions_configurator>=0.4.0 (from jupyter_contrib_nbextensions)\n",
            "  Downloading jupyter_nbextensions_configurator-0.6.3-py2.py3-none-any.whl (466 kB)\n",
            "\u001b[2K     \u001b[90m━━━━━━━━━━━━━━━━━━━━━━━━━━━━━━━━━━━━━━\u001b[0m \u001b[32m466.9/466.9 kB\u001b[0m \u001b[31m40.2 MB/s\u001b[0m eta \u001b[36m0:00:00\u001b[0m\n",
            "\u001b[?25hRequirement already satisfied: nbconvert>=6.0 in /usr/local/lib/python3.10/dist-packages (from jupyter_contrib_nbextensions) (6.5.4)\n",
            "Requirement already satisfied: notebook>=6.0 in /usr/local/lib/python3.10/dist-packages (from jupyter_contrib_nbextensions) (6.4.8)\n",
            "Requirement already satisfied: tornado in /usr/local/lib/python3.10/dist-packages (from jupyter_contrib_nbextensions) (6.3.1)\n",
            "Requirement already satisfied: traitlets>=4.1 in /usr/local/lib/python3.10/dist-packages (from jupyter_contrib_nbextensions) (5.7.1)\n",
            "Requirement already satisfied: lxml in /usr/local/lib/python3.10/dist-packages (from jupyter_contrib_nbextensions) (4.9.3)\n",
            "Requirement already satisfied: setuptools in /usr/local/lib/python3.10/dist-packages (from jupyter_contrib_core>=0.3.3->jupyter_contrib_nbextensions) (67.7.2)\n",
            "Requirement already satisfied: pyyaml in /usr/local/lib/python3.10/dist-packages (from jupyter_nbextensions_configurator>=0.4.0->jupyter_contrib_nbextensions) (6.0.1)\n",
            "Requirement already satisfied: beautifulsoup4 in /usr/local/lib/python3.10/dist-packages (from nbconvert>=6.0->jupyter_contrib_nbextensions) (4.11.2)\n",
            "Requirement already satisfied: bleach in /usr/local/lib/python3.10/dist-packages (from nbconvert>=6.0->jupyter_contrib_nbextensions) (6.0.0)\n",
            "Requirement already satisfied: defusedxml in /usr/local/lib/python3.10/dist-packages (from nbconvert>=6.0->jupyter_contrib_nbextensions) (0.7.1)\n",
            "Requirement already satisfied: entrypoints>=0.2.2 in /usr/local/lib/python3.10/dist-packages (from nbconvert>=6.0->jupyter_contrib_nbextensions) (0.4)\n",
            "Requirement already satisfied: jinja2>=3.0 in /usr/local/lib/python3.10/dist-packages (from nbconvert>=6.0->jupyter_contrib_nbextensions) (3.1.2)\n",
            "Requirement already satisfied: jupyterlab-pygments in /usr/local/lib/python3.10/dist-packages (from nbconvert>=6.0->jupyter_contrib_nbextensions) (0.2.2)\n",
            "Requirement already satisfied: MarkupSafe>=2.0 in /usr/local/lib/python3.10/dist-packages (from nbconvert>=6.0->jupyter_contrib_nbextensions) (2.1.3)\n",
            "Requirement already satisfied: mistune<2,>=0.8.1 in /usr/local/lib/python3.10/dist-packages (from nbconvert>=6.0->jupyter_contrib_nbextensions) (0.8.4)\n",
            "Requirement already satisfied: nbclient>=0.5.0 in /usr/local/lib/python3.10/dist-packages (from nbconvert>=6.0->jupyter_contrib_nbextensions) (0.8.0)\n",
            "Requirement already satisfied: nbformat>=5.1 in /usr/local/lib/python3.10/dist-packages (from nbconvert>=6.0->jupyter_contrib_nbextensions) (5.9.2)\n",
            "Requirement already satisfied: packaging in /usr/local/lib/python3.10/dist-packages (from nbconvert>=6.0->jupyter_contrib_nbextensions) (23.1)\n",
            "Requirement already satisfied: pandocfilters>=1.4.1 in /usr/local/lib/python3.10/dist-packages (from nbconvert>=6.0->jupyter_contrib_nbextensions) (1.5.0)\n",
            "Requirement already satisfied: pygments>=2.4.1 in /usr/local/lib/python3.10/dist-packages (from nbconvert>=6.0->jupyter_contrib_nbextensions) (2.16.1)\n",
            "Requirement already satisfied: tinycss2 in /usr/local/lib/python3.10/dist-packages (from nbconvert>=6.0->jupyter_contrib_nbextensions) (1.2.1)\n",
            "Requirement already satisfied: platformdirs>=2.5 in /usr/local/lib/python3.10/dist-packages (from jupyter_core->jupyter_contrib_nbextensions) (3.10.0)\n",
            "Requirement already satisfied: pyzmq>=17 in /usr/local/lib/python3.10/dist-packages (from notebook>=6.0->jupyter_contrib_nbextensions) (23.2.1)\n",
            "Requirement already satisfied: argon2-cffi in /usr/local/lib/python3.10/dist-packages (from notebook>=6.0->jupyter_contrib_nbextensions) (21.3.0)\n",
            "Requirement already satisfied: jupyter-client>=5.3.4 in /usr/local/lib/python3.10/dist-packages (from notebook>=6.0->jupyter_contrib_nbextensions) (6.1.12)\n",
            "Requirement already satisfied: nest-asyncio>=1.5 in /usr/local/lib/python3.10/dist-packages (from notebook>=6.0->jupyter_contrib_nbextensions) (1.5.7)\n",
            "Requirement already satisfied: ipykernel in /usr/local/lib/python3.10/dist-packages (from notebook>=6.0->jupyter_contrib_nbextensions) (5.5.6)\n",
            "Requirement already satisfied: Send2Trash>=1.8.0 in /usr/local/lib/python3.10/dist-packages (from notebook>=6.0->jupyter_contrib_nbextensions) (1.8.2)\n",
            "Requirement already satisfied: terminado>=0.8.3 in /usr/local/lib/python3.10/dist-packages (from notebook>=6.0->jupyter_contrib_nbextensions) (0.17.1)\n",
            "Requirement already satisfied: prometheus-client in /usr/local/lib/python3.10/dist-packages (from notebook>=6.0->jupyter_contrib_nbextensions) (0.17.1)\n",
            "Requirement already satisfied: python-dateutil>=2.1 in /usr/local/lib/python3.10/dist-packages (from jupyter-client>=5.3.4->notebook>=6.0->jupyter_contrib_nbextensions) (2.8.2)\n",
            "Requirement already satisfied: fastjsonschema in /usr/local/lib/python3.10/dist-packages (from nbformat>=5.1->nbconvert>=6.0->jupyter_contrib_nbextensions) (2.18.0)\n",
            "Requirement already satisfied: jsonschema>=2.6 in /usr/local/lib/python3.10/dist-packages (from nbformat>=5.1->nbconvert>=6.0->jupyter_contrib_nbextensions) (4.19.0)\n",
            "Requirement already satisfied: ptyprocess in /usr/local/lib/python3.10/dist-packages (from terminado>=0.8.3->notebook>=6.0->jupyter_contrib_nbextensions) (0.7.0)\n",
            "Requirement already satisfied: argon2-cffi-bindings in /usr/local/lib/python3.10/dist-packages (from argon2-cffi->notebook>=6.0->jupyter_contrib_nbextensions) (21.2.0)\n",
            "Requirement already satisfied: soupsieve>1.2 in /usr/local/lib/python3.10/dist-packages (from beautifulsoup4->nbconvert>=6.0->jupyter_contrib_nbextensions) (2.4.1)\n",
            "Requirement already satisfied: six>=1.9.0 in /usr/local/lib/python3.10/dist-packages (from bleach->nbconvert>=6.0->jupyter_contrib_nbextensions) (1.16.0)\n",
            "Requirement already satisfied: webencodings in /usr/local/lib/python3.10/dist-packages (from bleach->nbconvert>=6.0->jupyter_contrib_nbextensions) (0.5.1)\n",
            "Requirement already satisfied: ipython>=5.0.0 in /usr/local/lib/python3.10/dist-packages (from ipykernel->notebook>=6.0->jupyter_contrib_nbextensions) (7.34.0)\n",
            "Collecting jedi>=0.16 (from ipython>=5.0.0->ipykernel->notebook>=6.0->jupyter_contrib_nbextensions)\n",
            "  Downloading jedi-0.19.0-py2.py3-none-any.whl (1.6 MB)\n",
            "\u001b[2K     \u001b[90m━━━━━━━━━━━━━━━━━━━━━━━━━━━━━━━━━━━━━━━━\u001b[0m \u001b[32m1.6/1.6 MB\u001b[0m \u001b[31m52.9 MB/s\u001b[0m eta \u001b[36m0:00:00\u001b[0m\n",
            "\u001b[?25hRequirement already satisfied: decorator in /usr/local/lib/python3.10/dist-packages (from ipython>=5.0.0->ipykernel->notebook>=6.0->jupyter_contrib_nbextensions) (4.4.2)\n",
            "Requirement already satisfied: pickleshare in /usr/local/lib/python3.10/dist-packages (from ipython>=5.0.0->ipykernel->notebook>=6.0->jupyter_contrib_nbextensions) (0.7.5)\n",
            "Requirement already satisfied: prompt-toolkit!=3.0.0,!=3.0.1,<3.1.0,>=2.0.0 in /usr/local/lib/python3.10/dist-packages (from ipython>=5.0.0->ipykernel->notebook>=6.0->jupyter_contrib_nbextensions) (3.0.39)\n",
            "Requirement already satisfied: backcall in /usr/local/lib/python3.10/dist-packages (from ipython>=5.0.0->ipykernel->notebook>=6.0->jupyter_contrib_nbextensions) (0.2.0)\n",
            "Requirement already satisfied: matplotlib-inline in /usr/local/lib/python3.10/dist-packages (from ipython>=5.0.0->ipykernel->notebook>=6.0->jupyter_contrib_nbextensions) (0.1.6)\n",
            "Requirement already satisfied: pexpect>4.3 in /usr/local/lib/python3.10/dist-packages (from ipython>=5.0.0->ipykernel->notebook>=6.0->jupyter_contrib_nbextensions) (4.8.0)\n",
            "Requirement already satisfied: attrs>=22.2.0 in /usr/local/lib/python3.10/dist-packages (from jsonschema>=2.6->nbformat>=5.1->nbconvert>=6.0->jupyter_contrib_nbextensions) (23.1.0)\n",
            "Requirement already satisfied: jsonschema-specifications>=2023.03.6 in /usr/local/lib/python3.10/dist-packages (from jsonschema>=2.6->nbformat>=5.1->nbconvert>=6.0->jupyter_contrib_nbextensions) (2023.7.1)\n",
            "Requirement already satisfied: referencing>=0.28.4 in /usr/local/lib/python3.10/dist-packages (from jsonschema>=2.6->nbformat>=5.1->nbconvert>=6.0->jupyter_contrib_nbextensions) (0.30.2)\n",
            "Requirement already satisfied: rpds-py>=0.7.1 in /usr/local/lib/python3.10/dist-packages (from jsonschema>=2.6->nbformat>=5.1->nbconvert>=6.0->jupyter_contrib_nbextensions) (0.9.2)\n",
            "Requirement already satisfied: cffi>=1.0.1 in /usr/local/lib/python3.10/dist-packages (from argon2-cffi-bindings->argon2-cffi->notebook>=6.0->jupyter_contrib_nbextensions) (1.15.1)\n",
            "Requirement already satisfied: pycparser in /usr/local/lib/python3.10/dist-packages (from cffi>=1.0.1->argon2-cffi-bindings->argon2-cffi->notebook>=6.0->jupyter_contrib_nbextensions) (2.21)\n",
            "Requirement already satisfied: parso<0.9.0,>=0.8.3 in /usr/local/lib/python3.10/dist-packages (from jedi>=0.16->ipython>=5.0.0->ipykernel->notebook>=6.0->jupyter_contrib_nbextensions) (0.8.3)\n",
            "Requirement already satisfied: wcwidth in /usr/local/lib/python3.10/dist-packages (from prompt-toolkit!=3.0.0,!=3.0.1,<3.1.0,>=2.0.0->ipython>=5.0.0->ipykernel->notebook>=6.0->jupyter_contrib_nbextensions) (0.2.6)\n",
            "Building wheels for collected packages: jupyter_contrib_nbextensions, jupyter_contrib_core\n",
            "  Building wheel for jupyter_contrib_nbextensions (setup.py) ... \u001b[?25l\u001b[?25hdone\n",
            "  Created wheel for jupyter_contrib_nbextensions: filename=jupyter_contrib_nbextensions-0.7.0-py2.py3-none-any.whl size=23428780 sha256=12a5d7966ee0c7dc3f49c9444677837c262281d9209265fc8567af20142a923e\n",
            "  Stored in directory: /root/.cache/pip/wheels/ea/cc/7d/99ef154f984726b1201c0f72cfe9c9d7c5132c1a2ae4d8677f\n",
            "  Building wheel for jupyter_contrib_core (setup.py) ... \u001b[?25l\u001b[?25hdone\n",
            "  Created wheel for jupyter_contrib_core: filename=jupyter_contrib_core-0.4.2-py2.py3-none-any.whl size=17482 sha256=b563936505e1340fadf7ed7b52892a81ee911789eee9b88efc98bc9c152922e6\n",
            "  Stored in directory: /root/.cache/pip/wheels/a9/52/88/e0643cdfd68f0562087918c37dd583378648dbc3df68b907f7\n",
            "Successfully built jupyter_contrib_nbextensions jupyter_contrib_core\n",
            "Installing collected packages: jupyter_highlight_selected_word, jedi, jupyter_contrib_core, jupyter_nbextensions_configurator, jupyter_contrib_nbextensions\n",
            "Successfully installed jedi-0.19.0 jupyter_contrib_core-0.4.2 jupyter_contrib_nbextensions-0.7.0 jupyter_highlight_selected_word-0.2.0 jupyter_nbextensions_configurator-0.6.3\n",
            "\u001b[32m[I 17:17:42 InstallContribNbextensionsApp]\u001b[m jupyter contrib nbextension install --user\n",
            "\u001b[32m[I 17:17:42 InstallContribNbextensionsApp]\u001b[m Installing jupyter_contrib_nbextensions nbextension files to jupyter data directory\n",
            "\u001b[32m[I 17:17:43 InstallContribNbextensionsApp]\u001b[m Installing /usr/local/lib/python3.10/dist-packages/jupyter_contrib_nbextensions/nbextensions/keyboard_shortcut_editor -> keyboard_shortcut_editor\n",
            "\u001b[32m[I 17:17:43 InstallContribNbextensionsApp]\u001b[m Making directory: /root/.local/share/jupyter/nbextensions/keyboard_shortcut_editor/\n",
            "\u001b[32m[I 17:17:43 InstallContribNbextensionsApp]\u001b[m Copying: /usr/local/lib/python3.10/dist-packages/jupyter_contrib_nbextensions/nbextensions/keyboard_shortcut_editor/readme_undefined_key.png -> /root/.local/share/jupyter/nbextensions/keyboard_shortcut_editor/readme_undefined_key.png\n",
            "\u001b[32m[I 17:17:43 InstallContribNbextensionsApp]\u001b[m Copying: /usr/local/lib/python3.10/dist-packages/jupyter_contrib_nbextensions/nbextensions/keyboard_shortcut_editor/readme_add_new_link.png -> /root/.local/share/jupyter/nbextensions/keyboard_shortcut_editor/readme_add_new_link.png\n",
            "\u001b[32m[I 17:17:43 InstallContribNbextensionsApp]\u001b[m Copying: /usr/local/lib/python3.10/dist-packages/jupyter_contrib_nbextensions/nbextensions/keyboard_shortcut_editor/readme_dropdown.png -> /root/.local/share/jupyter/nbextensions/keyboard_shortcut_editor/readme_dropdown.png\n",
            "\u001b[32m[I 17:17:43 InstallContribNbextensionsApp]\u001b[m Copying: /usr/local/lib/python3.10/dist-packages/jupyter_contrib_nbextensions/nbextensions/keyboard_shortcut_editor/README.md -> /root/.local/share/jupyter/nbextensions/keyboard_shortcut_editor/README.md\n",
            "\u001b[32m[I 17:17:43 InstallContribNbextensionsApp]\u001b[m Copying: /usr/local/lib/python3.10/dist-packages/jupyter_contrib_nbextensions/nbextensions/keyboard_shortcut_editor/quickhelp_shim.js -> /root/.local/share/jupyter/nbextensions/keyboard_shortcut_editor/quickhelp_shim.js\n",
            "\u001b[32m[I 17:17:43 InstallContribNbextensionsApp]\u001b[m Copying: /usr/local/lib/python3.10/dist-packages/jupyter_contrib_nbextensions/nbextensions/keyboard_shortcut_editor/kse_components.js -> /root/.local/share/jupyter/nbextensions/keyboard_shortcut_editor/kse_components.js\n",
            "\u001b[32m[I 17:17:43 InstallContribNbextensionsApp]\u001b[m Copying: /usr/local/lib/python3.10/dist-packages/jupyter_contrib_nbextensions/nbextensions/keyboard_shortcut_editor/readme_reset_disabled.png -> /root/.local/share/jupyter/nbextensions/keyboard_shortcut_editor/readme_reset_disabled.png\n",
            "\u001b[32m[I 17:17:43 InstallContribNbextensionsApp]\u001b[m Copying: /usr/local/lib/python3.10/dist-packages/jupyter_contrib_nbextensions/nbextensions/keyboard_shortcut_editor/main.js -> /root/.local/share/jupyter/nbextensions/keyboard_shortcut_editor/main.js\n",
            "\u001b[32m[I 17:17:43 InstallContribNbextensionsApp]\u001b[m Copying: /usr/local/lib/python3.10/dist-packages/jupyter_contrib_nbextensions/nbextensions/keyboard_shortcut_editor/keyboard_shortcut_editor.yaml -> /root/.local/share/jupyter/nbextensions/keyboard_shortcut_editor/keyboard_shortcut_editor.yaml\n",
            "\u001b[32m[I 17:17:43 InstallContribNbextensionsApp]\u001b[m Copying: /usr/local/lib/python3.10/dist-packages/jupyter_contrib_nbextensions/nbextensions/keyboard_shortcut_editor/readme_conflict.png -> /root/.local/share/jupyter/nbextensions/keyboard_shortcut_editor/readme_conflict.png\n",
            "\u001b[32m[I 17:17:43 InstallContribNbextensionsApp]\u001b[m Copying: /usr/local/lib/python3.10/dist-packages/jupyter_contrib_nbextensions/nbextensions/keyboard_shortcut_editor/readme_shortcut_editor_blank.png -> /root/.local/share/jupyter/nbextensions/keyboard_shortcut_editor/readme_shortcut_editor_blank.png\n",
            "\u001b[32m[I 17:17:43 InstallContribNbextensionsApp]\u001b[m Copying: /usr/local/lib/python3.10/dist-packages/jupyter_contrib_nbextensions/nbextensions/keyboard_shortcut_editor/readme_add_new_select_action.png -> /root/.local/share/jupyter/nbextensions/keyboard_shortcut_editor/readme_add_new_select_action.png\n",
            "\u001b[32m[I 17:17:43 InstallContribNbextensionsApp]\u001b[m Copying: /usr/local/lib/python3.10/dist-packages/jupyter_contrib_nbextensions/nbextensions/keyboard_shortcut_editor/readme_comma.png -> /root/.local/share/jupyter/nbextensions/keyboard_shortcut_editor/readme_comma.png\n",
            "\u001b[32m[I 17:17:43 InstallContribNbextensionsApp]\u001b[m Copying: /usr/local/lib/python3.10/dist-packages/jupyter_contrib_nbextensions/nbextensions/keyboard_shortcut_editor/readme_menu_item.png -> /root/.local/share/jupyter/nbextensions/keyboard_shortcut_editor/readme_menu_item.png\n",
            "\u001b[32m[I 17:17:43 InstallContribNbextensionsApp]\u001b[m Copying: /usr/local/lib/python3.10/dist-packages/jupyter_contrib_nbextensions/nbextensions/keyboard_shortcut_editor/readme_shortcut_editor_success.png -> /root/.local/share/jupyter/nbextensions/keyboard_shortcut_editor/readme_shortcut_editor_success.png\n",
            "\u001b[32m[I 17:17:43 InstallContribNbextensionsApp]\u001b[m Copying: /usr/local/lib/python3.10/dist-packages/jupyter_contrib_nbextensions/nbextensions/keyboard_shortcut_editor/icon.png -> /root/.local/share/jupyter/nbextensions/keyboard_shortcut_editor/icon.png\n",
            "\u001b[32m[I 17:17:43 InstallContribNbextensionsApp]\u001b[m Copying: /usr/local/lib/python3.10/dist-packages/jupyter_contrib_nbextensions/nbextensions/keyboard_shortcut_editor/main.css -> /root/.local/share/jupyter/nbextensions/keyboard_shortcut_editor/main.css\n",
            "\u001b[32m[I 17:17:43 InstallContribNbextensionsApp]\u001b[m - Validating: \u001b[32mOK\u001b[0m\n",
            "\u001b[32m[I 17:17:43 InstallContribNbextensionsApp]\u001b[m Installing /usr/local/lib/python3.10/dist-packages/jupyter_contrib_nbextensions/nbextensions/scratchpad -> scratchpad\n",
            "\u001b[32m[I 17:17:43 InstallContribNbextensionsApp]\u001b[m Making directory: /root/.local/share/jupyter/nbextensions/scratchpad/\n",
            "\u001b[32m[I 17:17:43 InstallContribNbextensionsApp]\u001b[m Copying: /usr/local/lib/python3.10/dist-packages/jupyter_contrib_nbextensions/nbextensions/scratchpad/README.md -> /root/.local/share/jupyter/nbextensions/scratchpad/README.md\n",
            "\u001b[32m[I 17:17:43 InstallContribNbextensionsApp]\u001b[m Copying: /usr/local/lib/python3.10/dist-packages/jupyter_contrib_nbextensions/nbextensions/scratchpad/main.js -> /root/.local/share/jupyter/nbextensions/scratchpad/main.js\n",
            "\u001b[32m[I 17:17:43 InstallContribNbextensionsApp]\u001b[m Copying: /usr/local/lib/python3.10/dist-packages/jupyter_contrib_nbextensions/nbextensions/scratchpad/demo.gif -> /root/.local/share/jupyter/nbextensions/scratchpad/demo.gif\n",
            "\u001b[32m[I 17:17:43 InstallContribNbextensionsApp]\u001b[m Copying: /usr/local/lib/python3.10/dist-packages/jupyter_contrib_nbextensions/nbextensions/scratchpad/LICENSE -> /root/.local/share/jupyter/nbextensions/scratchpad/LICENSE\n",
            "\u001b[32m[I 17:17:43 InstallContribNbextensionsApp]\u001b[m Copying: /usr/local/lib/python3.10/dist-packages/jupyter_contrib_nbextensions/nbextensions/scratchpad/scratchpad.yaml -> /root/.local/share/jupyter/nbextensions/scratchpad/scratchpad.yaml\n",
            "\u001b[32m[I 17:17:43 InstallContribNbextensionsApp]\u001b[m Copying: /usr/local/lib/python3.10/dist-packages/jupyter_contrib_nbextensions/nbextensions/scratchpad/scratchpad.css -> /root/.local/share/jupyter/nbextensions/scratchpad/scratchpad.css\n",
            "\u001b[32m[I 17:17:43 InstallContribNbextensionsApp]\u001b[m - Validating: \u001b[32mOK\u001b[0m\n",
            "\u001b[32m[I 17:17:43 InstallContribNbextensionsApp]\u001b[m Installing /usr/local/lib/python3.10/dist-packages/jupyter_contrib_nbextensions/nbextensions/snippets_menu -> snippets_menu\n",
            "\u001b[32m[I 17:17:43 InstallContribNbextensionsApp]\u001b[m Making directory: /root/.local/share/jupyter/nbextensions/snippets_menu/\n",
            "\u001b[32m[I 17:17:43 InstallContribNbextensionsApp]\u001b[m Copying: /usr/local/lib/python3.10/dist-packages/jupyter_contrib_nbextensions/nbextensions/snippets_menu/snippets_menu.css -> /root/.local/share/jupyter/nbextensions/snippets_menu/snippets_menu.css\n",
            "\u001b[32m[I 17:17:43 InstallContribNbextensionsApp]\u001b[m Copying: /usr/local/lib/python3.10/dist-packages/jupyter_contrib_nbextensions/nbextensions/snippets_menu/config.yaml -> /root/.local/share/jupyter/nbextensions/snippets_menu/config.yaml\n",
            "\u001b[32m[I 17:17:43 InstallContribNbextensionsApp]\u001b[m Copying: /usr/local/lib/python3.10/dist-packages/jupyter_contrib_nbextensions/nbextensions/snippets_menu/screenshot3.png -> /root/.local/share/jupyter/nbextensions/snippets_menu/screenshot3.png\n",
            "\u001b[32m[I 17:17:43 InstallContribNbextensionsApp]\u001b[m Copying: /usr/local/lib/python3.10/dist-packages/jupyter_contrib_nbextensions/nbextensions/snippets_menu/examples_for_custom.js -> /root/.local/share/jupyter/nbextensions/snippets_menu/examples_for_custom.js\n",
            "\u001b[32m[I 17:17:43 InstallContribNbextensionsApp]\u001b[m Copying: /usr/local/lib/python3.10/dist-packages/jupyter_contrib_nbextensions/nbextensions/snippets_menu/snippets_submenu_markdown.js -> /root/.local/share/jupyter/nbextensions/snippets_menu/snippets_submenu_markdown.js\n",
            "\u001b[32m[I 17:17:43 InstallContribNbextensionsApp]\u001b[m Copying: /usr/local/lib/python3.10/dist-packages/jupyter_contrib_nbextensions/nbextensions/snippets_menu/snippets_submenu_python.js -> /root/.local/share/jupyter/nbextensions/snippets_menu/snippets_submenu_python.js\n",
            "\u001b[32m[I 17:17:43 InstallContribNbextensionsApp]\u001b[m Copying: /usr/local/lib/python3.10/dist-packages/jupyter_contrib_nbextensions/nbextensions/snippets_menu/main.js -> /root/.local/share/jupyter/nbextensions/snippets_menu/main.js\n",
            "\u001b[32m[I 17:17:43 InstallContribNbextensionsApp]\u001b[m Copying: /usr/local/lib/python3.10/dist-packages/jupyter_contrib_nbextensions/nbextensions/snippets_menu/screenshot1.png -> /root/.local/share/jupyter/nbextensions/snippets_menu/screenshot1.png\n",
            "\u001b[32m[I 17:17:43 InstallContribNbextensionsApp]\u001b[m Copying: /usr/local/lib/python3.10/dist-packages/jupyter_contrib_nbextensions/nbextensions/snippets_menu/thumbnail.png -> /root/.local/share/jupyter/nbextensions/snippets_menu/thumbnail.png\n",
            "\u001b[32m[I 17:17:43 InstallContribNbextensionsApp]\u001b[m Copying: /usr/local/lib/python3.10/dist-packages/jupyter_contrib_nbextensions/nbextensions/snippets_menu/readme.md -> /root/.local/share/jupyter/nbextensions/snippets_menu/readme.md\n",
            "\u001b[32m[I 17:17:43 InstallContribNbextensionsApp]\u001b[m Copying: /usr/local/lib/python3.10/dist-packages/jupyter_contrib_nbextensions/nbextensions/snippets_menu/screenshot2.png -> /root/.local/share/jupyter/nbextensions/snippets_menu/screenshot2.png\n",
            "\u001b[32m[I 17:17:43 InstallContribNbextensionsApp]\u001b[m Making directory: /root/.local/share/jupyter/nbextensions/snippets_menu/snippets_submenus_python\n",
            "\u001b[32m[I 17:17:43 InstallContribNbextensionsApp]\u001b[m Copying: /usr/local/lib/python3.10/dist-packages/jupyter_contrib_nbextensions/nbextensions/snippets_menu/snippets_submenus_python/pandas.js -> /root/.local/share/jupyter/nbextensions/snippets_menu/snippets_submenus_python/pandas.js\n",
            "\u001b[32m[I 17:17:43 InstallContribNbextensionsApp]\u001b[m Copying: /usr/local/lib/python3.10/dist-packages/jupyter_contrib_nbextensions/nbextensions/snippets_menu/snippets_submenus_python/astropy.js -> /root/.local/share/jupyter/nbextensions/snippets_menu/snippets_submenus_python/astropy.js\n",
            "\u001b[32m[I 17:17:43 InstallContribNbextensionsApp]\u001b[m Copying: /usr/local/lib/python3.10/dist-packages/jupyter_contrib_nbextensions/nbextensions/snippets_menu/snippets_submenus_python/python_regex.js -> /root/.local/share/jupyter/nbextensions/snippets_menu/snippets_submenus_python/python_regex.js\n",
            "\u001b[32m[I 17:17:43 InstallContribNbextensionsApp]\u001b[m Copying: /usr/local/lib/python3.10/dist-packages/jupyter_contrib_nbextensions/nbextensions/snippets_menu/snippets_submenus_python/scipy_constants.js -> /root/.local/share/jupyter/nbextensions/snippets_menu/snippets_submenus_python/scipy_constants.js\n",
            "\u001b[32m[I 17:17:43 InstallContribNbextensionsApp]\u001b[m Copying: /usr/local/lib/python3.10/dist-packages/jupyter_contrib_nbextensions/nbextensions/snippets_menu/snippets_submenus_python/sympy_functions.js -> /root/.local/share/jupyter/nbextensions/snippets_menu/snippets_submenus_python/sympy_functions.js\n",
            "\u001b[32m[I 17:17:43 InstallContribNbextensionsApp]\u001b[m Copying: /usr/local/lib/python3.10/dist-packages/jupyter_contrib_nbextensions/nbextensions/snippets_menu/snippets_submenus_python/scipy_special.js -> /root/.local/share/jupyter/nbextensions/snippets_menu/snippets_submenus_python/scipy_special.js\n",
            "\u001b[32m[I 17:17:43 InstallContribNbextensionsApp]\u001b[m Copying: /usr/local/lib/python3.10/dist-packages/jupyter_contrib_nbextensions/nbextensions/snippets_menu/snippets_submenus_python/scipy.js -> /root/.local/share/jupyter/nbextensions/snippets_menu/snippets_submenus_python/scipy.js\n",
            "\u001b[32m[I 17:17:43 InstallContribNbextensionsApp]\u001b[m Copying: /usr/local/lib/python3.10/dist-packages/jupyter_contrib_nbextensions/nbextensions/snippets_menu/snippets_submenus_python/numpy.js -> /root/.local/share/jupyter/nbextensions/snippets_menu/snippets_submenus_python/numpy.js\n",
            "\u001b[32m[I 17:17:43 InstallContribNbextensionsApp]\u001b[m Copying: /usr/local/lib/python3.10/dist-packages/jupyter_contrib_nbextensions/nbextensions/snippets_menu/snippets_submenus_python/numpy_ufuncs.js -> /root/.local/share/jupyter/nbextensions/snippets_menu/snippets_submenus_python/numpy_ufuncs.js\n",
            "\u001b[32m[I 17:17:43 InstallContribNbextensionsApp]\u001b[m Copying: /usr/local/lib/python3.10/dist-packages/jupyter_contrib_nbextensions/nbextensions/snippets_menu/snippets_submenus_python/numpy_polynomial.js -> /root/.local/share/jupyter/nbextensions/snippets_menu/snippets_submenus_python/numpy_polynomial.js\n",
            "\u001b[32m[I 17:17:43 InstallContribNbextensionsApp]\u001b[m Copying: /usr/local/lib/python3.10/dist-packages/jupyter_contrib_nbextensions/nbextensions/snippets_menu/snippets_submenus_python/sympy_assumptions.js -> /root/.local/share/jupyter/nbextensions/snippets_menu/snippets_submenus_python/sympy_assumptions.js\n",
            "\u001b[32m[I 17:17:43 InstallContribNbextensionsApp]\u001b[m Copying: /usr/local/lib/python3.10/dist-packages/jupyter_contrib_nbextensions/nbextensions/snippets_menu/snippets_submenus_python/sympy.js -> /root/.local/share/jupyter/nbextensions/snippets_menu/snippets_submenus_python/sympy.js\n",
            "\u001b[32m[I 17:17:43 InstallContribNbextensionsApp]\u001b[m Copying: /usr/local/lib/python3.10/dist-packages/jupyter_contrib_nbextensions/nbextensions/snippets_menu/snippets_submenus_python/numba.js -> /root/.local/share/jupyter/nbextensions/snippets_menu/snippets_submenus_python/numba.js\n",
            "\u001b[32m[I 17:17:43 InstallContribNbextensionsApp]\u001b[m Copying: /usr/local/lib/python3.10/dist-packages/jupyter_contrib_nbextensions/nbextensions/snippets_menu/snippets_submenus_python/h5py.js -> /root/.local/share/jupyter/nbextensions/snippets_menu/snippets_submenus_python/h5py.js\n",
            "\u001b[32m[I 17:17:43 InstallContribNbextensionsApp]\u001b[m Copying: /usr/local/lib/python3.10/dist-packages/jupyter_contrib_nbextensions/nbextensions/snippets_menu/snippets_submenus_python/matplotlib.js -> /root/.local/share/jupyter/nbextensions/snippets_menu/snippets_submenus_python/matplotlib.js\n",
            "\u001b[32m[I 17:17:43 InstallContribNbextensionsApp]\u001b[m Copying: /usr/local/lib/python3.10/dist-packages/jupyter_contrib_nbextensions/nbextensions/snippets_menu/snippets_submenus_python/python.js -> /root/.local/share/jupyter/nbextensions/snippets_menu/snippets_submenus_python/python.js\n",
            "\u001b[32m[I 17:17:43 InstallContribNbextensionsApp]\u001b[m - Validating: \u001b[32mOK\u001b[0m\n",
            "\u001b[32m[I 17:17:43 InstallContribNbextensionsApp]\u001b[m Installing /usr/local/lib/python3.10/dist-packages/jupyter_contrib_nbextensions/nbextensions/varInspector -> varInspector\n",
            "\u001b[32m[I 17:17:43 InstallContribNbextensionsApp]\u001b[m Making directory: /root/.local/share/jupyter/nbextensions/varInspector/\n",
            "\u001b[32m[I 17:17:43 InstallContribNbextensionsApp]\u001b[m Copying: /usr/local/lib/python3.10/dist-packages/jupyter_contrib_nbextensions/nbextensions/varInspector/var_list.py -> /root/.local/share/jupyter/nbextensions/varInspector/var_list.py\n",
            "\u001b[32m[I 17:17:43 InstallContribNbextensionsApp]\u001b[m Copying: /usr/local/lib/python3.10/dist-packages/jupyter_contrib_nbextensions/nbextensions/varInspector/README.md -> /root/.local/share/jupyter/nbextensions/varInspector/README.md\n",
            "\u001b[32m[I 17:17:43 InstallContribNbextensionsApp]\u001b[m Copying: /usr/local/lib/python3.10/dist-packages/jupyter_contrib_nbextensions/nbextensions/varInspector/main.js -> /root/.local/share/jupyter/nbextensions/varInspector/main.js\n",
            "\u001b[32m[I 17:17:43 InstallContribNbextensionsApp]\u001b[m Copying: /usr/local/lib/python3.10/dist-packages/jupyter_contrib_nbextensions/nbextensions/varInspector/tablesorter_LICENSE.txt -> /root/.local/share/jupyter/nbextensions/varInspector/tablesorter_LICENSE.txt\n",
            "\u001b[32m[I 17:17:43 InstallContribNbextensionsApp]\u001b[m Copying: /usr/local/lib/python3.10/dist-packages/jupyter_contrib_nbextensions/nbextensions/varInspector/var_list.r -> /root/.local/share/jupyter/nbextensions/varInspector/var_list.r\n",
            "\u001b[32m[I 17:17:43 InstallContribNbextensionsApp]\u001b[m Copying: /usr/local/lib/python3.10/dist-packages/jupyter_contrib_nbextensions/nbextensions/varInspector/varInspector.yaml -> /root/.local/share/jupyter/nbextensions/varInspector/varInspector.yaml\n",
            "\u001b[32m[I 17:17:43 InstallContribNbextensionsApp]\u001b[m Copying: /usr/local/lib/python3.10/dist-packages/jupyter_contrib_nbextensions/nbextensions/varInspector/demo.gif -> /root/.local/share/jupyter/nbextensions/varInspector/demo.gif\n",
            "\u001b[32m[I 17:17:43 InstallContribNbextensionsApp]\u001b[m Copying: /usr/local/lib/python3.10/dist-packages/jupyter_contrib_nbextensions/nbextensions/varInspector/jquery.tablesorter.min.js -> /root/.local/share/jupyter/nbextensions/varInspector/jquery.tablesorter.min.js\n",
            "\u001b[32m[I 17:17:43 InstallContribNbextensionsApp]\u001b[m Copying: /usr/local/lib/python3.10/dist-packages/jupyter_contrib_nbextensions/nbextensions/varInspector/icon.png -> /root/.local/share/jupyter/nbextensions/varInspector/icon.png\n",
            "\u001b[32m[I 17:17:43 InstallContribNbextensionsApp]\u001b[m Copying: /usr/local/lib/python3.10/dist-packages/jupyter_contrib_nbextensions/nbextensions/varInspector/main.css -> /root/.local/share/jupyter/nbextensions/varInspector/main.css\n",
            "\u001b[32m[I 17:17:43 InstallContribNbextensionsApp]\u001b[m Making directory: /root/.local/share/jupyter/nbextensions/varInspector/__pycache__\n",
            "\u001b[32m[I 17:17:43 InstallContribNbextensionsApp]\u001b[m Copying: /usr/local/lib/python3.10/dist-packages/jupyter_contrib_nbextensions/nbextensions/varInspector/__pycache__/var_list.cpython-310.pyc -> /root/.local/share/jupyter/nbextensions/varInspector/__pycache__/var_list.cpython-310.pyc\n",
            "\u001b[32m[I 17:17:43 InstallContribNbextensionsApp]\u001b[m - Validating: \u001b[32mOK\u001b[0m\n",
            "\u001b[32m[I 17:17:43 InstallContribNbextensionsApp]\u001b[m Installing /usr/local/lib/python3.10/dist-packages/jupyter_contrib_nbextensions/nbextensions/equation-numbering -> equation-numbering\n",
            "\u001b[32m[I 17:17:43 InstallContribNbextensionsApp]\u001b[m Making directory: /root/.local/share/jupyter/nbextensions/equation-numbering/\n",
            "\u001b[32m[I 17:17:43 InstallContribNbextensionsApp]\u001b[m Copying: /usr/local/lib/python3.10/dist-packages/jupyter_contrib_nbextensions/nbextensions/equation-numbering/info.yaml -> /root/.local/share/jupyter/nbextensions/equation-numbering/info.yaml\n",
            "\u001b[32m[I 17:17:43 InstallContribNbextensionsApp]\u001b[m Copying: /usr/local/lib/python3.10/dist-packages/jupyter_contrib_nbextensions/nbextensions/equation-numbering/main.js -> /root/.local/share/jupyter/nbextensions/equation-numbering/main.js\n",
            "\u001b[32m[I 17:17:43 InstallContribNbextensionsApp]\u001b[m Copying: /usr/local/lib/python3.10/dist-packages/jupyter_contrib_nbextensions/nbextensions/equation-numbering/readme.md -> /root/.local/share/jupyter/nbextensions/equation-numbering/readme.md\n",
            "\u001b[32m[I 17:17:43 InstallContribNbextensionsApp]\u001b[m Copying: /usr/local/lib/python3.10/dist-packages/jupyter_contrib_nbextensions/nbextensions/equation-numbering/button.png -> /root/.local/share/jupyter/nbextensions/equation-numbering/button.png\n",
            "\u001b[32m[I 17:17:43 InstallContribNbextensionsApp]\u001b[m Copying: /usr/local/lib/python3.10/dist-packages/jupyter_contrib_nbextensions/nbextensions/equation-numbering/icon.png -> /root/.local/share/jupyter/nbextensions/equation-numbering/icon.png\n",
            "\u001b[32m[I 17:17:43 InstallContribNbextensionsApp]\u001b[m - Validating: \u001b[32mOK\u001b[0m\n",
            "\u001b[32m[I 17:17:43 InstallContribNbextensionsApp]\u001b[m Installing /usr/local/lib/python3.10/dist-packages/jupyter_contrib_nbextensions/nbextensions/export_embedded -> export_embedded\n",
            "\u001b[32m[I 17:17:43 InstallContribNbextensionsApp]\u001b[m Making directory: /root/.local/share/jupyter/nbextensions/export_embedded/\n",
            "\u001b[32m[I 17:17:43 InstallContribNbextensionsApp]\u001b[m Copying: /usr/local/lib/python3.10/dist-packages/jupyter_contrib_nbextensions/nbextensions/export_embedded/export_embedded.yaml -> /root/.local/share/jupyter/nbextensions/export_embedded/export_embedded.yaml\n",
            "\u001b[32m[I 17:17:43 InstallContribNbextensionsApp]\u001b[m Copying: /usr/local/lib/python3.10/dist-packages/jupyter_contrib_nbextensions/nbextensions/export_embedded/main.js -> /root/.local/share/jupyter/nbextensions/export_embedded/main.js\n",
            "\u001b[32m[I 17:17:43 InstallContribNbextensionsApp]\u001b[m Copying: /usr/local/lib/python3.10/dist-packages/jupyter_contrib_nbextensions/nbextensions/export_embedded/readme.md -> /root/.local/share/jupyter/nbextensions/export_embedded/readme.md\n",
            "\u001b[32m[I 17:17:43 InstallContribNbextensionsApp]\u001b[m Copying: /usr/local/lib/python3.10/dist-packages/jupyter_contrib_nbextensions/nbextensions/export_embedded/icon.png -> /root/.local/share/jupyter/nbextensions/export_embedded/icon.png\n",
            "\u001b[32m[I 17:17:43 InstallContribNbextensionsApp]\u001b[m - Validating: \u001b[32mOK\u001b[0m\n",
            "\u001b[32m[I 17:17:43 InstallContribNbextensionsApp]\u001b[m Installing /usr/local/lib/python3.10/dist-packages/jupyter_contrib_nbextensions/nbextensions/autoscroll -> autoscroll\n",
            "\u001b[32m[I 17:17:43 InstallContribNbextensionsApp]\u001b[m Making directory: /root/.local/share/jupyter/nbextensions/autoscroll/\n",
            "\u001b[32m[I 17:17:43 InstallContribNbextensionsApp]\u001b[m Copying: /usr/local/lib/python3.10/dist-packages/jupyter_contrib_nbextensions/nbextensions/autoscroll/README.md -> /root/.local/share/jupyter/nbextensions/autoscroll/README.md\n",
            "\u001b[32m[I 17:17:43 InstallContribNbextensionsApp]\u001b[m Copying: /usr/local/lib/python3.10/dist-packages/jupyter_contrib_nbextensions/nbextensions/autoscroll/main.js -> /root/.local/share/jupyter/nbextensions/autoscroll/main.js\n",
            "\u001b[32m[I 17:17:43 InstallContribNbextensionsApp]\u001b[m Copying: /usr/local/lib/python3.10/dist-packages/jupyter_contrib_nbextensions/nbextensions/autoscroll/autoscroll.yaml -> /root/.local/share/jupyter/nbextensions/autoscroll/autoscroll.yaml\n",
            "\u001b[32m[I 17:17:43 InstallContribNbextensionsApp]\u001b[m Copying: /usr/local/lib/python3.10/dist-packages/jupyter_contrib_nbextensions/nbextensions/autoscroll/icon.png -> /root/.local/share/jupyter/nbextensions/autoscroll/icon.png\n",
            "\u001b[32m[I 17:17:43 InstallContribNbextensionsApp]\u001b[m - Validating: \u001b[32mOK\u001b[0m\n",
            "\u001b[32m[I 17:17:43 InstallContribNbextensionsApp]\u001b[m Installing /usr/local/lib/python3.10/dist-packages/jupyter_contrib_nbextensions/nbextensions/ruler -> ruler\n",
            "\u001b[32m[I 17:17:43 InstallContribNbextensionsApp]\u001b[m Making directory: /root/.local/share/jupyter/nbextensions/ruler/\n",
            "\u001b[32m[I 17:17:43 InstallContribNbextensionsApp]\u001b[m Copying: /usr/local/lib/python3.10/dist-packages/jupyter_contrib_nbextensions/nbextensions/ruler/ruler.yaml -> /root/.local/share/jupyter/nbextensions/ruler/ruler.yaml\n",
            "\u001b[32m[I 17:17:43 InstallContribNbextensionsApp]\u001b[m Copying: /usr/local/lib/python3.10/dist-packages/jupyter_contrib_nbextensions/nbextensions/ruler/main.js -> /root/.local/share/jupyter/nbextensions/ruler/main.js\n",
            "\u001b[32m[I 17:17:43 InstallContribNbextensionsApp]\u001b[m Copying: /usr/local/lib/python3.10/dist-packages/jupyter_contrib_nbextensions/nbextensions/ruler/edit.js -> /root/.local/share/jupyter/nbextensions/ruler/edit.js\n",
            "\u001b[32m[I 17:17:43 InstallContribNbextensionsApp]\u001b[m Copying: /usr/local/lib/python3.10/dist-packages/jupyter_contrib_nbextensions/nbextensions/ruler/ruler_editor.yaml -> /root/.local/share/jupyter/nbextensions/ruler/ruler_editor.yaml\n",
            "\u001b[32m[I 17:17:43 InstallContribNbextensionsApp]\u001b[m Copying: /usr/local/lib/python3.10/dist-packages/jupyter_contrib_nbextensions/nbextensions/ruler/readme.md -> /root/.local/share/jupyter/nbextensions/ruler/readme.md\n",
            "\u001b[32m[I 17:17:43 InstallContribNbextensionsApp]\u001b[m Copying: /usr/local/lib/python3.10/dist-packages/jupyter_contrib_nbextensions/nbextensions/ruler/icon.png -> /root/.local/share/jupyter/nbextensions/ruler/icon.png\n",
            "\u001b[32m[I 17:17:43 InstallContribNbextensionsApp]\u001b[m - Validating: \u001b[32mOK\u001b[0m\n",
            "\u001b[32m[I 17:17:43 InstallContribNbextensionsApp]\u001b[m Installing /usr/local/lib/python3.10/dist-packages/jupyter_contrib_nbextensions/nbextensions/ruler -> ruler\n",
            "\u001b[32m[I 17:17:43 InstallContribNbextensionsApp]\u001b[m Up to date: /root/.local/share/jupyter/nbextensions/ruler/ruler.yaml\n",
            "\u001b[32m[I 17:17:43 InstallContribNbextensionsApp]\u001b[m Up to date: /root/.local/share/jupyter/nbextensions/ruler/main.js\n",
            "\u001b[32m[I 17:17:43 InstallContribNbextensionsApp]\u001b[m Up to date: /root/.local/share/jupyter/nbextensions/ruler/edit.js\n",
            "\u001b[32m[I 17:17:43 InstallContribNbextensionsApp]\u001b[m Up to date: /root/.local/share/jupyter/nbextensions/ruler/ruler_editor.yaml\n",
            "\u001b[32m[I 17:17:43 InstallContribNbextensionsApp]\u001b[m Up to date: /root/.local/share/jupyter/nbextensions/ruler/readme.md\n",
            "\u001b[32m[I 17:17:43 InstallContribNbextensionsApp]\u001b[m Up to date: /root/.local/share/jupyter/nbextensions/ruler/icon.png\n",
            "\u001b[32m[I 17:17:43 InstallContribNbextensionsApp]\u001b[m - Validating: \u001b[32mOK\u001b[0m\n",
            "\u001b[32m[I 17:17:43 InstallContribNbextensionsApp]\u001b[m Installing /usr/local/lib/python3.10/dist-packages/jupyter_contrib_nbextensions/nbextensions/snippets -> snippets\n",
            "\u001b[32m[I 17:17:43 InstallContribNbextensionsApp]\u001b[m Making directory: /root/.local/share/jupyter/nbextensions/snippets/\n",
            "\u001b[32m[I 17:17:43 InstallContribNbextensionsApp]\u001b[m Copying: /usr/local/lib/python3.10/dist-packages/jupyter_contrib_nbextensions/nbextensions/snippets/snippets.yaml -> /root/.local/share/jupyter/nbextensions/snippets/snippets.yaml\n",
            "\u001b[32m[I 17:17:43 InstallContribNbextensionsApp]\u001b[m Copying: /usr/local/lib/python3.10/dist-packages/jupyter_contrib_nbextensions/nbextensions/snippets/snippets.json -> /root/.local/share/jupyter/nbextensions/snippets/snippets.json\n",
            "\u001b[32m[I 17:17:43 InstallContribNbextensionsApp]\u001b[m Copying: /usr/local/lib/python3.10/dist-packages/jupyter_contrib_nbextensions/nbextensions/snippets/README.md -> /root/.local/share/jupyter/nbextensions/snippets/README.md\n",
            "\u001b[32m[I 17:17:43 InstallContribNbextensionsApp]\u001b[m Copying: /usr/local/lib/python3.10/dist-packages/jupyter_contrib_nbextensions/nbextensions/snippets/main.js -> /root/.local/share/jupyter/nbextensions/snippets/main.js\n",
            "\u001b[32m[I 17:17:43 InstallContribNbextensionsApp]\u001b[m Copying: /usr/local/lib/python3.10/dist-packages/jupyter_contrib_nbextensions/nbextensions/snippets/snippets-demo.gif -> /root/.local/share/jupyter/nbextensions/snippets/snippets-demo.gif\n",
            "\u001b[32m[I 17:17:43 InstallContribNbextensionsApp]\u001b[m - Validating: \u001b[32mOK\u001b[0m\n",
            "\u001b[32m[I 17:17:43 InstallContribNbextensionsApp]\u001b[m Installing /usr/local/lib/python3.10/dist-packages/jupyter_contrib_nbextensions/nbextensions/hinterland -> hinterland\n",
            "\u001b[32m[I 17:17:43 InstallContribNbextensionsApp]\u001b[m Making directory: /root/.local/share/jupyter/nbextensions/hinterland/\n",
            "\u001b[32m[I 17:17:43 InstallContribNbextensionsApp]\u001b[m Copying: /usr/local/lib/python3.10/dist-packages/jupyter_contrib_nbextensions/nbextensions/hinterland/README.md -> /root/.local/share/jupyter/nbextensions/hinterland/README.md\n",
            "\u001b[32m[I 17:17:43 InstallContribNbextensionsApp]\u001b[m Copying: /usr/local/lib/python3.10/dist-packages/jupyter_contrib_nbextensions/nbextensions/hinterland/hinterland.js -> /root/.local/share/jupyter/nbextensions/hinterland/hinterland.js\n",
            "\u001b[32m[I 17:17:43 InstallContribNbextensionsApp]\u001b[m Copying: /usr/local/lib/python3.10/dist-packages/jupyter_contrib_nbextensions/nbextensions/hinterland/hinterland.yaml -> /root/.local/share/jupyter/nbextensions/hinterland/hinterland.yaml\n",
            "\u001b[32m[I 17:17:43 InstallContribNbextensionsApp]\u001b[m - Validating: \u001b[32mOK\u001b[0m\n",
            "\u001b[32m[I 17:17:43 InstallContribNbextensionsApp]\u001b[m Installing /usr/local/lib/python3.10/dist-packages/jupyter_contrib_nbextensions/nbextensions/toggle_all_line_numbers -> toggle_all_line_numbers\n",
            "\u001b[32m[I 17:17:43 InstallContribNbextensionsApp]\u001b[m Making directory: /root/.local/share/jupyter/nbextensions/toggle_all_line_numbers/\n",
            "\u001b[32m[I 17:17:43 InstallContribNbextensionsApp]\u001b[m Copying: /usr/local/lib/python3.10/dist-packages/jupyter_contrib_nbextensions/nbextensions/toggle_all_line_numbers/main.js -> /root/.local/share/jupyter/nbextensions/toggle_all_line_numbers/main.js\n",
            "\u001b[32m[I 17:17:43 InstallContribNbextensionsApp]\u001b[m Copying: /usr/local/lib/python3.10/dist-packages/jupyter_contrib_nbextensions/nbextensions/toggle_all_line_numbers/readme.md -> /root/.local/share/jupyter/nbextensions/toggle_all_line_numbers/readme.md\n",
            "\u001b[32m[I 17:17:43 InstallContribNbextensionsApp]\u001b[m Copying: /usr/local/lib/python3.10/dist-packages/jupyter_contrib_nbextensions/nbextensions/toggle_all_line_numbers/main.yaml -> /root/.local/share/jupyter/nbextensions/toggle_all_line_numbers/main.yaml\n",
            "\u001b[32m[I 17:17:43 InstallContribNbextensionsApp]\u001b[m Copying: /usr/local/lib/python3.10/dist-packages/jupyter_contrib_nbextensions/nbextensions/toggle_all_line_numbers/icon.png -> /root/.local/share/jupyter/nbextensions/toggle_all_line_numbers/icon.png\n",
            "\u001b[32m[I 17:17:43 InstallContribNbextensionsApp]\u001b[m - Validating: \u001b[32mOK\u001b[0m\n",
            "\u001b[32m[I 17:17:43 InstallContribNbextensionsApp]\u001b[m Installing /usr/local/lib/python3.10/dist-packages/jupyter_contrib_nbextensions/nbextensions/python-markdown -> python-markdown\n",
            "\u001b[32m[I 17:17:43 InstallContribNbextensionsApp]\u001b[m Making directory: /root/.local/share/jupyter/nbextensions/python-markdown/\n",
            "\u001b[32m[I 17:17:43 InstallContribNbextensionsApp]\u001b[m Copying: /usr/local/lib/python3.10/dist-packages/jupyter_contrib_nbextensions/nbextensions/python-markdown/main.js -> /root/.local/share/jupyter/nbextensions/python-markdown/main.js\n",
            "\u001b[32m[I 17:17:43 InstallContribNbextensionsApp]\u001b[m Copying: /usr/local/lib/python3.10/dist-packages/jupyter_contrib_nbextensions/nbextensions/python-markdown/python-markdown-post.png -> /root/.local/share/jupyter/nbextensions/python-markdown/python-markdown-post.png\n",
            "\u001b[32m[I 17:17:43 InstallContribNbextensionsApp]\u001b[m Copying: /usr/local/lib/python3.10/dist-packages/jupyter_contrib_nbextensions/nbextensions/python-markdown/python-markdown.png -> /root/.local/share/jupyter/nbextensions/python-markdown/python-markdown.png\n",
            "\u001b[32m[I 17:17:43 InstallContribNbextensionsApp]\u001b[m Copying: /usr/local/lib/python3.10/dist-packages/jupyter_contrib_nbextensions/nbextensions/python-markdown/readme.md -> /root/.local/share/jupyter/nbextensions/python-markdown/readme.md\n",
            "\u001b[32m[I 17:17:43 InstallContribNbextensionsApp]\u001b[m Copying: /usr/local/lib/python3.10/dist-packages/jupyter_contrib_nbextensions/nbextensions/python-markdown/python-markdown.yaml -> /root/.local/share/jupyter/nbextensions/python-markdown/python-markdown.yaml\n",
            "\u001b[32m[I 17:17:43 InstallContribNbextensionsApp]\u001b[m Copying: /usr/local/lib/python3.10/dist-packages/jupyter_contrib_nbextensions/nbextensions/python-markdown/trusted.png -> /root/.local/share/jupyter/nbextensions/python-markdown/trusted.png\n",
            "\u001b[32m[I 17:17:43 InstallContribNbextensionsApp]\u001b[m Copying: /usr/local/lib/python3.10/dist-packages/jupyter_contrib_nbextensions/nbextensions/python-markdown/main.css -> /root/.local/share/jupyter/nbextensions/python-markdown/main.css\n",
            "\u001b[32m[I 17:17:43 InstallContribNbextensionsApp]\u001b[m Copying: /usr/local/lib/python3.10/dist-packages/jupyter_contrib_nbextensions/nbextensions/python-markdown/python-markdown-pre.png -> /root/.local/share/jupyter/nbextensions/python-markdown/python-markdown-pre.png\n",
            "\u001b[32m[I 17:17:43 InstallContribNbextensionsApp]\u001b[m Copying: /usr/local/lib/python3.10/dist-packages/jupyter_contrib_nbextensions/nbextensions/python-markdown/untrusted.png -> /root/.local/share/jupyter/nbextensions/python-markdown/untrusted.png\n",
            "\u001b[32m[I 17:17:43 InstallContribNbextensionsApp]\u001b[m - Validating: \u001b[32mOK\u001b[0m\n",
            "\u001b[32m[I 17:17:43 InstallContribNbextensionsApp]\u001b[m Installing /usr/local/lib/python3.10/dist-packages/jupyter_contrib_nbextensions/nbextensions/toc2 -> toc2\n",
            "\u001b[32m[I 17:17:43 InstallContribNbextensionsApp]\u001b[m Making directory: /root/.local/share/jupyter/nbextensions/toc2/\n",
            "\u001b[32m[I 17:17:43 InstallContribNbextensionsApp]\u001b[m Copying: /usr/local/lib/python3.10/dist-packages/jupyter_contrib_nbextensions/nbextensions/toc2/demo2.gif -> /root/.local/share/jupyter/nbextensions/toc2/demo2.gif\n",
            "\u001b[32m[I 17:17:43 InstallContribNbextensionsApp]\u001b[m Copying: /usr/local/lib/python3.10/dist-packages/jupyter_contrib_nbextensions/nbextensions/toc2/demo_dark.png -> /root/.local/share/jupyter/nbextensions/toc2/demo_dark.png\n",
            "\u001b[32m[I 17:17:43 InstallContribNbextensionsApp]\u001b[m Copying: /usr/local/lib/python3.10/dist-packages/jupyter_contrib_nbextensions/nbextensions/toc2/toc2.js -> /root/.local/share/jupyter/nbextensions/toc2/toc2.js\n",
            "\u001b[32m[I 17:17:43 InstallContribNbextensionsApp]\u001b[m Copying: /usr/local/lib/python3.10/dist-packages/jupyter_contrib_nbextensions/nbextensions/toc2/README.md -> /root/.local/share/jupyter/nbextensions/toc2/README.md\n",
            "\u001b[32m[I 17:17:43 InstallContribNbextensionsApp]\u001b[m Copying: /usr/local/lib/python3.10/dist-packages/jupyter_contrib_nbextensions/nbextensions/toc2/main.js -> /root/.local/share/jupyter/nbextensions/toc2/main.js\n",
            "\u001b[32m[I 17:17:43 InstallContribNbextensionsApp]\u001b[m Copying: /usr/local/lib/python3.10/dist-packages/jupyter_contrib_nbextensions/nbextensions/toc2/demo3.gif -> /root/.local/share/jupyter/nbextensions/toc2/demo3.gif\n",
            "\u001b[32m[I 17:17:43 InstallContribNbextensionsApp]\u001b[m Copying: /usr/local/lib/python3.10/dist-packages/jupyter_contrib_nbextensions/nbextensions/toc2/demo.gif -> /root/.local/share/jupyter/nbextensions/toc2/demo.gif\n",
            "\u001b[32m[I 17:17:43 InstallContribNbextensionsApp]\u001b[m Copying: /usr/local/lib/python3.10/dist-packages/jupyter_contrib_nbextensions/nbextensions/toc2/toc2.yaml -> /root/.local/share/jupyter/nbextensions/toc2/toc2.yaml\n",
            "\u001b[32m[I 17:17:43 InstallContribNbextensionsApp]\u001b[m Copying: /usr/local/lib/python3.10/dist-packages/jupyter_contrib_nbextensions/nbextensions/toc2/icon.png -> /root/.local/share/jupyter/nbextensions/toc2/icon.png\n",
            "\u001b[32m[I 17:17:43 InstallContribNbextensionsApp]\u001b[m Copying: /usr/local/lib/python3.10/dist-packages/jupyter_contrib_nbextensions/nbextensions/toc2/main.css -> /root/.local/share/jupyter/nbextensions/toc2/main.css\n",
            "\u001b[32m[I 17:17:43 InstallContribNbextensionsApp]\u001b[m Copying: /usr/local/lib/python3.10/dist-packages/jupyter_contrib_nbextensions/nbextensions/toc2/image.png -> /root/.local/share/jupyter/nbextensions/toc2/image.png\n",
            "\u001b[32m[I 17:17:43 InstallContribNbextensionsApp]\u001b[m - Validating: \u001b[32mOK\u001b[0m\n",
            "\u001b[32m[I 17:17:43 InstallContribNbextensionsApp]\u001b[m Installing /usr/local/lib/python3.10/dist-packages/jupyter_contrib_nbextensions/nbextensions/codefolding -> codefolding\n",
            "\u001b[32m[I 17:17:43 InstallContribNbextensionsApp]\u001b[m Making directory: /root/.local/share/jupyter/nbextensions/codefolding/\n",
            "\u001b[32m[I 17:17:43 InstallContribNbextensionsApp]\u001b[m Copying: /usr/local/lib/python3.10/dist-packages/jupyter_contrib_nbextensions/nbextensions/codefolding/foldgutter.css -> /root/.local/share/jupyter/nbextensions/codefolding/foldgutter.css\n",
            "\u001b[32m[I 17:17:43 InstallContribNbextensionsApp]\u001b[m Copying: /usr/local/lib/python3.10/dist-packages/jupyter_contrib_nbextensions/nbextensions/codefolding/firstline-fold.js -> /root/.local/share/jupyter/nbextensions/codefolding/firstline-fold.js\n",
            "\u001b[32m[I 17:17:43 InstallContribNbextensionsApp]\u001b[m Copying: /usr/local/lib/python3.10/dist-packages/jupyter_contrib_nbextensions/nbextensions/codefolding/codefolding_indent_unfolded.png -> /root/.local/share/jupyter/nbextensions/codefolding/codefolding_indent_unfolded.png\n",
            "\u001b[32m[I 17:17:43 InstallContribNbextensionsApp]\u001b[m Copying: /usr/local/lib/python3.10/dist-packages/jupyter_contrib_nbextensions/nbextensions/codefolding/magic-unfolded.png -> /root/.local/share/jupyter/nbextensions/codefolding/magic-unfolded.png\n",
            "\u001b[32m[I 17:17:43 InstallContribNbextensionsApp]\u001b[m Copying: /usr/local/lib/python3.10/dist-packages/jupyter_contrib_nbextensions/nbextensions/codefolding/main.js -> /root/.local/share/jupyter/nbextensions/codefolding/main.js\n",
            "\u001b[32m[I 17:17:43 InstallContribNbextensionsApp]\u001b[m Copying: /usr/local/lib/python3.10/dist-packages/jupyter_contrib_nbextensions/nbextensions/codefolding/codefolding_firstline_unfolded.png -> /root/.local/share/jupyter/nbextensions/codefolding/codefolding_firstline_unfolded.png\n",
            "\u001b[32m[I 17:17:43 InstallContribNbextensionsApp]\u001b[m Copying: /usr/local/lib/python3.10/dist-packages/jupyter_contrib_nbextensions/nbextensions/codefolding/edit.js -> /root/.local/share/jupyter/nbextensions/codefolding/edit.js\n",
            "\u001b[32m[I 17:17:43 InstallContribNbextensionsApp]\u001b[m Copying: /usr/local/lib/python3.10/dist-packages/jupyter_contrib_nbextensions/nbextensions/codefolding/blockcomment-fold.js -> /root/.local/share/jupyter/nbextensions/codefolding/blockcomment-fold.js\n",
            "\u001b[32m[I 17:17:43 InstallContribNbextensionsApp]\u001b[m Copying: /usr/local/lib/python3.10/dist-packages/jupyter_contrib_nbextensions/nbextensions/codefolding/codefolding_indent_folded_2.png -> /root/.local/share/jupyter/nbextensions/codefolding/codefolding_indent_folded_2.png\n",
            "\u001b[32m[I 17:17:43 InstallContribNbextensionsApp]\u001b[m Copying: /usr/local/lib/python3.10/dist-packages/jupyter_contrib_nbextensions/nbextensions/codefolding/readme.md -> /root/.local/share/jupyter/nbextensions/codefolding/readme.md\n",
            "\u001b[32m[I 17:17:43 InstallContribNbextensionsApp]\u001b[m Copying: /usr/local/lib/python3.10/dist-packages/jupyter_contrib_nbextensions/nbextensions/codefolding/magic-fold.js -> /root/.local/share/jupyter/nbextensions/codefolding/magic-fold.js\n",
            "\u001b[32m[I 17:17:43 InstallContribNbextensionsApp]\u001b[m Copying: /usr/local/lib/python3.10/dist-packages/jupyter_contrib_nbextensions/nbextensions/codefolding/magic-folded.png -> /root/.local/share/jupyter/nbextensions/codefolding/magic-folded.png\n",
            "\u001b[32m[I 17:17:43 InstallContribNbextensionsApp]\u001b[m Copying: /usr/local/lib/python3.10/dist-packages/jupyter_contrib_nbextensions/nbextensions/codefolding/icon.png -> /root/.local/share/jupyter/nbextensions/codefolding/icon.png\n",
            "\u001b[32m[I 17:17:43 InstallContribNbextensionsApp]\u001b[m Copying: /usr/local/lib/python3.10/dist-packages/jupyter_contrib_nbextensions/nbextensions/codefolding/codefolding_firstline_folded.png -> /root/.local/share/jupyter/nbextensions/codefolding/codefolding_firstline_folded.png\n",
            "\u001b[32m[I 17:17:43 InstallContribNbextensionsApp]\u001b[m Copying: /usr/local/lib/python3.10/dist-packages/jupyter_contrib_nbextensions/nbextensions/codefolding/codefolding.yaml -> /root/.local/share/jupyter/nbextensions/codefolding/codefolding.yaml\n",
            "\u001b[32m[I 17:17:43 InstallContribNbextensionsApp]\u001b[m Copying: /usr/local/lib/python3.10/dist-packages/jupyter_contrib_nbextensions/nbextensions/codefolding/codefolding_editor.yaml -> /root/.local/share/jupyter/nbextensions/codefolding/codefolding_editor.yaml\n",
            "\u001b[32m[I 17:17:43 InstallContribNbextensionsApp]\u001b[m Copying: /usr/local/lib/python3.10/dist-packages/jupyter_contrib_nbextensions/nbextensions/codefolding/codefolding_editor.png -> /root/.local/share/jupyter/nbextensions/codefolding/codefolding_editor.png\n",
            "\u001b[32m[I 17:17:43 InstallContribNbextensionsApp]\u001b[m Copying: /usr/local/lib/python3.10/dist-packages/jupyter_contrib_nbextensions/nbextensions/codefolding/codefolding_indent_folded_1.png -> /root/.local/share/jupyter/nbextensions/codefolding/codefolding_indent_folded_1.png\n",
            "\u001b[32m[I 17:17:43 InstallContribNbextensionsApp]\u001b[m - Validating: \u001b[32mOK\u001b[0m\n",
            "\u001b[32m[I 17:17:43 InstallContribNbextensionsApp]\u001b[m Installing /usr/local/lib/python3.10/dist-packages/jupyter_contrib_nbextensions/nbextensions/codefolding -> codefolding\n",
            "\u001b[32m[I 17:17:43 InstallContribNbextensionsApp]\u001b[m Up to date: /root/.local/share/jupyter/nbextensions/codefolding/foldgutter.css\n",
            "\u001b[32m[I 17:17:43 InstallContribNbextensionsApp]\u001b[m Up to date: /root/.local/share/jupyter/nbextensions/codefolding/firstline-fold.js\n",
            "\u001b[32m[I 17:17:43 InstallContribNbextensionsApp]\u001b[m Up to date: /root/.local/share/jupyter/nbextensions/codefolding/codefolding_indent_unfolded.png\n",
            "\u001b[32m[I 17:17:43 InstallContribNbextensionsApp]\u001b[m Up to date: /root/.local/share/jupyter/nbextensions/codefolding/magic-unfolded.png\n",
            "\u001b[32m[I 17:17:43 InstallContribNbextensionsApp]\u001b[m Up to date: /root/.local/share/jupyter/nbextensions/codefolding/main.js\n",
            "\u001b[32m[I 17:17:43 InstallContribNbextensionsApp]\u001b[m Up to date: /root/.local/share/jupyter/nbextensions/codefolding/codefolding_firstline_unfolded.png\n",
            "\u001b[32m[I 17:17:43 InstallContribNbextensionsApp]\u001b[m Up to date: /root/.local/share/jupyter/nbextensions/codefolding/edit.js\n",
            "\u001b[32m[I 17:17:43 InstallContribNbextensionsApp]\u001b[m Up to date: /root/.local/share/jupyter/nbextensions/codefolding/blockcomment-fold.js\n",
            "\u001b[32m[I 17:17:43 InstallContribNbextensionsApp]\u001b[m Up to date: /root/.local/share/jupyter/nbextensions/codefolding/codefolding_indent_folded_2.png\n",
            "\u001b[32m[I 17:17:43 InstallContribNbextensionsApp]\u001b[m Up to date: /root/.local/share/jupyter/nbextensions/codefolding/readme.md\n",
            "\u001b[32m[I 17:17:43 InstallContribNbextensionsApp]\u001b[m Up to date: /root/.local/share/jupyter/nbextensions/codefolding/magic-fold.js\n",
            "\u001b[32m[I 17:17:43 InstallContribNbextensionsApp]\u001b[m Up to date: /root/.local/share/jupyter/nbextensions/codefolding/magic-folded.png\n",
            "\u001b[32m[I 17:17:43 InstallContribNbextensionsApp]\u001b[m Up to date: /root/.local/share/jupyter/nbextensions/codefolding/icon.png\n",
            "\u001b[32m[I 17:17:43 InstallContribNbextensionsApp]\u001b[m Up to date: /root/.local/share/jupyter/nbextensions/codefolding/codefolding_firstline_folded.png\n",
            "\u001b[32m[I 17:17:43 InstallContribNbextensionsApp]\u001b[m Up to date: /root/.local/share/jupyter/nbextensions/codefolding/codefolding.yaml\n",
            "\u001b[32m[I 17:17:43 InstallContribNbextensionsApp]\u001b[m Up to date: /root/.local/share/jupyter/nbextensions/codefolding/codefolding_editor.yaml\n",
            "\u001b[32m[I 17:17:43 InstallContribNbextensionsApp]\u001b[m Up to date: /root/.local/share/jupyter/nbextensions/codefolding/codefolding_editor.png\n",
            "\u001b[32m[I 17:17:43 InstallContribNbextensionsApp]\u001b[m Up to date: /root/.local/share/jupyter/nbextensions/codefolding/codefolding_indent_folded_1.png\n",
            "\u001b[32m[I 17:17:43 InstallContribNbextensionsApp]\u001b[m - Validating: \u001b[32mOK\u001b[0m\n",
            "\u001b[32m[I 17:17:43 InstallContribNbextensionsApp]\u001b[m Installing /usr/local/lib/python3.10/dist-packages/jupyter_contrib_nbextensions/nbextensions/highlighter -> highlighter\n",
            "\u001b[32m[I 17:17:43 InstallContribNbextensionsApp]\u001b[m Making directory: /root/.local/share/jupyter/nbextensions/highlighter/\n",
            "\u001b[32m[I 17:17:43 InstallContribNbextensionsApp]\u001b[m Copying: /usr/local/lib/python3.10/dist-packages/jupyter_contrib_nbextensions/nbextensions/highlighter/tst_highlights.pdf -> /root/.local/share/jupyter/nbextensions/highlighter/tst_highlights.pdf\n",
            "\u001b[32m[I 17:17:43 InstallContribNbextensionsApp]\u001b[m Copying: /usr/local/lib/python3.10/dist-packages/jupyter_contrib_nbextensions/nbextensions/highlighter/highlighter.css -> /root/.local/share/jupyter/nbextensions/highlighter/highlighter.css\n",
            "\u001b[32m[I 17:17:43 InstallContribNbextensionsApp]\u001b[m Copying: /usr/local/lib/python3.10/dist-packages/jupyter_contrib_nbextensions/nbextensions/highlighter/export_highlights.tex -> /root/.local/share/jupyter/nbextensions/highlighter/export_highlights.tex\n",
            "\u001b[32m[I 17:17:43 InstallContribNbextensionsApp]\u001b[m Copying: /usr/local/lib/python3.10/dist-packages/jupyter_contrib_nbextensions/nbextensions/highlighter/demo_highlighter.ipynb -> /root/.local/share/jupyter/nbextensions/highlighter/demo_highlighter.ipynb\n",
            "\u001b[32m[I 17:17:43 InstallContribNbextensionsApp]\u001b[m Copying: /usr/local/lib/python3.10/dist-packages/jupyter_contrib_nbextensions/nbextensions/highlighter/tst_highlights.tex -> /root/.local/share/jupyter/nbextensions/highlighter/tst_highlights.tex\n",
            "\u001b[32m[I 17:17:43 InstallContribNbextensionsApp]\u001b[m Copying: /usr/local/lib/python3.10/dist-packages/jupyter_contrib_nbextensions/nbextensions/highlighter/export_highlights.html -> /root/.local/share/jupyter/nbextensions/highlighter/export_highlights.html\n",
            "\u001b[32m[I 17:17:43 InstallContribNbextensionsApp]\u001b[m Copying: /usr/local/lib/python3.10/dist-packages/jupyter_contrib_nbextensions/nbextensions/highlighter/tst_highlights.ipynb -> /root/.local/share/jupyter/nbextensions/highlighter/tst_highlights.ipynb\n",
            "\u001b[32m[I 17:17:43 InstallContribNbextensionsApp]\u001b[m Copying: /usr/local/lib/python3.10/dist-packages/jupyter_contrib_nbextensions/nbextensions/highlighter/highlighter.yaml -> /root/.local/share/jupyter/nbextensions/highlighter/highlighter.yaml\n",
            "\u001b[32m[I 17:17:43 InstallContribNbextensionsApp]\u001b[m Copying: /usr/local/lib/python3.10/dist-packages/jupyter_contrib_nbextensions/nbextensions/highlighter/export_highlights.pdf -> /root/.local/share/jupyter/nbextensions/highlighter/export_highlights.pdf\n",
            "\u001b[32m[I 17:17:43 InstallContribNbextensionsApp]\u001b[m Copying: /usr/local/lib/python3.10/dist-packages/jupyter_contrib_nbextensions/nbextensions/highlighter/highlighter.js -> /root/.local/share/jupyter/nbextensions/highlighter/highlighter.js\n",
            "\u001b[32m[I 17:17:43 InstallContribNbextensionsApp]\u001b[m Copying: /usr/local/lib/python3.10/dist-packages/jupyter_contrib_nbextensions/nbextensions/highlighter/readme.md -> /root/.local/share/jupyter/nbextensions/highlighter/readme.md\n",
            "\u001b[32m[I 17:17:43 InstallContribNbextensionsApp]\u001b[m Copying: /usr/local/lib/python3.10/dist-packages/jupyter_contrib_nbextensions/nbextensions/highlighter/export_highlights.ipynb -> /root/.local/share/jupyter/nbextensions/highlighter/export_highlights.ipynb\n",
            "\u001b[32m[I 17:17:43 InstallContribNbextensionsApp]\u001b[m Copying: /usr/local/lib/python3.10/dist-packages/jupyter_contrib_nbextensions/nbextensions/highlighter/demo_highlighter.html -> /root/.local/share/jupyter/nbextensions/highlighter/demo_highlighter.html\n",
            "\u001b[32m[I 17:17:43 InstallContribNbextensionsApp]\u001b[m Copying: /usr/local/lib/python3.10/dist-packages/jupyter_contrib_nbextensions/nbextensions/highlighter/icon.png -> /root/.local/share/jupyter/nbextensions/highlighter/icon.png\n",
            "\u001b[32m[I 17:17:43 InstallContribNbextensionsApp]\u001b[m Copying: /usr/local/lib/python3.10/dist-packages/jupyter_contrib_nbextensions/nbextensions/highlighter/tst_highlights.html -> /root/.local/share/jupyter/nbextensions/highlighter/tst_highlights.html\n",
            "\u001b[32m[I 17:17:43 InstallContribNbextensionsApp]\u001b[m Copying: /usr/local/lib/python3.10/dist-packages/jupyter_contrib_nbextensions/nbextensions/highlighter/image.gif -> /root/.local/share/jupyter/nbextensions/highlighter/image.gif\n",
            "\u001b[32m[I 17:17:43 InstallContribNbextensionsApp]\u001b[m - Validating: \u001b[32mOK\u001b[0m\n",
            "\u001b[32m[I 17:17:43 InstallContribNbextensionsApp]\u001b[m Installing /usr/local/lib/python3.10/dist-packages/jupyter_contrib_nbextensions/nbextensions/spellchecker -> spellchecker\n",
            "\u001b[32m[I 17:17:43 InstallContribNbextensionsApp]\u001b[m Making directory: /root/.local/share/jupyter/nbextensions/spellchecker/\n",
            "\u001b[32m[I 17:17:43 InstallContribNbextensionsApp]\u001b[m Copying: /usr/local/lib/python3.10/dist-packages/jupyter_contrib_nbextensions/nbextensions/spellchecker/config.yaml -> /root/.local/share/jupyter/nbextensions/spellchecker/config.yaml\n",
            "\u001b[32m[I 17:17:43 InstallContribNbextensionsApp]\u001b[m Copying: /usr/local/lib/python3.10/dist-packages/jupyter_contrib_nbextensions/nbextensions/spellchecker/README.md -> /root/.local/share/jupyter/nbextensions/spellchecker/README.md\n",
            "\u001b[32m[I 17:17:43 InstallContribNbextensionsApp]\u001b[m Copying: /usr/local/lib/python3.10/dist-packages/jupyter_contrib_nbextensions/nbextensions/spellchecker/main.js -> /root/.local/share/jupyter/nbextensions/spellchecker/main.js\n",
            "\u001b[32m[I 17:17:43 InstallContribNbextensionsApp]\u001b[m Copying: /usr/local/lib/python3.10/dist-packages/jupyter_contrib_nbextensions/nbextensions/spellchecker/download_new_dict.py -> /root/.local/share/jupyter/nbextensions/spellchecker/download_new_dict.py\n",
            "\u001b[32m[I 17:17:43 InstallContribNbextensionsApp]\u001b[m Copying: /usr/local/lib/python3.10/dist-packages/jupyter_contrib_nbextensions/nbextensions/spellchecker/main.css -> /root/.local/share/jupyter/nbextensions/spellchecker/main.css\n",
            "\u001b[32m[I 17:17:43 InstallContribNbextensionsApp]\u001b[m Copying: /usr/local/lib/python3.10/dist-packages/jupyter_contrib_nbextensions/nbextensions/spellchecker/screenshot.png -> /root/.local/share/jupyter/nbextensions/spellchecker/screenshot.png\n",
            "\u001b[32m[I 17:17:43 InstallContribNbextensionsApp]\u001b[m Making directory: /root/.local/share/jupyter/nbextensions/spellchecker/__pycache__\n",
            "\u001b[32m[I 17:17:43 InstallContribNbextensionsApp]\u001b[m Copying: /usr/local/lib/python3.10/dist-packages/jupyter_contrib_nbextensions/nbextensions/spellchecker/__pycache__/download_new_dict.cpython-310.pyc -> /root/.local/share/jupyter/nbextensions/spellchecker/__pycache__/download_new_dict.cpython-310.pyc\n",
            "\u001b[32m[I 17:17:43 InstallContribNbextensionsApp]\u001b[m Making directory: /root/.local/share/jupyter/nbextensions/spellchecker/typo\n",
            "\u001b[32m[I 17:17:43 InstallContribNbextensionsApp]\u001b[m Copying: /usr/local/lib/python3.10/dist-packages/jupyter_contrib_nbextensions/nbextensions/spellchecker/typo/LICENSE.txt -> /root/.local/share/jupyter/nbextensions/spellchecker/typo/LICENSE.txt\n",
            "\u001b[32m[I 17:17:43 InstallContribNbextensionsApp]\u001b[m Copying: /usr/local/lib/python3.10/dist-packages/jupyter_contrib_nbextensions/nbextensions/spellchecker/typo/typo.js -> /root/.local/share/jupyter/nbextensions/spellchecker/typo/typo.js\n",
            "\u001b[32m[I 17:17:43 InstallContribNbextensionsApp]\u001b[m - Validating: \u001b[32mOK\u001b[0m\n",
            "\u001b[32m[I 17:17:43 InstallContribNbextensionsApp]\u001b[m Installing /usr/local/lib/python3.10/dist-packages/jupyter_contrib_nbextensions/nbextensions/hide_input -> hide_input\n",
            "\u001b[32m[I 17:17:43 InstallContribNbextensionsApp]\u001b[m Making directory: /root/.local/share/jupyter/nbextensions/hide_input/\n",
            "\u001b[32m[I 17:17:43 InstallContribNbextensionsApp]\u001b[m Copying: /usr/local/lib/python3.10/dist-packages/jupyter_contrib_nbextensions/nbextensions/hide_input/hide-input.yaml -> /root/.local/share/jupyter/nbextensions/hide_input/hide-input.yaml\n",
            "\u001b[32m[I 17:17:43 InstallContribNbextensionsApp]\u001b[m Copying: /usr/local/lib/python3.10/dist-packages/jupyter_contrib_nbextensions/nbextensions/hide_input/main.js -> /root/.local/share/jupyter/nbextensions/hide_input/main.js\n",
            "\u001b[32m[I 17:17:43 InstallContribNbextensionsApp]\u001b[m Copying: /usr/local/lib/python3.10/dist-packages/jupyter_contrib_nbextensions/nbextensions/hide_input/readme.md -> /root/.local/share/jupyter/nbextensions/hide_input/readme.md\n",
            "\u001b[32m[I 17:17:43 InstallContribNbextensionsApp]\u001b[m Copying: /usr/local/lib/python3.10/dist-packages/jupyter_contrib_nbextensions/nbextensions/hide_input/icon.png -> /root/.local/share/jupyter/nbextensions/hide_input/icon.png\n",
            "\u001b[32m[I 17:17:43 InstallContribNbextensionsApp]\u001b[m - Validating: \u001b[32mOK\u001b[0m\n",
            "\u001b[32m[I 17:17:43 InstallContribNbextensionsApp]\u001b[m Installing /usr/local/lib/python3.10/dist-packages/jupyter_contrib_nbextensions/nbextensions/autosavetime -> autosavetime\n",
            "\u001b[32m[I 17:17:43 InstallContribNbextensionsApp]\u001b[m Making directory: /root/.local/share/jupyter/nbextensions/autosavetime/\n",
            "\u001b[32m[I 17:17:43 InstallContribNbextensionsApp]\u001b[m Copying: /usr/local/lib/python3.10/dist-packages/jupyter_contrib_nbextensions/nbextensions/autosavetime/README.md -> /root/.local/share/jupyter/nbextensions/autosavetime/README.md\n",
            "\u001b[32m[I 17:17:43 InstallContribNbextensionsApp]\u001b[m Copying: /usr/local/lib/python3.10/dist-packages/jupyter_contrib_nbextensions/nbextensions/autosavetime/autosavetime.yaml -> /root/.local/share/jupyter/nbextensions/autosavetime/autosavetime.yaml\n",
            "\u001b[32m[I 17:17:43 InstallContribNbextensionsApp]\u001b[m Copying: /usr/local/lib/python3.10/dist-packages/jupyter_contrib_nbextensions/nbextensions/autosavetime/main.js -> /root/.local/share/jupyter/nbextensions/autosavetime/main.js\n",
            "\u001b[32m[I 17:17:43 InstallContribNbextensionsApp]\u001b[m Copying: /usr/local/lib/python3.10/dist-packages/jupyter_contrib_nbextensions/nbextensions/autosavetime/icon.png -> /root/.local/share/jupyter/nbextensions/autosavetime/icon.png\n",
            "\u001b[32m[I 17:17:43 InstallContribNbextensionsApp]\u001b[m - Validating: \u001b[32mOK\u001b[0m\n",
            "\u001b[32m[I 17:17:43 InstallContribNbextensionsApp]\u001b[m Installing /usr/local/lib/python3.10/dist-packages/jupyter_contrib_nbextensions/nbextensions/hide_input_all -> hide_input_all\n",
            "\u001b[32m[I 17:17:43 InstallContribNbextensionsApp]\u001b[m Making directory: /root/.local/share/jupyter/nbextensions/hide_input_all/\n",
            "\u001b[32m[I 17:17:43 InstallContribNbextensionsApp]\u001b[m Copying: /usr/local/lib/python3.10/dist-packages/jupyter_contrib_nbextensions/nbextensions/hide_input_all/hide_input_all_show.png -> /root/.local/share/jupyter/nbextensions/hide_input_all/hide_input_all_show.png\n",
            "\u001b[32m[I 17:17:43 InstallContribNbextensionsApp]\u001b[m Copying: /usr/local/lib/python3.10/dist-packages/jupyter_contrib_nbextensions/nbextensions/hide_input_all/hide_input_all.yaml -> /root/.local/share/jupyter/nbextensions/hide_input_all/hide_input_all.yaml\n",
            "\u001b[32m[I 17:17:43 InstallContribNbextensionsApp]\u001b[m Copying: /usr/local/lib/python3.10/dist-packages/jupyter_contrib_nbextensions/nbextensions/hide_input_all/main.js -> /root/.local/share/jupyter/nbextensions/hide_input_all/main.js\n",
            "\u001b[32m[I 17:17:43 InstallContribNbextensionsApp]\u001b[m Copying: /usr/local/lib/python3.10/dist-packages/jupyter_contrib_nbextensions/nbextensions/hide_input_all/readme.md -> /root/.local/share/jupyter/nbextensions/hide_input_all/readme.md\n",
            "\u001b[32m[I 17:17:43 InstallContribNbextensionsApp]\u001b[m Copying: /usr/local/lib/python3.10/dist-packages/jupyter_contrib_nbextensions/nbextensions/hide_input_all/hide_input_all_hide.png -> /root/.local/share/jupyter/nbextensions/hide_input_all/hide_input_all_hide.png\n",
            "\u001b[32m[I 17:17:43 InstallContribNbextensionsApp]\u001b[m Copying: /usr/local/lib/python3.10/dist-packages/jupyter_contrib_nbextensions/nbextensions/hide_input_all/icon.png -> /root/.local/share/jupyter/nbextensions/hide_input_all/icon.png\n",
            "\u001b[32m[I 17:17:43 InstallContribNbextensionsApp]\u001b[m - Validating: \u001b[32mOK\u001b[0m\n",
            "\u001b[32m[I 17:17:43 InstallContribNbextensionsApp]\u001b[m Installing /usr/local/lib/python3.10/dist-packages/jupyter_contrib_nbextensions/nbextensions/addbefore -> addbefore\n",
            "\u001b[32m[I 17:17:43 InstallContribNbextensionsApp]\u001b[m Making directory: /root/.local/share/jupyter/nbextensions/addbefore/\n",
            "\u001b[32m[I 17:17:43 InstallContribNbextensionsApp]\u001b[m Copying: /usr/local/lib/python3.10/dist-packages/jupyter_contrib_nbextensions/nbextensions/addbefore/addbefore.yaml -> /root/.local/share/jupyter/nbextensions/addbefore/addbefore.yaml\n",
            "\u001b[32m[I 17:17:43 InstallContribNbextensionsApp]\u001b[m Copying: /usr/local/lib/python3.10/dist-packages/jupyter_contrib_nbextensions/nbextensions/addbefore/main.js -> /root/.local/share/jupyter/nbextensions/addbefore/main.js\n",
            "\u001b[32m[I 17:17:43 InstallContribNbextensionsApp]\u001b[m Copying: /usr/local/lib/python3.10/dist-packages/jupyter_contrib_nbextensions/nbextensions/addbefore/readme.md -> /root/.local/share/jupyter/nbextensions/addbefore/readme.md\n",
            "\u001b[32m[I 17:17:43 InstallContribNbextensionsApp]\u001b[m Copying: /usr/local/lib/python3.10/dist-packages/jupyter_contrib_nbextensions/nbextensions/addbefore/icon.png -> /root/.local/share/jupyter/nbextensions/addbefore/icon.png\n",
            "\u001b[32m[I 17:17:43 InstallContribNbextensionsApp]\u001b[m - Validating: \u001b[32mOK\u001b[0m\n",
            "\u001b[32m[I 17:17:43 InstallContribNbextensionsApp]\u001b[m Installing /usr/local/lib/python3.10/dist-packages/jupyter_contrib_nbextensions/nbextensions/move_selected_cells -> move_selected_cells\n",
            "\u001b[32m[I 17:17:43 InstallContribNbextensionsApp]\u001b[m Making directory: /root/.local/share/jupyter/nbextensions/move_selected_cells/\n",
            "\u001b[32m[I 17:17:43 InstallContribNbextensionsApp]\u001b[m Copying: /usr/local/lib/python3.10/dist-packages/jupyter_contrib_nbextensions/nbextensions/move_selected_cells/README.md -> /root/.local/share/jupyter/nbextensions/move_selected_cells/README.md\n",
            "\u001b[32m[I 17:17:43 InstallContribNbextensionsApp]\u001b[m Copying: /usr/local/lib/python3.10/dist-packages/jupyter_contrib_nbextensions/nbextensions/move_selected_cells/main.js -> /root/.local/share/jupyter/nbextensions/move_selected_cells/main.js\n",
            "\u001b[32m[I 17:17:43 InstallContribNbextensionsApp]\u001b[m Copying: /usr/local/lib/python3.10/dist-packages/jupyter_contrib_nbextensions/nbextensions/move_selected_cells/move_selected_cells.yaml -> /root/.local/share/jupyter/nbextensions/move_selected_cells/move_selected_cells.yaml\n",
            "\u001b[32m[I 17:17:43 InstallContribNbextensionsApp]\u001b[m - Validating: \u001b[32mOK\u001b[0m\n",
            "\u001b[32m[I 17:17:43 InstallContribNbextensionsApp]\u001b[m Installing /usr/local/lib/python3.10/dist-packages/jupyter_contrib_nbextensions/nbextensions/codemirror_mode_extensions -> codemirror_mode_extensions\n",
            "\u001b[32m[I 17:17:43 InstallContribNbextensionsApp]\u001b[m Making directory: /root/.local/share/jupyter/nbextensions/codemirror_mode_extensions/\n",
            "\u001b[32m[I 17:17:43 InstallContribNbextensionsApp]\u001b[m Copying: /usr/local/lib/python3.10/dist-packages/jupyter_contrib_nbextensions/nbextensions/codemirror_mode_extensions/main.js -> /root/.local/share/jupyter/nbextensions/codemirror_mode_extensions/main.js\n",
            "\u001b[32m[I 17:17:43 InstallContribNbextensionsApp]\u001b[m Copying: /usr/local/lib/python3.10/dist-packages/jupyter_contrib_nbextensions/nbextensions/codemirror_mode_extensions/codemirror_mode_extensions.yaml -> /root/.local/share/jupyter/nbextensions/codemirror_mode_extensions/codemirror_mode_extensions.yaml\n",
            "\u001b[32m[I 17:17:43 InstallContribNbextensionsApp]\u001b[m - Validating: \u001b[32mOK\u001b[0m\n",
            "\u001b[32m[I 17:17:43 InstallContribNbextensionsApp]\u001b[m Installing /usr/local/lib/python3.10/dist-packages/jupyter_contrib_nbextensions/nbextensions/zenmode -> zenmode\n",
            "\u001b[32m[I 17:17:43 InstallContribNbextensionsApp]\u001b[m Making directory: /root/.local/share/jupyter/nbextensions/zenmode/\n",
            "\u001b[32m[I 17:17:43 InstallContribNbextensionsApp]\u001b[m Copying: /usr/local/lib/python3.10/dist-packages/jupyter_contrib_nbextensions/nbextensions/zenmode/README.md -> /root/.local/share/jupyter/nbextensions/zenmode/README.md\n",
            "\u001b[32m[I 17:17:43 InstallContribNbextensionsApp]\u001b[m Copying: /usr/local/lib/python3.10/dist-packages/jupyter_contrib_nbextensions/nbextensions/zenmode/zenmode.yaml -> /root/.local/share/jupyter/nbextensions/zenmode/zenmode.yaml\n",
            "\u001b[32m[I 17:17:43 InstallContribNbextensionsApp]\u001b[m Copying: /usr/local/lib/python3.10/dist-packages/jupyter_contrib_nbextensions/nbextensions/zenmode/main.js -> /root/.local/share/jupyter/nbextensions/zenmode/main.js\n",
            "\u001b[32m[I 17:17:43 InstallContribNbextensionsApp]\u001b[m Copying: /usr/local/lib/python3.10/dist-packages/jupyter_contrib_nbextensions/nbextensions/zenmode/main.css -> /root/.local/share/jupyter/nbextensions/zenmode/main.css\n",
            "\u001b[32m[I 17:17:43 InstallContribNbextensionsApp]\u001b[m Making directory: /root/.local/share/jupyter/nbextensions/zenmode/images\n",
            "\u001b[32m[I 17:17:43 InstallContribNbextensionsApp]\u001b[m Copying: /usr/local/lib/python3.10/dist-packages/jupyter_contrib_nbextensions/nbextensions/zenmode/images/back3.jpg -> /root/.local/share/jupyter/nbextensions/zenmode/images/back3.jpg\n",
            "\u001b[32m[I 17:17:43 InstallContribNbextensionsApp]\u001b[m Copying: /usr/local/lib/python3.10/dist-packages/jupyter_contrib_nbextensions/nbextensions/zenmode/images/back22.jpg -> /root/.local/share/jupyter/nbextensions/zenmode/images/back22.jpg\n",
            "\u001b[32m[I 17:17:43 InstallContribNbextensionsApp]\u001b[m Copying: /usr/local/lib/python3.10/dist-packages/jupyter_contrib_nbextensions/nbextensions/zenmode/images/back12.jpg -> /root/.local/share/jupyter/nbextensions/zenmode/images/back12.jpg\n",
            "\u001b[32m[I 17:17:43 InstallContribNbextensionsApp]\u001b[m Copying: /usr/local/lib/python3.10/dist-packages/jupyter_contrib_nbextensions/nbextensions/zenmode/images/ipynblogo0.png -> /root/.local/share/jupyter/nbextensions/zenmode/images/ipynblogo0.png\n",
            "\u001b[32m[I 17:17:43 InstallContribNbextensionsApp]\u001b[m Copying: /usr/local/lib/python3.10/dist-packages/jupyter_contrib_nbextensions/nbextensions/zenmode/images/back21.jpg -> /root/.local/share/jupyter/nbextensions/zenmode/images/back21.jpg\n",
            "\u001b[32m[I 17:17:43 InstallContribNbextensionsApp]\u001b[m Copying: /usr/local/lib/python3.10/dist-packages/jupyter_contrib_nbextensions/nbextensions/zenmode/images/back1.jpg -> /root/.local/share/jupyter/nbextensions/zenmode/images/back1.jpg\n",
            "\u001b[32m[I 17:17:43 InstallContribNbextensionsApp]\u001b[m Copying: /usr/local/lib/python3.10/dist-packages/jupyter_contrib_nbextensions/nbextensions/zenmode/images/back2.jpg -> /root/.local/share/jupyter/nbextensions/zenmode/images/back2.jpg\n",
            "\u001b[32m[I 17:17:43 InstallContribNbextensionsApp]\u001b[m Copying: /usr/local/lib/python3.10/dist-packages/jupyter_contrib_nbextensions/nbextensions/zenmode/images/back11.jpg -> /root/.local/share/jupyter/nbextensions/zenmode/images/back11.jpg\n",
            "\u001b[32m[I 17:17:43 InstallContribNbextensionsApp]\u001b[m Copying: /usr/local/lib/python3.10/dist-packages/jupyter_contrib_nbextensions/nbextensions/zenmode/images/ipynblogo1.png -> /root/.local/share/jupyter/nbextensions/zenmode/images/ipynblogo1.png\n",
            "\u001b[32m[I 17:17:43 InstallContribNbextensionsApp]\u001b[m - Validating: \u001b[32mOK\u001b[0m\n",
            "\u001b[32m[I 17:17:43 InstallContribNbextensionsApp]\u001b[m Installing /usr/local/lib/python3.10/dist-packages/jupyter_contrib_nbextensions/nbextensions/freeze -> freeze\n",
            "\u001b[32m[I 17:17:43 InstallContribNbextensionsApp]\u001b[m Making directory: /root/.local/share/jupyter/nbextensions/freeze/\n",
            "\u001b[32m[I 17:17:43 InstallContribNbextensionsApp]\u001b[m Copying: /usr/local/lib/python3.10/dist-packages/jupyter_contrib_nbextensions/nbextensions/freeze/config.yaml -> /root/.local/share/jupyter/nbextensions/freeze/config.yaml\n",
            "\u001b[32m[I 17:17:43 InstallContribNbextensionsApp]\u001b[m Copying: /usr/local/lib/python3.10/dist-packages/jupyter_contrib_nbextensions/nbextensions/freeze/main.js -> /root/.local/share/jupyter/nbextensions/freeze/main.js\n",
            "\u001b[32m[I 17:17:43 InstallContribNbextensionsApp]\u001b[m Copying: /usr/local/lib/python3.10/dist-packages/jupyter_contrib_nbextensions/nbextensions/freeze/readme.md -> /root/.local/share/jupyter/nbextensions/freeze/readme.md\n",
            "\u001b[32m[I 17:17:43 InstallContribNbextensionsApp]\u001b[m Copying: /usr/local/lib/python3.10/dist-packages/jupyter_contrib_nbextensions/nbextensions/freeze/icon.png -> /root/.local/share/jupyter/nbextensions/freeze/icon.png\n",
            "\u001b[32m[I 17:17:43 InstallContribNbextensionsApp]\u001b[m - Validating: \u001b[32mOK\u001b[0m\n",
            "\u001b[32m[I 17:17:43 InstallContribNbextensionsApp]\u001b[m Installing /usr/local/lib/python3.10/dist-packages/jupyter_contrib_nbextensions/nbextensions/datestamper -> datestamper\n",
            "\u001b[32m[I 17:17:43 InstallContribNbextensionsApp]\u001b[m Making directory: /root/.local/share/jupyter/nbextensions/datestamper/\n",
            "\u001b[32m[I 17:17:43 InstallContribNbextensionsApp]\u001b[m Copying: /usr/local/lib/python3.10/dist-packages/jupyter_contrib_nbextensions/nbextensions/datestamper/main.js -> /root/.local/share/jupyter/nbextensions/datestamper/main.js\n",
            "\u001b[32m[I 17:17:43 InstallContribNbextensionsApp]\u001b[m Copying: /usr/local/lib/python3.10/dist-packages/jupyter_contrib_nbextensions/nbextensions/datestamper/readme.md -> /root/.local/share/jupyter/nbextensions/datestamper/readme.md\n",
            "\u001b[32m[I 17:17:43 InstallContribNbextensionsApp]\u001b[m Copying: /usr/local/lib/python3.10/dist-packages/jupyter_contrib_nbextensions/nbextensions/datestamper/main.yaml -> /root/.local/share/jupyter/nbextensions/datestamper/main.yaml\n",
            "\u001b[32m[I 17:17:43 InstallContribNbextensionsApp]\u001b[m Copying: /usr/local/lib/python3.10/dist-packages/jupyter_contrib_nbextensions/nbextensions/datestamper/icon.png -> /root/.local/share/jupyter/nbextensions/datestamper/icon.png\n",
            "\u001b[32m[I 17:17:43 InstallContribNbextensionsApp]\u001b[m - Validating: \u001b[32mOK\u001b[0m\n",
            "\u001b[32m[I 17:17:43 InstallContribNbextensionsApp]\u001b[m Installing /usr/local/lib/python3.10/dist-packages/jupyter_contrib_nbextensions/nbextensions/skill -> skill\n",
            "\u001b[32m[I 17:17:43 InstallContribNbextensionsApp]\u001b[m Making directory: /root/.local/share/jupyter/nbextensions/skill/\n",
            "\u001b[32m[I 17:17:43 InstallContribNbextensionsApp]\u001b[m Copying: /usr/local/lib/python3.10/dist-packages/jupyter_contrib_nbextensions/nbextensions/skill/skill.js -> /root/.local/share/jupyter/nbextensions/skill/skill.js\n",
            "\u001b[32m[I 17:17:43 InstallContribNbextensionsApp]\u001b[m Copying: /usr/local/lib/python3.10/dist-packages/jupyter_contrib_nbextensions/nbextensions/skill/README.md -> /root/.local/share/jupyter/nbextensions/skill/README.md\n",
            "\u001b[32m[I 17:17:43 InstallContribNbextensionsApp]\u001b[m Copying: /usr/local/lib/python3.10/dist-packages/jupyter_contrib_nbextensions/nbextensions/skill/main.js -> /root/.local/share/jupyter/nbextensions/skill/main.js\n",
            "\u001b[32m[I 17:17:43 InstallContribNbextensionsApp]\u001b[m Copying: /usr/local/lib/python3.10/dist-packages/jupyter_contrib_nbextensions/nbextensions/skill/skill.yaml -> /root/.local/share/jupyter/nbextensions/skill/skill.yaml\n",
            "\u001b[32m[I 17:17:43 InstallContribNbextensionsApp]\u001b[m - Validating: \u001b[32mOK\u001b[0m\n",
            "\u001b[32m[I 17:17:43 InstallContribNbextensionsApp]\u001b[m Installing /usr/local/lib/python3.10/dist-packages/jupyter_contrib_nbextensions/nbextensions/go_to_current_running_cell -> go_to_current_running_cell\n",
            "\u001b[32m[I 17:17:43 InstallContribNbextensionsApp]\u001b[m Making directory: /root/.local/share/jupyter/nbextensions/go_to_current_running_cell/\n",
            "\u001b[32m[I 17:17:43 InstallContribNbextensionsApp]\u001b[m Copying: /usr/local/lib/python3.10/dist-packages/jupyter_contrib_nbextensions/nbextensions/go_to_current_running_cell/jump_to_cell.gif -> /root/.local/share/jupyter/nbextensions/go_to_current_running_cell/jump_to_cell.gif\n",
            "\u001b[32m[I 17:17:43 InstallContribNbextensionsApp]\u001b[m Copying: /usr/local/lib/python3.10/dist-packages/jupyter_contrib_nbextensions/nbextensions/go_to_current_running_cell/README.md -> /root/.local/share/jupyter/nbextensions/go_to_current_running_cell/README.md\n",
            "\u001b[32m[I 17:17:43 InstallContribNbextensionsApp]\u001b[m Copying: /usr/local/lib/python3.10/dist-packages/jupyter_contrib_nbextensions/nbextensions/go_to_current_running_cell/go_to_current_running_cell.yaml -> /root/.local/share/jupyter/nbextensions/go_to_current_running_cell/go_to_current_running_cell.yaml\n",
            "\u001b[32m[I 17:17:43 InstallContribNbextensionsApp]\u001b[m Copying: /usr/local/lib/python3.10/dist-packages/jupyter_contrib_nbextensions/nbextensions/go_to_current_running_cell/main.js -> /root/.local/share/jupyter/nbextensions/go_to_current_running_cell/main.js\n",
            "\u001b[32m[I 17:17:43 InstallContribNbextensionsApp]\u001b[m Copying: /usr/local/lib/python3.10/dist-packages/jupyter_contrib_nbextensions/nbextensions/go_to_current_running_cell/auto_focus.gif -> /root/.local/share/jupyter/nbextensions/go_to_current_running_cell/auto_focus.gif\n",
            "\u001b[32m[I 17:17:43 InstallContribNbextensionsApp]\u001b[m Copying: /usr/local/lib/python3.10/dist-packages/jupyter_contrib_nbextensions/nbextensions/go_to_current_running_cell/eye.png -> /root/.local/share/jupyter/nbextensions/go_to_current_running_cell/eye.png\n",
            "\u001b[32m[I 17:17:43 InstallContribNbextensionsApp]\u001b[m Copying: /usr/local/lib/python3.10/dist-packages/jupyter_contrib_nbextensions/nbextensions/go_to_current_running_cell/anchor.png -> /root/.local/share/jupyter/nbextensions/go_to_current_running_cell/anchor.png\n",
            "\u001b[32m[I 17:17:43 InstallContribNbextensionsApp]\u001b[m - Validating: \u001b[32mOK\u001b[0m\n",
            "\u001b[32m[I 17:17:43 InstallContribNbextensionsApp]\u001b[m Installing /usr/local/lib/python3.10/dist-packages/jupyter_contrib_nbextensions/nbextensions/exercise2 -> exercise2\n",
            "\u001b[32m[I 17:17:43 InstallContribNbextensionsApp]\u001b[m Making directory: /root/.local/share/jupyter/nbextensions/exercise2/\n",
            "\u001b[32m[I 17:17:43 InstallContribNbextensionsApp]\u001b[m Copying: /usr/local/lib/python3.10/dist-packages/jupyter_contrib_nbextensions/nbextensions/exercise2/main.js -> /root/.local/share/jupyter/nbextensions/exercise2/main.js\n",
            "\u001b[32m[I 17:17:43 InstallContribNbextensionsApp]\u001b[m Copying: /usr/local/lib/python3.10/dist-packages/jupyter_contrib_nbextensions/nbextensions/exercise2/readme.md -> /root/.local/share/jupyter/nbextensions/exercise2/readme.md\n",
            "\u001b[32m[I 17:17:43 InstallContribNbextensionsApp]\u001b[m Copying: /usr/local/lib/python3.10/dist-packages/jupyter_contrib_nbextensions/nbextensions/exercise2/icon.png -> /root/.local/share/jupyter/nbextensions/exercise2/icon.png\n",
            "\u001b[32m[I 17:17:43 InstallContribNbextensionsApp]\u001b[m Copying: /usr/local/lib/python3.10/dist-packages/jupyter_contrib_nbextensions/nbextensions/exercise2/exercise2.yaml -> /root/.local/share/jupyter/nbextensions/exercise2/exercise2.yaml\n",
            "\u001b[32m[I 17:17:43 InstallContribNbextensionsApp]\u001b[m Copying: /usr/local/lib/python3.10/dist-packages/jupyter_contrib_nbextensions/nbextensions/exercise2/main.css -> /root/.local/share/jupyter/nbextensions/exercise2/main.css\n",
            "\u001b[32m[I 17:17:43 InstallContribNbextensionsApp]\u001b[m Copying: /usr/local/lib/python3.10/dist-packages/jupyter_contrib_nbextensions/nbextensions/exercise2/image.gif -> /root/.local/share/jupyter/nbextensions/exercise2/image.gif\n",
            "\u001b[32m[I 17:17:43 InstallContribNbextensionsApp]\u001b[m - Validating: \u001b[32mOK\u001b[0m\n",
            "\u001b[32m[I 17:17:43 InstallContribNbextensionsApp]\u001b[m Installing /usr/local/lib/python3.10/dist-packages/jupyter_contrib_nbextensions/nbextensions/runtools -> runtools\n",
            "\u001b[32m[I 17:17:43 InstallContribNbextensionsApp]\u001b[m Making directory: /root/.local/share/jupyter/nbextensions/runtools/\n",
            "\u001b[32m[I 17:17:43 InstallContribNbextensionsApp]\u001b[m Copying: /usr/local/lib/python3.10/dist-packages/jupyter_contrib_nbextensions/nbextensions/runtools/annotations.odg -> /root/.local/share/jupyter/nbextensions/runtools/annotations.odg\n",
            "\u001b[32m[I 17:17:43 InstallContribNbextensionsApp]\u001b[m Copying: /usr/local/lib/python3.10/dist-packages/jupyter_contrib_nbextensions/nbextensions/runtools/main.js -> /root/.local/share/jupyter/nbextensions/runtools/main.js\n",
            "\u001b[32m[I 17:17:43 InstallContribNbextensionsApp]\u001b[m Copying: /usr/local/lib/python3.10/dist-packages/jupyter_contrib_nbextensions/nbextensions/runtools/runtools_lock.png -> /root/.local/share/jupyter/nbextensions/runtools/runtools_lock.png\n",
            "\u001b[32m[I 17:17:43 InstallContribNbextensionsApp]\u001b[m Copying: /usr/local/lib/python3.10/dist-packages/jupyter_contrib_nbextensions/nbextensions/runtools/gutter.css -> /root/.local/share/jupyter/nbextensions/runtools/gutter.css\n",
            "\u001b[32m[I 17:17:43 InstallContribNbextensionsApp]\u001b[m Copying: /usr/local/lib/python3.10/dist-packages/jupyter_contrib_nbextensions/nbextensions/runtools/cellstate.js -> /root/.local/share/jupyter/nbextensions/runtools/cellstate.js\n",
            "\u001b[32m[I 17:17:43 InstallContribNbextensionsApp]\u001b[m Copying: /usr/local/lib/python3.10/dist-packages/jupyter_contrib_nbextensions/nbextensions/runtools/runtools_nb.png -> /root/.local/share/jupyter/nbextensions/runtools/runtools_nb.png\n",
            "\u001b[32m[I 17:17:43 InstallContribNbextensionsApp]\u001b[m Copying: /usr/local/lib/python3.10/dist-packages/jupyter_contrib_nbextensions/nbextensions/runtools/demo.gif -> /root/.local/share/jupyter/nbextensions/runtools/demo.gif\n",
            "\u001b[32m[I 17:17:43 InstallContribNbextensionsApp]\u001b[m Copying: /usr/local/lib/python3.10/dist-packages/jupyter_contrib_nbextensions/nbextensions/runtools/runtools_marker.png -> /root/.local/share/jupyter/nbextensions/runtools/runtools_marker.png\n",
            "\u001b[32m[I 17:17:43 InstallContribNbextensionsApp]\u001b[m Copying: /usr/local/lib/python3.10/dist-packages/jupyter_contrib_nbextensions/nbextensions/runtools/runtools_execute.png -> /root/.local/share/jupyter/nbextensions/runtools/runtools_execute.png\n",
            "\u001b[32m[I 17:17:43 InstallContribNbextensionsApp]\u001b[m Copying: /usr/local/lib/python3.10/dist-packages/jupyter_contrib_nbextensions/nbextensions/runtools/readme.md -> /root/.local/share/jupyter/nbextensions/runtools/readme.md\n",
            "\u001b[32m[I 17:17:43 InstallContribNbextensionsApp]\u001b[m Copying: /usr/local/lib/python3.10/dist-packages/jupyter_contrib_nbextensions/nbextensions/runtools/runtools_show_hide.png -> /root/.local/share/jupyter/nbextensions/runtools/runtools_show_hide.png\n",
            "\u001b[32m[I 17:17:43 InstallContribNbextensionsApp]\u001b[m Copying: /usr/local/lib/python3.10/dist-packages/jupyter_contrib_nbextensions/nbextensions/runtools/runtools.yaml -> /root/.local/share/jupyter/nbextensions/runtools/runtools.yaml\n",
            "\u001b[32m[I 17:17:43 InstallContribNbextensionsApp]\u001b[m Copying: /usr/local/lib/python3.10/dist-packages/jupyter_contrib_nbextensions/nbextensions/runtools/icon.png -> /root/.local/share/jupyter/nbextensions/runtools/icon.png\n",
            "\u001b[32m[I 17:17:43 InstallContribNbextensionsApp]\u001b[m Copying: /usr/local/lib/python3.10/dist-packages/jupyter_contrib_nbextensions/nbextensions/runtools/main.css -> /root/.local/share/jupyter/nbextensions/runtools/main.css\n",
            "\u001b[32m[I 17:17:43 InstallContribNbextensionsApp]\u001b[m - Validating: \u001b[32mOK\u001b[0m\n",
            "\u001b[32m[I 17:17:43 InstallContribNbextensionsApp]\u001b[m Installing /usr/local/lib/python3.10/dist-packages/jupyter_contrib_nbextensions/nbextensions/collapsible_headings -> collapsible_headings\n",
            "\u001b[32m[I 17:17:43 InstallContribNbextensionsApp]\u001b[m Making directory: /root/.local/share/jupyter/nbextensions/collapsible_headings/\n",
            "\u001b[32m[I 17:17:43 InstallContribNbextensionsApp]\u001b[m Copying: /usr/local/lib/python3.10/dist-packages/jupyter_contrib_nbextensions/nbextensions/collapsible_headings/main.js -> /root/.local/share/jupyter/nbextensions/collapsible_headings/main.js\n",
            "\u001b[32m[I 17:17:43 InstallContribNbextensionsApp]\u001b[m Copying: /usr/local/lib/python3.10/dist-packages/jupyter_contrib_nbextensions/nbextensions/collapsible_headings/collapsible_headings.yaml -> /root/.local/share/jupyter/nbextensions/collapsible_headings/collapsible_headings.yaml\n",
            "\u001b[32m[I 17:17:43 InstallContribNbextensionsApp]\u001b[m Copying: /usr/local/lib/python3.10/dist-packages/jupyter_contrib_nbextensions/nbextensions/collapsible_headings/readme.md -> /root/.local/share/jupyter/nbextensions/collapsible_headings/readme.md\n",
            "\u001b[32m[I 17:17:43 InstallContribNbextensionsApp]\u001b[m Copying: /usr/local/lib/python3.10/dist-packages/jupyter_contrib_nbextensions/nbextensions/collapsible_headings/icon.png -> /root/.local/share/jupyter/nbextensions/collapsible_headings/icon.png\n",
            "\u001b[32m[I 17:17:43 InstallContribNbextensionsApp]\u001b[m Copying: /usr/local/lib/python3.10/dist-packages/jupyter_contrib_nbextensions/nbextensions/collapsible_headings/main.css -> /root/.local/share/jupyter/nbextensions/collapsible_headings/main.css\n",
            "\u001b[32m[I 17:17:43 InstallContribNbextensionsApp]\u001b[m Copying: /usr/local/lib/python3.10/dist-packages/jupyter_contrib_nbextensions/nbextensions/collapsible_headings/screenshot.png -> /root/.local/share/jupyter/nbextensions/collapsible_headings/screenshot.png\n",
            "\u001b[32m[I 17:17:43 InstallContribNbextensionsApp]\u001b[m - Validating: \u001b[32mOK\u001b[0m\n",
            "\u001b[32m[I 17:17:43 InstallContribNbextensionsApp]\u001b[m Installing /usr/local/lib/python3.10/dist-packages/jupyter_contrib_nbextensions/nbextensions/execute_time -> execute_time\n",
            "\u001b[32m[I 17:17:43 InstallContribNbextensionsApp]\u001b[m Making directory: /root/.local/share/jupyter/nbextensions/execute_time/\n",
            "\u001b[32m[I 17:17:43 InstallContribNbextensionsApp]\u001b[m Copying: /usr/local/lib/python3.10/dist-packages/jupyter_contrib_nbextensions/nbextensions/execute_time/ExecuteTime.js -> /root/.local/share/jupyter/nbextensions/execute_time/ExecuteTime.js\n",
            "\u001b[32m[I 17:17:43 InstallContribNbextensionsApp]\u001b[m Copying: /usr/local/lib/python3.10/dist-packages/jupyter_contrib_nbextensions/nbextensions/execute_time/ExecuteTime.css -> /root/.local/share/jupyter/nbextensions/execute_time/ExecuteTime.css\n",
            "\u001b[32m[I 17:17:43 InstallContribNbextensionsApp]\u001b[m Copying: /usr/local/lib/python3.10/dist-packages/jupyter_contrib_nbextensions/nbextensions/execute_time/execution-timings-menu.png -> /root/.local/share/jupyter/nbextensions/execute_time/execution-timings-menu.png\n",
            "\u001b[32m[I 17:17:43 InstallContribNbextensionsApp]\u001b[m Copying: /usr/local/lib/python3.10/dist-packages/jupyter_contrib_nbextensions/nbextensions/execute_time/readme.md -> /root/.local/share/jupyter/nbextensions/execute_time/readme.md\n",
            "\u001b[32m[I 17:17:43 InstallContribNbextensionsApp]\u001b[m Copying: /usr/local/lib/python3.10/dist-packages/jupyter_contrib_nbextensions/nbextensions/execute_time/execution-timings-box.png -> /root/.local/share/jupyter/nbextensions/execute_time/execution-timings-box.png\n",
            "\u001b[32m[I 17:17:43 InstallContribNbextensionsApp]\u001b[m Copying: /usr/local/lib/python3.10/dist-packages/jupyter_contrib_nbextensions/nbextensions/execute_time/icon.png -> /root/.local/share/jupyter/nbextensions/execute_time/icon.png\n",
            "\u001b[32m[I 17:17:43 InstallContribNbextensionsApp]\u001b[m Copying: /usr/local/lib/python3.10/dist-packages/jupyter_contrib_nbextensions/nbextensions/execute_time/ExecuteTime.yaml -> /root/.local/share/jupyter/nbextensions/execute_time/ExecuteTime.yaml\n",
            "\u001b[32m[I 17:17:43 InstallContribNbextensionsApp]\u001b[m - Validating: \u001b[32mOK\u001b[0m\n",
            "\u001b[32m[I 17:17:43 InstallContribNbextensionsApp]\u001b[m Installing /usr/local/lib/python3.10/dist-packages/jupyter_contrib_nbextensions/nbextensions/code_font_size -> code_font_size\n",
            "\u001b[32m[I 17:17:43 InstallContribNbextensionsApp]\u001b[m Making directory: /root/.local/share/jupyter/nbextensions/code_font_size/\n",
            "\u001b[32m[I 17:17:43 InstallContribNbextensionsApp]\u001b[m Copying: /usr/local/lib/python3.10/dist-packages/jupyter_contrib_nbextensions/nbextensions/code_font_size/code_font_size.yaml -> /root/.local/share/jupyter/nbextensions/code_font_size/code_font_size.yaml\n",
            "\u001b[32m[I 17:17:43 InstallContribNbextensionsApp]\u001b[m Copying: /usr/local/lib/python3.10/dist-packages/jupyter_contrib_nbextensions/nbextensions/code_font_size/README.md -> /root/.local/share/jupyter/nbextensions/code_font_size/README.md\n",
            "\u001b[32m[I 17:17:43 InstallContribNbextensionsApp]\u001b[m Copying: /usr/local/lib/python3.10/dist-packages/jupyter_contrib_nbextensions/nbextensions/code_font_size/code_font_size.js -> /root/.local/share/jupyter/nbextensions/code_font_size/code_font_size.js\n",
            "\u001b[32m[I 17:17:43 InstallContribNbextensionsApp]\u001b[m - Validating: \u001b[32mOK\u001b[0m\n",
            "\u001b[32m[I 17:17:43 InstallContribNbextensionsApp]\u001b[m Installing /usr/local/lib/python3.10/dist-packages/jupyter_contrib_nbextensions/nbextensions/livemdpreview -> livemdpreview\n",
            "\u001b[32m[I 17:17:43 InstallContribNbextensionsApp]\u001b[m Making directory: /root/.local/share/jupyter/nbextensions/livemdpreview/\n",
            "\u001b[32m[I 17:17:43 InstallContribNbextensionsApp]\u001b[m Copying: /usr/local/lib/python3.10/dist-packages/jupyter_contrib_nbextensions/nbextensions/livemdpreview/livemdpreview.yml -> /root/.local/share/jupyter/nbextensions/livemdpreview/livemdpreview.yml\n",
            "\u001b[32m[I 17:17:43 InstallContribNbextensionsApp]\u001b[m Copying: /usr/local/lib/python3.10/dist-packages/jupyter_contrib_nbextensions/nbextensions/livemdpreview/livemdpreview.js -> /root/.local/share/jupyter/nbextensions/livemdpreview/livemdpreview.js\n",
            "\u001b[32m[I 17:17:43 InstallContribNbextensionsApp]\u001b[m - Validating: \u001b[32mOK\u001b[0m\n",
            "\u001b[32m[I 17:17:43 InstallContribNbextensionsApp]\u001b[m Installing /usr/local/lib/python3.10/dist-packages/jupyter_contrib_nbextensions/nbextensions/limit_output -> limit_output\n",
            "\u001b[32m[I 17:17:43 InstallContribNbextensionsApp]\u001b[m Making directory: /root/.local/share/jupyter/nbextensions/limit_output/\n",
            "\u001b[32m[I 17:17:43 InstallContribNbextensionsApp]\u001b[m Copying: /usr/local/lib/python3.10/dist-packages/jupyter_contrib_nbextensions/nbextensions/limit_output/limit-output.yaml -> /root/.local/share/jupyter/nbextensions/limit_output/limit-output.yaml\n",
            "\u001b[32m[I 17:17:43 InstallContribNbextensionsApp]\u001b[m Copying: /usr/local/lib/python3.10/dist-packages/jupyter_contrib_nbextensions/nbextensions/limit_output/main.js -> /root/.local/share/jupyter/nbextensions/limit_output/main.js\n",
            "\u001b[32m[I 17:17:43 InstallContribNbextensionsApp]\u001b[m Copying: /usr/local/lib/python3.10/dist-packages/jupyter_contrib_nbextensions/nbextensions/limit_output/readme.md -> /root/.local/share/jupyter/nbextensions/limit_output/readme.md\n",
            "\u001b[32m[I 17:17:43 InstallContribNbextensionsApp]\u001b[m Copying: /usr/local/lib/python3.10/dist-packages/jupyter_contrib_nbextensions/nbextensions/limit_output/icon.png -> /root/.local/share/jupyter/nbextensions/limit_output/icon.png\n",
            "\u001b[32m[I 17:17:43 InstallContribNbextensionsApp]\u001b[m - Validating: \u001b[32mOK\u001b[0m\n",
            "\u001b[32m[I 17:17:43 InstallContribNbextensionsApp]\u001b[m Installing /usr/local/lib/python3.10/dist-packages/jupyter_contrib_nbextensions/nbextensions/load_tex_macros -> load_tex_macros\n",
            "\u001b[32m[I 17:17:43 InstallContribNbextensionsApp]\u001b[m Making directory: /root/.local/share/jupyter/nbextensions/load_tex_macros/\n",
            "\u001b[32m[I 17:17:43 InstallContribNbextensionsApp]\u001b[m Copying: /usr/local/lib/python3.10/dist-packages/jupyter_contrib_nbextensions/nbextensions/load_tex_macros/main.js -> /root/.local/share/jupyter/nbextensions/load_tex_macros/main.js\n",
            "\u001b[32m[I 17:17:43 InstallContribNbextensionsApp]\u001b[m Copying: /usr/local/lib/python3.10/dist-packages/jupyter_contrib_nbextensions/nbextensions/load_tex_macros/readme.md -> /root/.local/share/jupyter/nbextensions/load_tex_macros/readme.md\n",
            "\u001b[32m[I 17:17:43 InstallContribNbextensionsApp]\u001b[m Copying: /usr/local/lib/python3.10/dist-packages/jupyter_contrib_nbextensions/nbextensions/load_tex_macros/load_tex_macros.yaml -> /root/.local/share/jupyter/nbextensions/load_tex_macros/load_tex_macros.yaml\n",
            "\u001b[32m[I 17:17:43 InstallContribNbextensionsApp]\u001b[m Copying: /usr/local/lib/python3.10/dist-packages/jupyter_contrib_nbextensions/nbextensions/load_tex_macros/icon.png -> /root/.local/share/jupyter/nbextensions/load_tex_macros/icon.png\n",
            "\u001b[32m[I 17:17:43 InstallContribNbextensionsApp]\u001b[m - Validating: \u001b[32mOK\u001b[0m\n",
            "\u001b[32m[I 17:17:43 InstallContribNbextensionsApp]\u001b[m Installing /usr/local/lib/python3.10/dist-packages/jupyter_contrib_nbextensions/nbextensions/execution_dependencies -> execution_dependencies\n",
            "\u001b[32m[I 17:17:43 InstallContribNbextensionsApp]\u001b[m Making directory: /root/.local/share/jupyter/nbextensions/execution_dependencies/\n",
            "\u001b[32m[I 17:17:43 InstallContribNbextensionsApp]\u001b[m Copying: /usr/local/lib/python3.10/dist-packages/jupyter_contrib_nbextensions/nbextensions/execution_dependencies/execution_dependencies.js -> /root/.local/share/jupyter/nbextensions/execution_dependencies/execution_dependencies.js\n",
            "\u001b[32m[I 17:17:43 InstallContribNbextensionsApp]\u001b[m Copying: /usr/local/lib/python3.10/dist-packages/jupyter_contrib_nbextensions/nbextensions/execution_dependencies/README.md -> /root/.local/share/jupyter/nbextensions/execution_dependencies/README.md\n",
            "\u001b[32m[I 17:17:43 InstallContribNbextensionsApp]\u001b[m Copying: /usr/local/lib/python3.10/dist-packages/jupyter_contrib_nbextensions/nbextensions/execution_dependencies/execution_dependencies.yml -> /root/.local/share/jupyter/nbextensions/execution_dependencies/execution_dependencies.yml\n",
            "\u001b[32m[I 17:17:43 InstallContribNbextensionsApp]\u001b[m - Validating: \u001b[32mOK\u001b[0m\n",
            "\u001b[32m[I 17:17:43 InstallContribNbextensionsApp]\u001b[m Installing /usr/local/lib/python3.10/dist-packages/jupyter_contrib_nbextensions/nbextensions/init_cell -> init_cell\n",
            "\u001b[32m[I 17:17:43 InstallContribNbextensionsApp]\u001b[m Making directory: /root/.local/share/jupyter/nbextensions/init_cell/\n",
            "\u001b[32m[I 17:17:43 InstallContribNbextensionsApp]\u001b[m Copying: /usr/local/lib/python3.10/dist-packages/jupyter_contrib_nbextensions/nbextensions/init_cell/README.md -> /root/.local/share/jupyter/nbextensions/init_cell/README.md\n",
            "\u001b[32m[I 17:17:43 InstallContribNbextensionsApp]\u001b[m Copying: /usr/local/lib/python3.10/dist-packages/jupyter_contrib_nbextensions/nbextensions/init_cell/main.js -> /root/.local/share/jupyter/nbextensions/init_cell/main.js\n",
            "\u001b[32m[I 17:17:43 InstallContribNbextensionsApp]\u001b[m Copying: /usr/local/lib/python3.10/dist-packages/jupyter_contrib_nbextensions/nbextensions/init_cell/cell_toolbar_menu.png -> /root/.local/share/jupyter/nbextensions/init_cell/cell_toolbar_menu.png\n",
            "\u001b[32m[I 17:17:43 InstallContribNbextensionsApp]\u001b[m Copying: /usr/local/lib/python3.10/dist-packages/jupyter_contrib_nbextensions/nbextensions/init_cell/icon.png -> /root/.local/share/jupyter/nbextensions/init_cell/icon.png\n",
            "\u001b[32m[I 17:17:43 InstallContribNbextensionsApp]\u001b[m Copying: /usr/local/lib/python3.10/dist-packages/jupyter_contrib_nbextensions/nbextensions/init_cell/init_cell.yaml -> /root/.local/share/jupyter/nbextensions/init_cell/init_cell.yaml\n",
            "\u001b[32m[I 17:17:43 InstallContribNbextensionsApp]\u001b[m - Validating: \u001b[32mOK\u001b[0m\n",
            "\u001b[32m[I 17:17:43 InstallContribNbextensionsApp]\u001b[m Installing /usr/local/lib/python3.10/dist-packages/jupyter_contrib_nbextensions/nbextensions/contrib_nbextensions_help_item -> contrib_nbextensions_help_item\n",
            "\u001b[32m[I 17:17:43 InstallContribNbextensionsApp]\u001b[m Making directory: /root/.local/share/jupyter/nbextensions/contrib_nbextensions_help_item/\n",
            "\u001b[32m[I 17:17:43 InstallContribNbextensionsApp]\u001b[m Copying: /usr/local/lib/python3.10/dist-packages/jupyter_contrib_nbextensions/nbextensions/contrib_nbextensions_help_item/README.md -> /root/.local/share/jupyter/nbextensions/contrib_nbextensions_help_item/README.md\n",
            "\u001b[32m[I 17:17:43 InstallContribNbextensionsApp]\u001b[m Copying: /usr/local/lib/python3.10/dist-packages/jupyter_contrib_nbextensions/nbextensions/contrib_nbextensions_help_item/contrib_nbextensions_help_item.yaml -> /root/.local/share/jupyter/nbextensions/contrib_nbextensions_help_item/contrib_nbextensions_help_item.yaml\n",
            "\u001b[32m[I 17:17:43 InstallContribNbextensionsApp]\u001b[m Copying: /usr/local/lib/python3.10/dist-packages/jupyter_contrib_nbextensions/nbextensions/contrib_nbextensions_help_item/main.js -> /root/.local/share/jupyter/nbextensions/contrib_nbextensions_help_item/main.js\n",
            "\u001b[32m[I 17:17:43 InstallContribNbextensionsApp]\u001b[m - Validating: \u001b[32mOK\u001b[0m\n",
            "\u001b[32m[I 17:17:43 InstallContribNbextensionsApp]\u001b[m Installing /usr/local/lib/python3.10/dist-packages/jupyter_contrib_nbextensions/nbextensions/hide_header -> hide_header\n",
            "\u001b[32m[I 17:17:43 InstallContribNbextensionsApp]\u001b[m Making directory: /root/.local/share/jupyter/nbextensions/hide_header/\n",
            "\u001b[32m[I 17:17:43 InstallContribNbextensionsApp]\u001b[m Copying: /usr/local/lib/python3.10/dist-packages/jupyter_contrib_nbextensions/nbextensions/hide_header/hide_header.yaml -> /root/.local/share/jupyter/nbextensions/hide_header/hide_header.yaml\n",
            "\u001b[32m[I 17:17:43 InstallContribNbextensionsApp]\u001b[m Copying: /usr/local/lib/python3.10/dist-packages/jupyter_contrib_nbextensions/nbextensions/hide_header/README.md -> /root/.local/share/jupyter/nbextensions/hide_header/README.md\n",
            "\u001b[32m[I 17:17:43 InstallContribNbextensionsApp]\u001b[m Copying: /usr/local/lib/python3.10/dist-packages/jupyter_contrib_nbextensions/nbextensions/hide_header/main.js -> /root/.local/share/jupyter/nbextensions/hide_header/main.js\n",
            "\u001b[32m[I 17:17:43 InstallContribNbextensionsApp]\u001b[m - Validating: \u001b[32mOK\u001b[0m\n",
            "\u001b[32m[I 17:17:43 InstallContribNbextensionsApp]\u001b[m Installing /usr/local/lib/python3.10/dist-packages/jupyter_contrib_nbextensions/nbextensions/printview -> printview\n",
            "\u001b[32m[I 17:17:43 InstallContribNbextensionsApp]\u001b[m Making directory: /root/.local/share/jupyter/nbextensions/printview/\n",
            "\u001b[32m[I 17:17:43 InstallContribNbextensionsApp]\u001b[m Copying: /usr/local/lib/python3.10/dist-packages/jupyter_contrib_nbextensions/nbextensions/printview/printview-button.png -> /root/.local/share/jupyter/nbextensions/printview/printview-button.png\n",
            "\u001b[32m[I 17:17:43 InstallContribNbextensionsApp]\u001b[m Copying: /usr/local/lib/python3.10/dist-packages/jupyter_contrib_nbextensions/nbextensions/printview/main.js -> /root/.local/share/jupyter/nbextensions/printview/main.js\n",
            "\u001b[32m[I 17:17:43 InstallContribNbextensionsApp]\u001b[m Copying: /usr/local/lib/python3.10/dist-packages/jupyter_contrib_nbextensions/nbextensions/printview/printview.yaml -> /root/.local/share/jupyter/nbextensions/printview/printview.yaml\n",
            "\u001b[32m[I 17:17:43 InstallContribNbextensionsApp]\u001b[m Copying: /usr/local/lib/python3.10/dist-packages/jupyter_contrib_nbextensions/nbextensions/printview/readme.md -> /root/.local/share/jupyter/nbextensions/printview/readme.md\n",
            "\u001b[32m[I 17:17:43 InstallContribNbextensionsApp]\u001b[m Copying: /usr/local/lib/python3.10/dist-packages/jupyter_contrib_nbextensions/nbextensions/printview/icon.png -> /root/.local/share/jupyter/nbextensions/printview/icon.png\n",
            "\u001b[32m[I 17:17:43 InstallContribNbextensionsApp]\u001b[m - Validating: \u001b[32mOK\u001b[0m\n",
            "\u001b[32m[I 17:17:43 InstallContribNbextensionsApp]\u001b[m Installing /usr/local/lib/python3.10/dist-packages/jupyter_contrib_nbextensions/nbextensions/skip-traceback -> skip-traceback\n",
            "\u001b[32m[I 17:17:43 InstallContribNbextensionsApp]\u001b[m Making directory: /root/.local/share/jupyter/nbextensions/skip-traceback/\n",
            "\u001b[32m[I 17:17:43 InstallContribNbextensionsApp]\u001b[m Copying: /usr/local/lib/python3.10/dist-packages/jupyter_contrib_nbextensions/nbextensions/skip-traceback/skip-traceback.png -> /root/.local/share/jupyter/nbextensions/skip-traceback/skip-traceback.png\n",
            "\u001b[32m[I 17:17:43 InstallContribNbextensionsApp]\u001b[m Copying: /usr/local/lib/python3.10/dist-packages/jupyter_contrib_nbextensions/nbextensions/skip-traceback/main.js -> /root/.local/share/jupyter/nbextensions/skip-traceback/main.js\n",
            "\u001b[32m[I 17:17:43 InstallContribNbextensionsApp]\u001b[m Copying: /usr/local/lib/python3.10/dist-packages/jupyter_contrib_nbextensions/nbextensions/skip-traceback/skip-traceback.yaml -> /root/.local/share/jupyter/nbextensions/skip-traceback/skip-traceback.yaml\n",
            "\u001b[32m[I 17:17:43 InstallContribNbextensionsApp]\u001b[m Copying: /usr/local/lib/python3.10/dist-packages/jupyter_contrib_nbextensions/nbextensions/skip-traceback/readme.md -> /root/.local/share/jupyter/nbextensions/skip-traceback/readme.md\n",
            "\u001b[32m[I 17:17:43 InstallContribNbextensionsApp]\u001b[m Copying: /usr/local/lib/python3.10/dist-packages/jupyter_contrib_nbextensions/nbextensions/skip-traceback/traceback.png -> /root/.local/share/jupyter/nbextensions/skip-traceback/traceback.png\n",
            "\u001b[32m[I 17:17:43 InstallContribNbextensionsApp]\u001b[m Copying: /usr/local/lib/python3.10/dist-packages/jupyter_contrib_nbextensions/nbextensions/skip-traceback/icon.png -> /root/.local/share/jupyter/nbextensions/skip-traceback/icon.png\n",
            "\u001b[32m[I 17:17:43 InstallContribNbextensionsApp]\u001b[m - Validating: \u001b[32mOK\u001b[0m\n",
            "\u001b[32m[I 17:17:43 InstallContribNbextensionsApp]\u001b[m Installing /usr/local/lib/python3.10/dist-packages/jupyter_contrib_nbextensions/nbextensions/tree-filter -> tree-filter\n",
            "\u001b[32m[I 17:17:43 InstallContribNbextensionsApp]\u001b[m Making directory: /root/.local/share/jupyter/nbextensions/tree-filter/\n",
            "\u001b[32m[I 17:17:43 InstallContribNbextensionsApp]\u001b[m Copying: /usr/local/lib/python3.10/dist-packages/jupyter_contrib_nbextensions/nbextensions/tree-filter/demo.gif -> /root/.local/share/jupyter/nbextensions/tree-filter/demo.gif\n",
            "\u001b[32m[I 17:17:43 InstallContribNbextensionsApp]\u001b[m Copying: /usr/local/lib/python3.10/dist-packages/jupyter_contrib_nbextensions/nbextensions/tree-filter/readme.md -> /root/.local/share/jupyter/nbextensions/tree-filter/readme.md\n",
            "\u001b[32m[I 17:17:43 InstallContribNbextensionsApp]\u001b[m Copying: /usr/local/lib/python3.10/dist-packages/jupyter_contrib_nbextensions/nbextensions/tree-filter/tree-filter.yaml -> /root/.local/share/jupyter/nbextensions/tree-filter/tree-filter.yaml\n",
            "\u001b[32m[I 17:17:43 InstallContribNbextensionsApp]\u001b[m Copying: /usr/local/lib/python3.10/dist-packages/jupyter_contrib_nbextensions/nbextensions/tree-filter/index.js -> /root/.local/share/jupyter/nbextensions/tree-filter/index.js\n",
            "\u001b[32m[I 17:17:43 InstallContribNbextensionsApp]\u001b[m - Validating: \u001b[32mOK\u001b[0m\n",
            "\u001b[32m[I 17:17:43 InstallContribNbextensionsApp]\u001b[m Installing /usr/local/lib/python3.10/dist-packages/jupyter_contrib_nbextensions/nbextensions/exercise -> exercise\n",
            "\u001b[32m[I 17:17:43 InstallContribNbextensionsApp]\u001b[m Making directory: /root/.local/share/jupyter/nbextensions/exercise/\n",
            "\u001b[32m[I 17:17:43 InstallContribNbextensionsApp]\u001b[m Copying: /usr/local/lib/python3.10/dist-packages/jupyter_contrib_nbextensions/nbextensions/exercise/exercise.yaml -> /root/.local/share/jupyter/nbextensions/exercise/exercise.yaml\n",
            "\u001b[32m[I 17:17:43 InstallContribNbextensionsApp]\u001b[m Copying: /usr/local/lib/python3.10/dist-packages/jupyter_contrib_nbextensions/nbextensions/exercise/history.md -> /root/.local/share/jupyter/nbextensions/exercise/history.md\n",
            "\u001b[32m[I 17:17:43 InstallContribNbextensionsApp]\u001b[m Copying: /usr/local/lib/python3.10/dist-packages/jupyter_contrib_nbextensions/nbextensions/exercise/main.js -> /root/.local/share/jupyter/nbextensions/exercise/main.js\n",
            "\u001b[32m[I 17:17:43 InstallContribNbextensionsApp]\u001b[m Copying: /usr/local/lib/python3.10/dist-packages/jupyter_contrib_nbextensions/nbextensions/exercise/readme.md -> /root/.local/share/jupyter/nbextensions/exercise/readme.md\n",
            "\u001b[32m[I 17:17:43 InstallContribNbextensionsApp]\u001b[m Copying: /usr/local/lib/python3.10/dist-packages/jupyter_contrib_nbextensions/nbextensions/exercise/icon.png -> /root/.local/share/jupyter/nbextensions/exercise/icon.png\n",
            "\u001b[32m[I 17:17:43 InstallContribNbextensionsApp]\u001b[m Copying: /usr/local/lib/python3.10/dist-packages/jupyter_contrib_nbextensions/nbextensions/exercise/main.css -> /root/.local/share/jupyter/nbextensions/exercise/main.css\n",
            "\u001b[32m[I 17:17:43 InstallContribNbextensionsApp]\u001b[m Copying: /usr/local/lib/python3.10/dist-packages/jupyter_contrib_nbextensions/nbextensions/exercise/image.gif -> /root/.local/share/jupyter/nbextensions/exercise/image.gif\n",
            "\u001b[32m[I 17:17:43 InstallContribNbextensionsApp]\u001b[m - Validating: \u001b[32mOK\u001b[0m\n",
            "\u001b[32m[I 17:17:43 InstallContribNbextensionsApp]\u001b[m Installing /usr/local/lib/python3.10/dist-packages/jupyter_contrib_nbextensions/nbextensions/help_panel -> help_panel\n",
            "\u001b[32m[I 17:17:43 InstallContribNbextensionsApp]\u001b[m Making directory: /root/.local/share/jupyter/nbextensions/help_panel/\n",
            "\u001b[32m[I 17:17:43 InstallContribNbextensionsApp]\u001b[m Copying: /usr/local/lib/python3.10/dist-packages/jupyter_contrib_nbextensions/nbextensions/help_panel/help_panel.yaml -> /root/.local/share/jupyter/nbextensions/help_panel/help_panel.yaml\n",
            "\u001b[32m[I 17:17:43 InstallContribNbextensionsApp]\u001b[m Copying: /usr/local/lib/python3.10/dist-packages/jupyter_contrib_nbextensions/nbextensions/help_panel/help_panel.js -> /root/.local/share/jupyter/nbextensions/help_panel/help_panel.js\n",
            "\u001b[32m[I 17:17:43 InstallContribNbextensionsApp]\u001b[m Copying: /usr/local/lib/python3.10/dist-packages/jupyter_contrib_nbextensions/nbextensions/help_panel/help_panel.css -> /root/.local/share/jupyter/nbextensions/help_panel/help_panel.css\n",
            "\u001b[32m[I 17:17:43 InstallContribNbextensionsApp]\u001b[m Copying: /usr/local/lib/python3.10/dist-packages/jupyter_contrib_nbextensions/nbextensions/help_panel/help_panel_ext.png -> /root/.local/share/jupyter/nbextensions/help_panel/help_panel_ext.png\n",
            "\u001b[32m[I 17:17:43 InstallContribNbextensionsApp]\u001b[m Copying: /usr/local/lib/python3.10/dist-packages/jupyter_contrib_nbextensions/nbextensions/help_panel/readme.md -> /root/.local/share/jupyter/nbextensions/help_panel/readme.md\n",
            "\u001b[32m[I 17:17:43 InstallContribNbextensionsApp]\u001b[m Copying: /usr/local/lib/python3.10/dist-packages/jupyter_contrib_nbextensions/nbextensions/help_panel/help_panel_ext_fullscreen.png -> /root/.local/share/jupyter/nbextensions/help_panel/help_panel_ext_fullscreen.png\n",
            "\u001b[32m[I 17:17:43 InstallContribNbextensionsApp]\u001b[m Copying: /usr/local/lib/python3.10/dist-packages/jupyter_contrib_nbextensions/nbextensions/help_panel/icon.png -> /root/.local/share/jupyter/nbextensions/help_panel/icon.png\n",
            "\u001b[32m[I 17:17:43 InstallContribNbextensionsApp]\u001b[m Making directory: /root/.local/share/jupyter/nbextensions/help_panel/img\n",
            "\u001b[32m[I 17:17:43 InstallContribNbextensionsApp]\u001b[m Copying: /usr/local/lib/python3.10/dist-packages/jupyter_contrib_nbextensions/nbextensions/help_panel/img/handle-v.png -> /root/.local/share/jupyter/nbextensions/help_panel/img/handle-v.png\n",
            "\u001b[32m[I 17:17:43 InstallContribNbextensionsApp]\u001b[m - Validating: \u001b[32mOK\u001b[0m\n",
            "\u001b[32m[I 17:17:43 InstallContribNbextensionsApp]\u001b[m Installing /usr/local/lib/python3.10/dist-packages/jupyter_contrib_nbextensions/nbextensions/select_keymap -> select_keymap\n",
            "\u001b[32m[I 17:17:43 InstallContribNbextensionsApp]\u001b[m Making directory: /root/.local/share/jupyter/nbextensions/select_keymap/\n",
            "\u001b[32m[I 17:17:43 InstallContribNbextensionsApp]\u001b[m Copying: /usr/local/lib/python3.10/dist-packages/jupyter_contrib_nbextensions/nbextensions/select_keymap/README.md -> /root/.local/share/jupyter/nbextensions/select_keymap/README.md\n",
            "\u001b[32m[I 17:17:43 InstallContribNbextensionsApp]\u001b[m Copying: /usr/local/lib/python3.10/dist-packages/jupyter_contrib_nbextensions/nbextensions/select_keymap/main.js -> /root/.local/share/jupyter/nbextensions/select_keymap/main.js\n",
            "\u001b[32m[I 17:17:43 InstallContribNbextensionsApp]\u001b[m Copying: /usr/local/lib/python3.10/dist-packages/jupyter_contrib_nbextensions/nbextensions/select_keymap/select_keymap.png -> /root/.local/share/jupyter/nbextensions/select_keymap/select_keymap.png\n",
            "\u001b[32m[I 17:17:43 InstallContribNbextensionsApp]\u001b[m Copying: /usr/local/lib/python3.10/dist-packages/jupyter_contrib_nbextensions/nbextensions/select_keymap/select_keymap.yaml -> /root/.local/share/jupyter/nbextensions/select_keymap/select_keymap.yaml\n",
            "\u001b[32m[I 17:17:43 InstallContribNbextensionsApp]\u001b[m - Validating: \u001b[32mOK\u001b[0m\n",
            "\u001b[32m[I 17:17:43 InstallContribNbextensionsApp]\u001b[m Installing /usr/local/lib/python3.10/dist-packages/jupyter_contrib_nbextensions/nbextensions/splitcell -> splitcell\n",
            "\u001b[32m[I 17:17:43 InstallContribNbextensionsApp]\u001b[m Making directory: /root/.local/share/jupyter/nbextensions/splitcell/\n",
            "\u001b[32m[I 17:17:43 InstallContribNbextensionsApp]\u001b[m Copying: /usr/local/lib/python3.10/dist-packages/jupyter_contrib_nbextensions/nbextensions/splitcell/splitcell.yaml -> /root/.local/share/jupyter/nbextensions/splitcell/splitcell.yaml\n",
            "\u001b[32m[I 17:17:43 InstallContribNbextensionsApp]\u001b[m Copying: /usr/local/lib/python3.10/dist-packages/jupyter_contrib_nbextensions/nbextensions/splitcell/readme.md -> /root/.local/share/jupyter/nbextensions/splitcell/readme.md\n",
            "\u001b[32m[I 17:17:43 InstallContribNbextensionsApp]\u001b[m Copying: /usr/local/lib/python3.10/dist-packages/jupyter_contrib_nbextensions/nbextensions/splitcell/icon.png -> /root/.local/share/jupyter/nbextensions/splitcell/icon.png\n",
            "\u001b[32m[I 17:17:43 InstallContribNbextensionsApp]\u001b[m Copying: /usr/local/lib/python3.10/dist-packages/jupyter_contrib_nbextensions/nbextensions/splitcell/splitcell.js -> /root/.local/share/jupyter/nbextensions/splitcell/splitcell.js\n",
            "\u001b[32m[I 17:17:43 InstallContribNbextensionsApp]\u001b[m - Validating: \u001b[32mOK\u001b[0m\n",
            "\u001b[32m[I 17:17:43 InstallContribNbextensionsApp]\u001b[m Installing /usr/local/lib/python3.10/dist-packages/jupyter_contrib_nbextensions/nbextensions/table_beautifier -> table_beautifier\n",
            "\u001b[32m[I 17:17:43 InstallContribNbextensionsApp]\u001b[m Making directory: /root/.local/share/jupyter/nbextensions/table_beautifier/\n",
            "\u001b[32m[I 17:17:43 InstallContribNbextensionsApp]\u001b[m Copying: /usr/local/lib/python3.10/dist-packages/jupyter_contrib_nbextensions/nbextensions/table_beautifier/README.md -> /root/.local/share/jupyter/nbextensions/table_beautifier/README.md\n",
            "\u001b[32m[I 17:17:43 InstallContribNbextensionsApp]\u001b[m Copying: /usr/local/lib/python3.10/dist-packages/jupyter_contrib_nbextensions/nbextensions/table_beautifier/main.js -> /root/.local/share/jupyter/nbextensions/table_beautifier/main.js\n",
            "\u001b[32m[I 17:17:43 InstallContribNbextensionsApp]\u001b[m Copying: /usr/local/lib/python3.10/dist-packages/jupyter_contrib_nbextensions/nbextensions/table_beautifier/table_beautifier.yaml -> /root/.local/share/jupyter/nbextensions/table_beautifier/table_beautifier.yaml\n",
            "\u001b[32m[I 17:17:43 InstallContribNbextensionsApp]\u001b[m Copying: /usr/local/lib/python3.10/dist-packages/jupyter_contrib_nbextensions/nbextensions/table_beautifier/main.css -> /root/.local/share/jupyter/nbextensions/table_beautifier/main.css\n",
            "\u001b[32m[I 17:17:43 InstallContribNbextensionsApp]\u001b[m - Validating: \u001b[32mOK\u001b[0m\n",
            "\u001b[32m[I 17:17:43 InstallContribNbextensionsApp]\u001b[m Installing /usr/local/lib/python3.10/dist-packages/jupyter_contrib_nbextensions/nbextensions/nbTranslate -> nbTranslate\n",
            "\u001b[32m[I 17:17:43 InstallContribNbextensionsApp]\u001b[m Making directory: /root/.local/share/jupyter/nbextensions/nbTranslate/\n",
            "\u001b[32m[I 17:17:43 InstallContribNbextensionsApp]\u001b[m Copying: /usr/local/lib/python3.10/dist-packages/jupyter_contrib_nbextensions/nbextensions/nbTranslate/demo2.gif -> /root/.local/share/jupyter/nbextensions/nbTranslate/demo2.gif\n",
            "\u001b[32m[I 17:17:43 InstallContribNbextensionsApp]\u001b[m Copying: /usr/local/lib/python3.10/dist-packages/jupyter_contrib_nbextensions/nbextensions/nbTranslate/nbTranslate.yaml -> /root/.local/share/jupyter/nbextensions/nbTranslate/nbTranslate.yaml\n",
            "\u001b[32m[I 17:17:43 InstallContribNbextensionsApp]\u001b[m Copying: /usr/local/lib/python3.10/dist-packages/jupyter_contrib_nbextensions/nbextensions/nbTranslate/demo1.gif -> /root/.local/share/jupyter/nbextensions/nbTranslate/demo1.gif\n",
            "\u001b[32m[I 17:17:43 InstallContribNbextensionsApp]\u001b[m Copying: /usr/local/lib/python3.10/dist-packages/jupyter_contrib_nbextensions/nbextensions/nbTranslate/README.md -> /root/.local/share/jupyter/nbextensions/nbTranslate/README.md\n",
            "\u001b[32m[I 17:17:43 InstallContribNbextensionsApp]\u001b[m Copying: /usr/local/lib/python3.10/dist-packages/jupyter_contrib_nbextensions/nbextensions/nbTranslate/main.js -> /root/.local/share/jupyter/nbextensions/nbTranslate/main.js\n",
            "\u001b[32m[I 17:17:43 InstallContribNbextensionsApp]\u001b[m Copying: /usr/local/lib/python3.10/dist-packages/jupyter_contrib_nbextensions/nbextensions/nbTranslate/nbTranslate.js -> /root/.local/share/jupyter/nbextensions/nbTranslate/nbTranslate.js\n",
            "\u001b[32m[I 17:17:43 InstallContribNbextensionsApp]\u001b[m Copying: /usr/local/lib/python3.10/dist-packages/jupyter_contrib_nbextensions/nbextensions/nbTranslate/languages.js -> /root/.local/share/jupyter/nbextensions/nbTranslate/languages.js\n",
            "\u001b[32m[I 17:17:43 InstallContribNbextensionsApp]\u001b[m Copying: /usr/local/lib/python3.10/dist-packages/jupyter_contrib_nbextensions/nbextensions/nbTranslate/mutils.js -> /root/.local/share/jupyter/nbextensions/nbTranslate/mutils.js\n",
            "\u001b[32m[I 17:17:43 InstallContribNbextensionsApp]\u001b[m - Validating: \u001b[32mOK\u001b[0m\n",
            "\u001b[32m[I 17:17:43 InstallContribNbextensionsApp]\u001b[m Installing /usr/local/lib/python3.10/dist-packages/jupyter_contrib_nbextensions/nbextensions/notify -> notify\n",
            "\u001b[32m[I 17:17:43 InstallContribNbextensionsApp]\u001b[m Making directory: /root/.local/share/jupyter/nbextensions/notify/\n",
            "\u001b[32m[I 17:17:43 InstallContribNbextensionsApp]\u001b[m Copying: /usr/local/lib/python3.10/dist-packages/jupyter_contrib_nbextensions/nbextensions/notify/notification.png -> /root/.local/share/jupyter/nbextensions/notify/notification.png\n",
            "\u001b[32m[I 17:17:43 InstallContribNbextensionsApp]\u001b[m Copying: /usr/local/lib/python3.10/dist-packages/jupyter_contrib_nbextensions/nbextensions/notify/notify.mp3 -> /root/.local/share/jupyter/nbextensions/notify/notify.mp3\n",
            "\u001b[32m[I 17:17:43 InstallContribNbextensionsApp]\u001b[m Copying: /usr/local/lib/python3.10/dist-packages/jupyter_contrib_nbextensions/nbextensions/notify/notify.yaml -> /root/.local/share/jupyter/nbextensions/notify/notify.yaml\n",
            "\u001b[32m[I 17:17:43 InstallContribNbextensionsApp]\u001b[m Copying: /usr/local/lib/python3.10/dist-packages/jupyter_contrib_nbextensions/nbextensions/notify/notify.js -> /root/.local/share/jupyter/nbextensions/notify/notify.js\n",
            "\u001b[32m[I 17:17:43 InstallContribNbextensionsApp]\u001b[m Copying: /usr/local/lib/python3.10/dist-packages/jupyter_contrib_nbextensions/nbextensions/notify/readme.md -> /root/.local/share/jupyter/nbextensions/notify/readme.md\n",
            "\u001b[32m[I 17:17:43 InstallContribNbextensionsApp]\u001b[m - Validating: \u001b[32mOK\u001b[0m\n",
            "\u001b[32m[I 17:17:43 InstallContribNbextensionsApp]\u001b[m Installing /usr/local/lib/python3.10/dist-packages/jupyter_contrib_nbextensions/nbextensions/code_prettify -> code_prettify\n",
            "\u001b[32m[I 17:17:43 InstallContribNbextensionsApp]\u001b[m Making directory: /root/.local/share/jupyter/nbextensions/code_prettify/\n",
            "\u001b[32m[I 17:17:43 InstallContribNbextensionsApp]\u001b[m Copying: /usr/local/lib/python3.10/dist-packages/jupyter_contrib_nbextensions/nbextensions/code_prettify/README_2to3.md -> /root/.local/share/jupyter/nbextensions/code_prettify/README_2to3.md\n",
            "\u001b[32m[I 17:17:43 InstallContribNbextensionsApp]\u001b[m Copying: /usr/local/lib/python3.10/dist-packages/jupyter_contrib_nbextensions/nbextensions/code_prettify/README_isort.md -> /root/.local/share/jupyter/nbextensions/code_prettify/README_isort.md\n",
            "\u001b[32m[I 17:17:43 InstallContribNbextensionsApp]\u001b[m Copying: /usr/local/lib/python3.10/dist-packages/jupyter_contrib_nbextensions/nbextensions/code_prettify/README_code_prettify.md -> /root/.local/share/jupyter/nbextensions/code_prettify/README_code_prettify.md\n",
            "\u001b[32m[I 17:17:43 InstallContribNbextensionsApp]\u001b[m Copying: /usr/local/lib/python3.10/dist-packages/jupyter_contrib_nbextensions/nbextensions/code_prettify/README.md -> /root/.local/share/jupyter/nbextensions/code_prettify/README.md\n",
            "\u001b[32m[I 17:17:43 InstallContribNbextensionsApp]\u001b[m Copying: /usr/local/lib/python3.10/dist-packages/jupyter_contrib_nbextensions/nbextensions/code_prettify/demo-jv.gif -> /root/.local/share/jupyter/nbextensions/code_prettify/demo-jv.gif\n",
            "\u001b[32m[I 17:17:43 InstallContribNbextensionsApp]\u001b[m Copying: /usr/local/lib/python3.10/dist-packages/jupyter_contrib_nbextensions/nbextensions/code_prettify/isort.yaml -> /root/.local/share/jupyter/nbextensions/code_prettify/isort.yaml\n",
            "\u001b[32m[I 17:17:43 InstallContribNbextensionsApp]\u001b[m Copying: /usr/local/lib/python3.10/dist-packages/jupyter_contrib_nbextensions/nbextensions/code_prettify/isort.js -> /root/.local/share/jupyter/nbextensions/code_prettify/isort.js\n",
            "\u001b[32m[I 17:17:43 InstallContribNbextensionsApp]\u001b[m Copying: /usr/local/lib/python3.10/dist-packages/jupyter_contrib_nbextensions/nbextensions/code_prettify/demo-R.gif -> /root/.local/share/jupyter/nbextensions/code_prettify/demo-R.gif\n",
            "\u001b[32m[I 17:17:43 InstallContribNbextensionsApp]\u001b[m Copying: /usr/local/lib/python3.10/dist-packages/jupyter_contrib_nbextensions/nbextensions/code_prettify/demo-py.gif -> /root/.local/share/jupyter/nbextensions/code_prettify/demo-py.gif\n",
            "\u001b[32m[I 17:17:43 InstallContribNbextensionsApp]\u001b[m Copying: /usr/local/lib/python3.10/dist-packages/jupyter_contrib_nbextensions/nbextensions/code_prettify/2to3.yaml -> /root/.local/share/jupyter/nbextensions/code_prettify/2to3.yaml\n",
            "\u001b[32m[I 17:17:43 InstallContribNbextensionsApp]\u001b[m Copying: /usr/local/lib/python3.10/dist-packages/jupyter_contrib_nbextensions/nbextensions/code_prettify/kernel_exec_on_cell.js -> /root/.local/share/jupyter/nbextensions/code_prettify/kernel_exec_on_cell.js\n",
            "\u001b[32m[I 17:17:43 InstallContribNbextensionsApp]\u001b[m Copying: /usr/local/lib/python3.10/dist-packages/jupyter_contrib_nbextensions/nbextensions/code_prettify/README_autopep8.md -> /root/.local/share/jupyter/nbextensions/code_prettify/README_autopep8.md\n",
            "\u001b[32m[I 17:17:43 InstallContribNbextensionsApp]\u001b[m Copying: /usr/local/lib/python3.10/dist-packages/jupyter_contrib_nbextensions/nbextensions/code_prettify/autopep8.js -> /root/.local/share/jupyter/nbextensions/code_prettify/autopep8.js\n",
            "\u001b[32m[I 17:17:43 InstallContribNbextensionsApp]\u001b[m Copying: /usr/local/lib/python3.10/dist-packages/jupyter_contrib_nbextensions/nbextensions/code_prettify/2to3.js -> /root/.local/share/jupyter/nbextensions/code_prettify/2to3.js\n",
            "\u001b[32m[I 17:17:43 InstallContribNbextensionsApp]\u001b[m Copying: /usr/local/lib/python3.10/dist-packages/jupyter_contrib_nbextensions/nbextensions/code_prettify/demo_2to3.gif -> /root/.local/share/jupyter/nbextensions/code_prettify/demo_2to3.gif\n",
            "\u001b[32m[I 17:17:43 InstallContribNbextensionsApp]\u001b[m Copying: /usr/local/lib/python3.10/dist-packages/jupyter_contrib_nbextensions/nbextensions/code_prettify/autopep8.yaml -> /root/.local/share/jupyter/nbextensions/code_prettify/autopep8.yaml\n",
            "\u001b[32m[I 17:17:43 InstallContribNbextensionsApp]\u001b[m Copying: /usr/local/lib/python3.10/dist-packages/jupyter_contrib_nbextensions/nbextensions/code_prettify/code_prettify.js -> /root/.local/share/jupyter/nbextensions/code_prettify/code_prettify.js\n",
            "\u001b[32m[I 17:17:43 InstallContribNbextensionsApp]\u001b[m Copying: /usr/local/lib/python3.10/dist-packages/jupyter_contrib_nbextensions/nbextensions/code_prettify/code_prettify.yaml -> /root/.local/share/jupyter/nbextensions/code_prettify/code_prettify.yaml\n",
            "\u001b[32m[I 17:17:43 InstallContribNbextensionsApp]\u001b[m - Validating: \u001b[32mOK\u001b[0m\n",
            "\u001b[32m[I 17:17:43 InstallContribNbextensionsApp]\u001b[m Installing /usr/local/lib/python3.10/dist-packages/jupyter_contrib_nbextensions/nbextensions/code_prettify -> code_prettify\n",
            "\u001b[32m[I 17:17:43 InstallContribNbextensionsApp]\u001b[m Up to date: /root/.local/share/jupyter/nbextensions/code_prettify/README_2to3.md\n",
            "\u001b[32m[I 17:17:43 InstallContribNbextensionsApp]\u001b[m Up to date: /root/.local/share/jupyter/nbextensions/code_prettify/README_isort.md\n",
            "\u001b[32m[I 17:17:43 InstallContribNbextensionsApp]\u001b[m Up to date: /root/.local/share/jupyter/nbextensions/code_prettify/README_code_prettify.md\n",
            "\u001b[32m[I 17:17:43 InstallContribNbextensionsApp]\u001b[m Up to date: /root/.local/share/jupyter/nbextensions/code_prettify/README.md\n",
            "\u001b[32m[I 17:17:43 InstallContribNbextensionsApp]\u001b[m Up to date: /root/.local/share/jupyter/nbextensions/code_prettify/demo-jv.gif\n",
            "\u001b[32m[I 17:17:43 InstallContribNbextensionsApp]\u001b[m Up to date: /root/.local/share/jupyter/nbextensions/code_prettify/isort.yaml\n",
            "\u001b[32m[I 17:17:43 InstallContribNbextensionsApp]\u001b[m Up to date: /root/.local/share/jupyter/nbextensions/code_prettify/isort.js\n",
            "\u001b[32m[I 17:17:43 InstallContribNbextensionsApp]\u001b[m Up to date: /root/.local/share/jupyter/nbextensions/code_prettify/demo-R.gif\n",
            "\u001b[32m[I 17:17:43 InstallContribNbextensionsApp]\u001b[m Up to date: /root/.local/share/jupyter/nbextensions/code_prettify/demo-py.gif\n",
            "\u001b[32m[I 17:17:43 InstallContribNbextensionsApp]\u001b[m Up to date: /root/.local/share/jupyter/nbextensions/code_prettify/2to3.yaml\n",
            "\u001b[32m[I 17:17:43 InstallContribNbextensionsApp]\u001b[m Up to date: /root/.local/share/jupyter/nbextensions/code_prettify/kernel_exec_on_cell.js\n",
            "\u001b[32m[I 17:17:43 InstallContribNbextensionsApp]\u001b[m Up to date: /root/.local/share/jupyter/nbextensions/code_prettify/README_autopep8.md\n",
            "\u001b[32m[I 17:17:43 InstallContribNbextensionsApp]\u001b[m Up to date: /root/.local/share/jupyter/nbextensions/code_prettify/autopep8.js\n",
            "\u001b[32m[I 17:17:43 InstallContribNbextensionsApp]\u001b[m Up to date: /root/.local/share/jupyter/nbextensions/code_prettify/2to3.js\n",
            "\u001b[32m[I 17:17:43 InstallContribNbextensionsApp]\u001b[m Up to date: /root/.local/share/jupyter/nbextensions/code_prettify/demo_2to3.gif\n",
            "\u001b[32m[I 17:17:43 InstallContribNbextensionsApp]\u001b[m Up to date: /root/.local/share/jupyter/nbextensions/code_prettify/autopep8.yaml\n",
            "\u001b[32m[I 17:17:43 InstallContribNbextensionsApp]\u001b[m Up to date: /root/.local/share/jupyter/nbextensions/code_prettify/code_prettify.js\n",
            "\u001b[32m[I 17:17:43 InstallContribNbextensionsApp]\u001b[m Up to date: /root/.local/share/jupyter/nbextensions/code_prettify/code_prettify.yaml\n",
            "\u001b[32m[I 17:17:43 InstallContribNbextensionsApp]\u001b[m - Validating: \u001b[32mOK\u001b[0m\n",
            "\u001b[32m[I 17:17:43 InstallContribNbextensionsApp]\u001b[m Installing /usr/local/lib/python3.10/dist-packages/jupyter_contrib_nbextensions/nbextensions/code_prettify -> code_prettify\n",
            "\u001b[32m[I 17:17:43 InstallContribNbextensionsApp]\u001b[m Up to date: /root/.local/share/jupyter/nbextensions/code_prettify/README_2to3.md\n",
            "\u001b[32m[I 17:17:43 InstallContribNbextensionsApp]\u001b[m Up to date: /root/.local/share/jupyter/nbextensions/code_prettify/README_isort.md\n",
            "\u001b[32m[I 17:17:43 InstallContribNbextensionsApp]\u001b[m Up to date: /root/.local/share/jupyter/nbextensions/code_prettify/README_code_prettify.md\n",
            "\u001b[32m[I 17:17:43 InstallContribNbextensionsApp]\u001b[m Up to date: /root/.local/share/jupyter/nbextensions/code_prettify/README.md\n",
            "\u001b[32m[I 17:17:43 InstallContribNbextensionsApp]\u001b[m Up to date: /root/.local/share/jupyter/nbextensions/code_prettify/demo-jv.gif\n",
            "\u001b[32m[I 17:17:43 InstallContribNbextensionsApp]\u001b[m Up to date: /root/.local/share/jupyter/nbextensions/code_prettify/isort.yaml\n",
            "\u001b[32m[I 17:17:43 InstallContribNbextensionsApp]\u001b[m Up to date: /root/.local/share/jupyter/nbextensions/code_prettify/isort.js\n",
            "\u001b[32m[I 17:17:43 InstallContribNbextensionsApp]\u001b[m Up to date: /root/.local/share/jupyter/nbextensions/code_prettify/demo-R.gif\n",
            "\u001b[32m[I 17:17:43 InstallContribNbextensionsApp]\u001b[m Up to date: /root/.local/share/jupyter/nbextensions/code_prettify/demo-py.gif\n",
            "\u001b[32m[I 17:17:43 InstallContribNbextensionsApp]\u001b[m Up to date: /root/.local/share/jupyter/nbextensions/code_prettify/2to3.yaml\n",
            "\u001b[32m[I 17:17:43 InstallContribNbextensionsApp]\u001b[m Up to date: /root/.local/share/jupyter/nbextensions/code_prettify/kernel_exec_on_cell.js\n",
            "\u001b[32m[I 17:17:43 InstallContribNbextensionsApp]\u001b[m Up to date: /root/.local/share/jupyter/nbextensions/code_prettify/README_autopep8.md\n",
            "\u001b[32m[I 17:17:43 InstallContribNbextensionsApp]\u001b[m Up to date: /root/.local/share/jupyter/nbextensions/code_prettify/autopep8.js\n",
            "\u001b[32m[I 17:17:43 InstallContribNbextensionsApp]\u001b[m Up to date: /root/.local/share/jupyter/nbextensions/code_prettify/2to3.js\n",
            "\u001b[32m[I 17:17:43 InstallContribNbextensionsApp]\u001b[m Up to date: /root/.local/share/jupyter/nbextensions/code_prettify/demo_2to3.gif\n",
            "\u001b[32m[I 17:17:43 InstallContribNbextensionsApp]\u001b[m Up to date: /root/.local/share/jupyter/nbextensions/code_prettify/autopep8.yaml\n",
            "\u001b[32m[I 17:17:43 InstallContribNbextensionsApp]\u001b[m Up to date: /root/.local/share/jupyter/nbextensions/code_prettify/code_prettify.js\n",
            "\u001b[32m[I 17:17:43 InstallContribNbextensionsApp]\u001b[m Up to date: /root/.local/share/jupyter/nbextensions/code_prettify/code_prettify.yaml\n",
            "\u001b[32m[I 17:17:43 InstallContribNbextensionsApp]\u001b[m - Validating: \u001b[32mOK\u001b[0m\n",
            "\u001b[32m[I 17:17:43 InstallContribNbextensionsApp]\u001b[m Installing /usr/local/lib/python3.10/dist-packages/jupyter_contrib_nbextensions/nbextensions/code_prettify -> code_prettify\n",
            "\u001b[32m[I 17:17:43 InstallContribNbextensionsApp]\u001b[m Up to date: /root/.local/share/jupyter/nbextensions/code_prettify/README_2to3.md\n",
            "\u001b[32m[I 17:17:43 InstallContribNbextensionsApp]\u001b[m Up to date: /root/.local/share/jupyter/nbextensions/code_prettify/README_isort.md\n",
            "\u001b[32m[I 17:17:43 InstallContribNbextensionsApp]\u001b[m Up to date: /root/.local/share/jupyter/nbextensions/code_prettify/README_code_prettify.md\n",
            "\u001b[32m[I 17:17:43 InstallContribNbextensionsApp]\u001b[m Up to date: /root/.local/share/jupyter/nbextensions/code_prettify/README.md\n",
            "\u001b[32m[I 17:17:43 InstallContribNbextensionsApp]\u001b[m Up to date: /root/.local/share/jupyter/nbextensions/code_prettify/demo-jv.gif\n",
            "\u001b[32m[I 17:17:43 InstallContribNbextensionsApp]\u001b[m Up to date: /root/.local/share/jupyter/nbextensions/code_prettify/isort.yaml\n",
            "\u001b[32m[I 17:17:43 InstallContribNbextensionsApp]\u001b[m Up to date: /root/.local/share/jupyter/nbextensions/code_prettify/isort.js\n",
            "\u001b[32m[I 17:17:43 InstallContribNbextensionsApp]\u001b[m Up to date: /root/.local/share/jupyter/nbextensions/code_prettify/demo-R.gif\n",
            "\u001b[32m[I 17:17:43 InstallContribNbextensionsApp]\u001b[m Up to date: /root/.local/share/jupyter/nbextensions/code_prettify/demo-py.gif\n",
            "\u001b[32m[I 17:17:43 InstallContribNbextensionsApp]\u001b[m Up to date: /root/.local/share/jupyter/nbextensions/code_prettify/2to3.yaml\n",
            "\u001b[32m[I 17:17:43 InstallContribNbextensionsApp]\u001b[m Up to date: /root/.local/share/jupyter/nbextensions/code_prettify/kernel_exec_on_cell.js\n",
            "\u001b[32m[I 17:17:43 InstallContribNbextensionsApp]\u001b[m Up to date: /root/.local/share/jupyter/nbextensions/code_prettify/README_autopep8.md\n",
            "\u001b[32m[I 17:17:43 InstallContribNbextensionsApp]\u001b[m Up to date: /root/.local/share/jupyter/nbextensions/code_prettify/autopep8.js\n",
            "\u001b[32m[I 17:17:43 InstallContribNbextensionsApp]\u001b[m Up to date: /root/.local/share/jupyter/nbextensions/code_prettify/2to3.js\n",
            "\u001b[32m[I 17:17:43 InstallContribNbextensionsApp]\u001b[m Up to date: /root/.local/share/jupyter/nbextensions/code_prettify/demo_2to3.gif\n",
            "\u001b[32m[I 17:17:43 InstallContribNbextensionsApp]\u001b[m Up to date: /root/.local/share/jupyter/nbextensions/code_prettify/autopep8.yaml\n",
            "\u001b[32m[I 17:17:43 InstallContribNbextensionsApp]\u001b[m Up to date: /root/.local/share/jupyter/nbextensions/code_prettify/code_prettify.js\n",
            "\u001b[32m[I 17:17:43 InstallContribNbextensionsApp]\u001b[m Up to date: /root/.local/share/jupyter/nbextensions/code_prettify/code_prettify.yaml\n",
            "\u001b[32m[I 17:17:43 InstallContribNbextensionsApp]\u001b[m - Validating: \u001b[32mOK\u001b[0m\n",
            "\u001b[32m[I 17:17:43 InstallContribNbextensionsApp]\u001b[m Installing /usr/local/lib/python3.10/dist-packages/jupyter_contrib_nbextensions/nbextensions/qtconsole -> qtconsole\n",
            "\u001b[32m[I 17:17:43 InstallContribNbextensionsApp]\u001b[m Making directory: /root/.local/share/jupyter/nbextensions/qtconsole/\n",
            "\u001b[32m[I 17:17:43 InstallContribNbextensionsApp]\u001b[m Copying: /usr/local/lib/python3.10/dist-packages/jupyter_contrib_nbextensions/nbextensions/qtconsole/README.md -> /root/.local/share/jupyter/nbextensions/qtconsole/README.md\n",
            "\u001b[32m[I 17:17:43 InstallContribNbextensionsApp]\u001b[m Copying: /usr/local/lib/python3.10/dist-packages/jupyter_contrib_nbextensions/nbextensions/qtconsole/qtconsole.yaml -> /root/.local/share/jupyter/nbextensions/qtconsole/qtconsole.yaml\n",
            "\u001b[32m[I 17:17:43 InstallContribNbextensionsApp]\u001b[m Copying: /usr/local/lib/python3.10/dist-packages/jupyter_contrib_nbextensions/nbextensions/qtconsole/qtconsole.js -> /root/.local/share/jupyter/nbextensions/qtconsole/qtconsole.js\n",
            "\u001b[32m[I 17:17:43 InstallContribNbextensionsApp]\u001b[m - Validating: \u001b[32mOK\u001b[0m\n",
            "\u001b[32m[I 17:17:43 InstallContribNbextensionsApp]\u001b[m Installing /usr/local/lib/python3.10/dist-packages/jupyter_contrib_nbextensions/nbextensions/rubberband -> rubberband\n",
            "\u001b[32m[I 17:17:43 InstallContribNbextensionsApp]\u001b[m Making directory: /root/.local/share/jupyter/nbextensions/rubberband/\n",
            "\u001b[32m[I 17:17:43 InstallContribNbextensionsApp]\u001b[m Copying: /usr/local/lib/python3.10/dist-packages/jupyter_contrib_nbextensions/nbextensions/rubberband/rubberband.yaml -> /root/.local/share/jupyter/nbextensions/rubberband/rubberband.yaml\n",
            "\u001b[32m[I 17:17:43 InstallContribNbextensionsApp]\u001b[m Copying: /usr/local/lib/python3.10/dist-packages/jupyter_contrib_nbextensions/nbextensions/rubberband/main.js -> /root/.local/share/jupyter/nbextensions/rubberband/main.js\n",
            "\u001b[32m[I 17:17:43 InstallContribNbextensionsApp]\u001b[m Copying: /usr/local/lib/python3.10/dist-packages/jupyter_contrib_nbextensions/nbextensions/rubberband/readme.md -> /root/.local/share/jupyter/nbextensions/rubberband/readme.md\n",
            "\u001b[32m[I 17:17:43 InstallContribNbextensionsApp]\u001b[m Copying: /usr/local/lib/python3.10/dist-packages/jupyter_contrib_nbextensions/nbextensions/rubberband/icon.png -> /root/.local/share/jupyter/nbextensions/rubberband/icon.png\n",
            "\u001b[32m[I 17:17:43 InstallContribNbextensionsApp]\u001b[m Copying: /usr/local/lib/python3.10/dist-packages/jupyter_contrib_nbextensions/nbextensions/rubberband/main.css -> /root/.local/share/jupyter/nbextensions/rubberband/main.css\n",
            "\u001b[32m[I 17:17:43 InstallContribNbextensionsApp]\u001b[m - Validating: \u001b[32mOK\u001b[0m\n",
            "\u001b[32m[I 17:17:43 InstallContribNbextensionsApp]\u001b[m Installing /usr/local/lib/python3.10/dist-packages/jupyter_contrib_nbextensions/nbextensions/cell_filter -> cell_filter\n",
            "\u001b[32m[I 17:17:43 InstallContribNbextensionsApp]\u001b[m Making directory: /root/.local/share/jupyter/nbextensions/cell_filter/\n",
            "\u001b[32m[I 17:17:43 InstallContribNbextensionsApp]\u001b[m Copying: /usr/local/lib/python3.10/dist-packages/jupyter_contrib_nbextensions/nbextensions/cell_filter/README.md -> /root/.local/share/jupyter/nbextensions/cell_filter/README.md\n",
            "\u001b[32m[I 17:17:43 InstallContribNbextensionsApp]\u001b[m Copying: /usr/local/lib/python3.10/dist-packages/jupyter_contrib_nbextensions/nbextensions/cell_filter/cell_filter.js -> /root/.local/share/jupyter/nbextensions/cell_filter/cell_filter.js\n",
            "\u001b[32m[I 17:17:43 InstallContribNbextensionsApp]\u001b[m Copying: /usr/local/lib/python3.10/dist-packages/jupyter_contrib_nbextensions/nbextensions/cell_filter/cell_filter.yml -> /root/.local/share/jupyter/nbextensions/cell_filter/cell_filter.yml\n",
            "\u001b[32m[I 17:17:43 InstallContribNbextensionsApp]\u001b[m - Validating: \u001b[32mOK\u001b[0m\n",
            "\u001b[32m[I 17:17:43 InstallContribNbextensionsApp]\u001b[m Installing /usr/local/lib/python3.10/dist-packages/jupyter_contrib_nbextensions/nbextensions/navigation-hotkeys -> navigation-hotkeys\n",
            "\u001b[32m[I 17:17:43 InstallContribNbextensionsApp]\u001b[m Making directory: /root/.local/share/jupyter/nbextensions/navigation-hotkeys/\n",
            "\u001b[32m[I 17:17:43 InstallContribNbextensionsApp]\u001b[m Copying: /usr/local/lib/python3.10/dist-packages/jupyter_contrib_nbextensions/nbextensions/navigation-hotkeys/hotkeys.yaml -> /root/.local/share/jupyter/nbextensions/navigation-hotkeys/hotkeys.yaml\n",
            "\u001b[32m[I 17:17:43 InstallContribNbextensionsApp]\u001b[m Copying: /usr/local/lib/python3.10/dist-packages/jupyter_contrib_nbextensions/nbextensions/navigation-hotkeys/main.js -> /root/.local/share/jupyter/nbextensions/navigation-hotkeys/main.js\n",
            "\u001b[32m[I 17:17:43 InstallContribNbextensionsApp]\u001b[m Copying: /usr/local/lib/python3.10/dist-packages/jupyter_contrib_nbextensions/nbextensions/navigation-hotkeys/readme.md -> /root/.local/share/jupyter/nbextensions/navigation-hotkeys/readme.md\n",
            "\u001b[32m[I 17:17:43 InstallContribNbextensionsApp]\u001b[m Copying: /usr/local/lib/python3.10/dist-packages/jupyter_contrib_nbextensions/nbextensions/navigation-hotkeys/icon.png -> /root/.local/share/jupyter/nbextensions/navigation-hotkeys/icon.png\n",
            "\u001b[32m[I 17:17:43 InstallContribNbextensionsApp]\u001b[m - Validating: \u001b[32mOK\u001b[0m\n",
            "\u001b[32m[I 17:17:43 InstallContribNbextensionsApp]\u001b[m Installing /usr/local/lib/python3.10/dist-packages/jupyter_contrib_nbextensions/nbextensions/comment-uncomment -> comment-uncomment\n",
            "\u001b[32m[I 17:17:43 InstallContribNbextensionsApp]\u001b[m Making directory: /root/.local/share/jupyter/nbextensions/comment-uncomment/\n",
            "\u001b[32m[I 17:17:43 InstallContribNbextensionsApp]\u001b[m Copying: /usr/local/lib/python3.10/dist-packages/jupyter_contrib_nbextensions/nbextensions/comment-uncomment/comment-uncomment.yaml -> /root/.local/share/jupyter/nbextensions/comment-uncomment/comment-uncomment.yaml\n",
            "\u001b[32m[I 17:17:43 InstallContribNbextensionsApp]\u001b[m Copying: /usr/local/lib/python3.10/dist-packages/jupyter_contrib_nbextensions/nbextensions/comment-uncomment/main.js -> /root/.local/share/jupyter/nbextensions/comment-uncomment/main.js\n",
            "\u001b[32m[I 17:17:43 InstallContribNbextensionsApp]\u001b[m Copying: /usr/local/lib/python3.10/dist-packages/jupyter_contrib_nbextensions/nbextensions/comment-uncomment/readme.md -> /root/.local/share/jupyter/nbextensions/comment-uncomment/readme.md\n",
            "\u001b[32m[I 17:17:43 InstallContribNbextensionsApp]\u001b[m Copying: /usr/local/lib/python3.10/dist-packages/jupyter_contrib_nbextensions/nbextensions/comment-uncomment/icon.png -> /root/.local/share/jupyter/nbextensions/comment-uncomment/icon.png\n",
            "\u001b[32m[I 17:17:43 InstallContribNbextensionsApp]\u001b[m - Validating: \u001b[32mOK\u001b[0m\n",
            "\u001b[32m[I 17:17:43 InstallContribNbextensionsApp]\u001b[m Installing /usr/local/lib/python3.10/dist-packages/jupyter_contrib_nbextensions/nbextensions/gist_it -> gist_it\n",
            "\u001b[32m[I 17:17:43 InstallContribNbextensionsApp]\u001b[m Making directory: /root/.local/share/jupyter/nbextensions/gist_it/\n",
            "\u001b[32m[I 17:17:43 InstallContribNbextensionsApp]\u001b[m Copying: /usr/local/lib/python3.10/dist-packages/jupyter_contrib_nbextensions/nbextensions/gist_it/gist_it.yaml -> /root/.local/share/jupyter/nbextensions/gist_it/gist_it.yaml\n",
            "\u001b[32m[I 17:17:43 InstallContribNbextensionsApp]\u001b[m Copying: /usr/local/lib/python3.10/dist-packages/jupyter_contrib_nbextensions/nbextensions/gist_it/main.js -> /root/.local/share/jupyter/nbextensions/gist_it/main.js\n",
            "\u001b[32m[I 17:17:43 InstallContribNbextensionsApp]\u001b[m Copying: /usr/local/lib/python3.10/dist-packages/jupyter_contrib_nbextensions/nbextensions/gist_it/readme.md -> /root/.local/share/jupyter/nbextensions/gist_it/readme.md\n",
            "\u001b[32m[I 17:17:43 InstallContribNbextensionsApp]\u001b[m Copying: /usr/local/lib/python3.10/dist-packages/jupyter_contrib_nbextensions/nbextensions/gist_it/icon.png -> /root/.local/share/jupyter/nbextensions/gist_it/icon.png\n",
            "\u001b[32m[I 17:17:43 InstallContribNbextensionsApp]\u001b[m - Validating: \u001b[32mOK\u001b[0m\n",
            "\u001b[32m[I 17:17:43 InstallContribNbextensionsApp]\u001b[m Installing /usr/local/lib/python3.10/dist-packages/jupyter_contrib_nbextensions/nbextensions/scroll_down -> scroll_down\n",
            "\u001b[32m[I 17:17:43 InstallContribNbextensionsApp]\u001b[m Making directory: /root/.local/share/jupyter/nbextensions/scroll_down/\n",
            "\u001b[32m[I 17:17:43 InstallContribNbextensionsApp]\u001b[m Copying: /usr/local/lib/python3.10/dist-packages/jupyter_contrib_nbextensions/nbextensions/scroll_down/config.yaml -> /root/.local/share/jupyter/nbextensions/scroll_down/config.yaml\n",
            "\u001b[32m[I 17:17:43 InstallContribNbextensionsApp]\u001b[m Copying: /usr/local/lib/python3.10/dist-packages/jupyter_contrib_nbextensions/nbextensions/scroll_down/main.js -> /root/.local/share/jupyter/nbextensions/scroll_down/main.js\n",
            "\u001b[32m[I 17:17:43 InstallContribNbextensionsApp]\u001b[m Copying: /usr/local/lib/python3.10/dist-packages/jupyter_contrib_nbextensions/nbextensions/scroll_down/readme.md -> /root/.local/share/jupyter/nbextensions/scroll_down/readme.md\n",
            "\u001b[32m[I 17:17:43 InstallContribNbextensionsApp]\u001b[m Copying: /usr/local/lib/python3.10/dist-packages/jupyter_contrib_nbextensions/nbextensions/scroll_down/icon.png -> /root/.local/share/jupyter/nbextensions/scroll_down/icon.png\n",
            "\u001b[32m[I 17:17:43 InstallContribNbextensionsApp]\u001b[m - Validating: \u001b[32mOK\u001b[0m\n",
            "\u001b[32m[I 17:17:43 InstallContribNbextensionsApp]\u001b[m Installing /usr/local/lib/python3.10/dist-packages/jupyter_highlight_selected_word/static/highlight_selected_word -> highlight_selected_word\n",
            "\u001b[32m[I 17:17:43 InstallContribNbextensionsApp]\u001b[m Making directory: /root/.local/share/jupyter/nbextensions/highlight_selected_word/\n",
            "\u001b[32m[I 17:17:43 InstallContribNbextensionsApp]\u001b[m Copying: /usr/local/lib/python3.10/dist-packages/jupyter_highlight_selected_word/static/highlight_selected_word/configurator.yaml -> /root/.local/share/jupyter/nbextensions/highlight_selected_word/configurator.yaml\n",
            "\u001b[32m[I 17:17:43 InstallContribNbextensionsApp]\u001b[m Copying: /usr/local/lib/python3.10/dist-packages/jupyter_highlight_selected_word/static/highlight_selected_word/README.md -> /root/.local/share/jupyter/nbextensions/highlight_selected_word/README.md\n",
            "\u001b[32m[I 17:17:43 InstallContribNbextensionsApp]\u001b[m Copying: /usr/local/lib/python3.10/dist-packages/jupyter_highlight_selected_word/static/highlight_selected_word/main.js -> /root/.local/share/jupyter/nbextensions/highlight_selected_word/main.js\n",
            "\u001b[32m[I 17:17:43 InstallContribNbextensionsApp]\u001b[m - Validating: \u001b[32mOK\u001b[0m\n",
            "\u001b[32m[I 17:17:43 InstallContribNbextensionsApp]\u001b[m Installing jupyter_contrib_nbextensions items to config in /root/.jupyter\n",
            "Enabling: jupyter_nbextensions_configurator\n",
            "- Writing config: /root/.jupyter\n",
            "    - Validating...\n",
            "      jupyter_nbextensions_configurator 0.6.3 \u001b[32mOK\u001b[0m\n",
            "Enabling notebook nbextension nbextensions_configurator/config_menu/main...\n",
            "Enabling tree nbextension nbextensions_configurator/tree_tab/main...\n",
            "\u001b[32m[I 17:17:43 InstallContribNbextensionsApp]\u001b[m Enabling notebook extension contrib_nbextensions_help_item/main...\n",
            "\u001b[32m[I 17:17:43 InstallContribNbextensionsApp]\u001b[m       - Validating: \u001b[32mOK\u001b[0m\n",
            "\u001b[32m[I 17:17:43 InstallContribNbextensionsApp]\u001b[m - Editing config: /root/.jupyter/jupyter_nbconvert_config.json\n",
            "\u001b[32m[I 17:17:43 InstallContribNbextensionsApp]\u001b[m --  Configuring nbconvert template path\n",
            "\u001b[32m[I 17:17:43 InstallContribNbextensionsApp]\u001b[m --  Configuring nbconvert preprocessors\n",
            "\u001b[32m[I 17:17:43 InstallContribNbextensionsApp]\u001b[m - Writing config: /root/.jupyter/jupyter_nbconvert_config.json\n",
            "\u001b[32m[I 17:17:43 InstallContribNbextensionsApp]\u001b[m --  Writing updated config file /root/.jupyter/jupyter_nbconvert_config.json\n"
          ]
        }
      ]
    },
    {
      "cell_type": "code",
      "source": [
        "!jupyter nbextension enable --py widgetsnbextension && jupyter nbextension enable --py --sys-prefix widgetsnbextension && jupyter nbextension enable --py autocomplete\n"
      ],
      "metadata": {
        "colab": {
          "base_uri": "https://localhost:8080/"
        },
        "id": "TMSl9UiTNEcM",
        "outputId": "35f81363-9215-4b5a-8c87-e35dd8359d40"
      },
      "execution_count": 4,
      "outputs": [
        {
          "output_type": "stream",
          "name": "stdout",
          "text": [
            "Enabling notebook extension jupyter-js-widgets/extension...\n",
            "Paths used for configuration of notebook: \n",
            "    \t/root/.jupyter/nbconfig/notebook.json\n",
            "Paths used for configuration of notebook: \n",
            "    \t\n",
            "      - Validating: \u001b[32mOK\u001b[0m\n",
            "Paths used for configuration of notebook: \n",
            "    \t/root/.jupyter/nbconfig/notebook.json\n",
            "Enabling notebook extension jupyter-js-widgets/extension...\n",
            "Paths used for configuration of notebook: \n",
            "    \t/usr/etc/jupyter/nbconfig/notebook.json\n",
            "Paths used for configuration of notebook: \n",
            "    \t\n",
            "      - Validating: \u001b[32mOK\u001b[0m\n",
            "Paths used for configuration of notebook: \n",
            "    \t/usr/etc/jupyter/nbconfig/notebook.json\n",
            "Traceback (most recent call last):\n",
            "  File \"/usr/local/bin/jupyter-nbextension\", line 8, in <module>\n",
            "    sys.exit(main())\n",
            "  File \"/usr/local/lib/python3.10/dist-packages/jupyter_core/application.py\", line 285, in launch_instance\n",
            "    return super().launch_instance(argv=argv, **kwargs)\n",
            "  File \"/usr/local/lib/python3.10/dist-packages/traitlets/config/application.py\", line 992, in launch_instance\n",
            "    app.start()\n",
            "  File \"/usr/local/lib/python3.10/dist-packages/notebook/nbextensions.py\", line 980, in start\n",
            "    super().start()\n",
            "  File \"/usr/local/lib/python3.10/dist-packages/jupyter_core/application.py\", line 274, in start\n",
            "    self.subapp.start()\n",
            "  File \"/usr/local/lib/python3.10/dist-packages/notebook/nbextensions.py\", line 888, in start\n",
            "    self.toggle_nbextension_python(self.extra_args[0])\n",
            "  File \"/usr/local/lib/python3.10/dist-packages/notebook/nbextensions.py\", line 861, in toggle_nbextension_python\n",
            "    return toggle(module,\n",
            "  File \"/usr/local/lib/python3.10/dist-packages/notebook/nbextensions.py\", line 474, in enable_nbextension_python\n",
            "    return _set_nbextension_state_python(True, module, user, sys_prefix,\n",
            "  File \"/usr/local/lib/python3.10/dist-packages/notebook/nbextensions.py\", line 372, in _set_nbextension_state_python\n",
            "    m, nbexts = _get_nbextension_metadata(module)\n",
            "  File \"/usr/local/lib/python3.10/dist-packages/notebook/nbextensions.py\", line 1114, in _get_nbextension_metadata\n",
            "    m = import_item(module)\n",
            "  File \"/usr/local/lib/python3.10/dist-packages/traitlets/utils/importstring.py\", line 38, in import_item\n",
            "    return __import__(parts[0])\n",
            "ModuleNotFoundError: No module named 'autocomplete'\n"
          ]
        }
      ]
    },
    {
      "cell_type": "markdown",
      "source": [
        "List Operations :"
      ],
      "metadata": {
        "id": "CNfvqA5TTVpt"
      }
    },
    {
      "cell_type": "code",
      "source": [
        "a = [12,32,2,45,666,321,1.5,1.5,1.5,0.001]"
      ],
      "metadata": {
        "id": "9Q34rHD4TNAg"
      },
      "execution_count": 33,
      "outputs": []
    },
    {
      "cell_type": "code",
      "source": [
        "a.append(\"NewElement\")"
      ],
      "metadata": {
        "id": "gjHNjGQYHZ0a"
      },
      "execution_count": 9,
      "outputs": []
    },
    {
      "cell_type": "code",
      "source": [
        "a"
      ],
      "metadata": {
        "colab": {
          "base_uri": "https://localhost:8080/"
        },
        "id": "oDbkFoXXHjEQ",
        "outputId": "c57d485f-de11-480d-97c2-543a065adcac"
      },
      "execution_count": 10,
      "outputs": [
        {
          "output_type": "execute_result",
          "data": {
            "text/plain": [
              "[12, 32, 2, 45, 666, 321, 1.5, 1.5, 1.5, 0.001, 'NewElement']"
            ]
          },
          "metadata": {},
          "execution_count": 10
        }
      ]
    },
    {
      "cell_type": "code",
      "source": [
        "a.insert(0,\"InsertedElementAtZeroIndex\")"
      ],
      "metadata": {
        "id": "50euXSwoHjZB"
      },
      "execution_count": 11,
      "outputs": []
    },
    {
      "cell_type": "code",
      "source": [
        "a"
      ],
      "metadata": {
        "colab": {
          "base_uri": "https://localhost:8080/"
        },
        "id": "p6Wyr_UHHqIx",
        "outputId": "a27e9f70-9fcc-4081-bb3a-4e67cd6c699b"
      },
      "execution_count": 12,
      "outputs": [
        {
          "output_type": "execute_result",
          "data": {
            "text/plain": [
              "['InsertedElementAtZeroIndex',\n",
              " 12,\n",
              " 32,\n",
              " 2,\n",
              " 45,\n",
              " 666,\n",
              " 321,\n",
              " 1.5,\n",
              " 1.5,\n",
              " 1.5,\n",
              " 0.001,\n",
              " 'NewElement']"
            ]
          },
          "metadata": {},
          "execution_count": 12
        }
      ]
    },
    {
      "cell_type": "code",
      "source": [
        "\"CheckOne\" in a"
      ],
      "metadata": {
        "colab": {
          "base_uri": "https://localhost:8080/"
        },
        "id": "7hd773v3Hqnz",
        "outputId": "0380c7e8-dab2-4086-c7e9-0c2614503c8d"
      },
      "execution_count": 13,
      "outputs": [
        {
          "output_type": "execute_result",
          "data": {
            "text/plain": [
              "False"
            ]
          },
          "metadata": {},
          "execution_count": 13
        }
      ]
    },
    {
      "cell_type": "code",
      "source": [
        "a.count(1.5) #count number of times 1.5 occured in the list"
      ],
      "metadata": {
        "colab": {
          "base_uri": "https://localhost:8080/"
        },
        "id": "mwUzaEnSHvW6",
        "outputId": "a71f7302-54ad-43a9-8058-9d3a41d1bc68"
      },
      "execution_count": 16,
      "outputs": [
        {
          "output_type": "execute_result",
          "data": {
            "text/plain": [
              "3"
            ]
          },
          "metadata": {},
          "execution_count": 16
        }
      ]
    },
    {
      "cell_type": "code",
      "source": [
        "a.index(1.5) #index of first occuring of 1.5"
      ],
      "metadata": {
        "colab": {
          "base_uri": "https://localhost:8080/"
        },
        "id": "nharq14FHzDT",
        "outputId": "4aeae5a0-cc39-4d9f-f6e0-40e6fcb814ab"
      },
      "execution_count": 19,
      "outputs": [
        {
          "output_type": "execute_result",
          "data": {
            "text/plain": [
              "7"
            ]
          },
          "metadata": {},
          "execution_count": 19
        }
      ]
    },
    {
      "cell_type": "code",
      "source": [
        "a.index(1.5,5,8)  #index of 1.5 between index 5 to 8"
      ],
      "metadata": {
        "colab": {
          "base_uri": "https://localhost:8080/"
        },
        "id": "RtCNCErGH5Pc",
        "outputId": "65e13cf6-6009-4c40-b38e-93480d76f152"
      },
      "execution_count": 22,
      "outputs": [
        {
          "output_type": "execute_result",
          "data": {
            "text/plain": [
              "7"
            ]
          },
          "metadata": {},
          "execution_count": 22
        }
      ]
    },
    {
      "cell_type": "code",
      "source": [
        "a.pop() #return removed element"
      ],
      "metadata": {
        "colab": {
          "base_uri": "https://localhost:8080/"
        },
        "id": "YrzovrGgIRX3",
        "outputId": "252ad384-d573-4dab-b59d-bd5e0d8b421b"
      },
      "execution_count": 27,
      "outputs": [
        {
          "output_type": "execute_result",
          "data": {
            "text/plain": [
              "1.5"
            ]
          },
          "metadata": {},
          "execution_count": 27
        }
      ]
    },
    {
      "cell_type": "code",
      "source": [
        "a"
      ],
      "metadata": {
        "colab": {
          "base_uri": "https://localhost:8080/"
        },
        "id": "ZNvpFeIGIZ5i",
        "outputId": "6664a6b7-fede-4e75-98d7-66a5e5af2b70"
      },
      "execution_count": 34,
      "outputs": [
        {
          "output_type": "execute_result",
          "data": {
            "text/plain": [
              "[12, 32, 2, 45, 666, 321, 1.5, 1.5, 1.5, 0.001]"
            ]
          },
          "metadata": {},
          "execution_count": 34
        }
      ]
    },
    {
      "cell_type": "code",
      "source": [
        "a.remove(666) #remove element by specific element"
      ],
      "metadata": {
        "id": "xCvAE94hIbec"
      },
      "execution_count": 35,
      "outputs": []
    },
    {
      "cell_type": "code",
      "source": [],
      "metadata": {
        "id": "9cwW5YxQIgNd"
      },
      "execution_count": null,
      "outputs": []
    },
    {
      "cell_type": "markdown",
      "source": [
        "- In python variable or element in list is are stored at different location. - List can dynamically insert and delete items.\n",
        "- Items can be randomly accessed in constant time.\n",
        "- Set and dict has no random access.\n",
        "- In array or list , the items stored in continuous location and these references are already present in cache memory so accessing it easily.\n"
      ],
      "metadata": {
        "id": "OwKdTRIop0T0"
      }
    },
    {
      "cell_type": "code",
      "source": [
        "def avg_of_list(list1):\n",
        "  n=len(list1)\n",
        "  sum=sum(list1)\n",
        "  avg=sum/n\n",
        "  return avg\n",
        ""
      ],
      "metadata": {
        "id": "dQxqadxYqKrW"
      },
      "execution_count": 1,
      "outputs": []
    },
    {
      "cell_type": "code",
      "source": [
        "def avg_of_list(list1):\n",
        "  sum=0\n",
        "  for item in list1:\n",
        "    sum=sum+item\n",
        "  n=len(list1)\n",
        "  return sum/n"
      ],
      "metadata": {
        "id": "OF3Oz_lQMB2q"
      },
      "execution_count": 2,
      "outputs": []
    },
    {
      "cell_type": "code",
      "source": [
        "def separate_odd_even(list1):\n",
        "  even=[]\n",
        "  odd = []\n",
        "  for item in list1:\n",
        "    if item%2==0:\n",
        "      even.append(item)\n",
        "    else:\n",
        "      odd.append(item)\n",
        "  return odd,even"
      ],
      "metadata": {
        "id": "AM7nNxQCMS25"
      },
      "execution_count": 14,
      "outputs": []
    },
    {
      "cell_type": "code",
      "source": [
        "x1 = [10,41,30,15,80]"
      ],
      "metadata": {
        "id": "XkRKdQ6TPheo"
      },
      "execution_count": 15,
      "outputs": []
    },
    {
      "cell_type": "code",
      "source": [
        "separate_odd_even(x1)"
      ],
      "metadata": {
        "colab": {
          "base_uri": "https://localhost:8080/"
        },
        "id": "eVOzFdPTPphJ",
        "outputId": "d1f7ea1f-6314-4445-8ecd-1a8a6fd66626"
      },
      "execution_count": 16,
      "outputs": [
        {
          "output_type": "execute_result",
          "data": {
            "text/plain": [
              "([41, 15], [10, 30, 80])"
            ]
          },
          "metadata": {},
          "execution_count": 16
        }
      ]
    },
    {
      "cell_type": "code",
      "source": [
        "def get_smaller_list(list1,num):\n",
        "  smaller_list = []\n",
        "  for item in list1:\n",
        "    if item<num:\n",
        "      smaller_list.append(item)\n",
        "  return smaller_list"
      ],
      "metadata": {
        "id": "4BwBGU0SPsD3"
      },
      "execution_count": 18,
      "outputs": []
    },
    {
      "cell_type": "code",
      "source": [
        "get_smaller_list(x1,16)"
      ],
      "metadata": {
        "colab": {
          "base_uri": "https://localhost:8080/"
        },
        "id": "C_v4S7y7QaX4",
        "outputId": "6349eae5-cc52-4a49-e4a0-3d34420a2b3b"
      },
      "execution_count": 19,
      "outputs": [
        {
          "output_type": "execute_result",
          "data": {
            "text/plain": [
              "[10, 15]"
            ]
          },
          "metadata": {},
          "execution_count": 19
        }
      ]
    },
    {
      "cell_type": "code",
      "source": [
        "x=x1"
      ],
      "metadata": {
        "id": "COTs1eOKSbQK"
      },
      "execution_count": 22,
      "outputs": []
    },
    {
      "cell_type": "code",
      "source": [
        "l1 = [x for x in range(11) if x%2==0] # List Compression , get even number from list x1"
      ],
      "metadata": {
        "id": "1bsomzOqQr79"
      },
      "execution_count": 23,
      "outputs": []
    },
    {
      "cell_type": "code",
      "source": [
        "l1"
      ],
      "metadata": {
        "id": "aLgc6FIrSS3a",
        "outputId": "de86188e-aee5-44ea-ff0d-cec29947d1a5",
        "colab": {
          "base_uri": "https://localhost:8080/"
        }
      },
      "execution_count": 24,
      "outputs": [
        {
          "output_type": "execute_result",
          "data": {
            "text/plain": [
              "[0, 2, 4, 6, 8, 10]"
            ]
          },
          "metadata": {},
          "execution_count": 24
        }
      ]
    },
    {
      "cell_type": "code",
      "source": [
        "# Strin"
      ],
      "metadata": {
        "id": "bsdDuYHISgql"
      },
      "execution_count": null,
      "outputs": []
    }
  ]
}