{
  "nbformat": 4,
  "nbformat_minor": 0,
  "metadata": {
    "colab": {
      "provenance": [],
      "authorship_tag": "ABX9TyOJv+4g7cYFGB8voHFtvFA6",
      "include_colab_link": true
    },
    "kernelspec": {
      "name": "python3",
      "display_name": "Python 3"
    },
    "language_info": {
      "name": "python"
    }
  },
  "cells": [
    {
      "cell_type": "markdown",
      "metadata": {
        "id": "view-in-github",
        "colab_type": "text"
      },
      "source": [
        "<a href=\"https://colab.research.google.com/github/uzair-ds/data-science-learning-notebooks/blob/main/DSA_Python_Exercises_1.ipynb\" target=\"_parent\"><img src=\"https://colab.research.google.com/assets/colab-badge.svg\" alt=\"Open In Colab\"/></a>"
      ]
    },
    {
      "cell_type": "markdown",
      "source": [
        "Data Structures & Algorithms Using Python"
      ],
      "metadata": {
        "id": "ao2Cko3YTGs8"
      }
    },
    {
      "cell_type": "markdown",
      "source": [
        "List Operations :"
      ],
      "metadata": {
        "id": "CNfvqA5TTVpt"
      }
    },
    {
      "cell_type": "code",
      "source": [
        "a = [12,32,2,45,666,321,1.5,1.5,1.5,0.001]"
      ],
      "metadata": {
        "id": "9Q34rHD4TNAg"
      },
      "execution_count": 33,
      "outputs": []
    },
    {
      "cell_type": "code",
      "source": [
        "a.append(\"NewElement\")"
      ],
      "metadata": {
        "id": "gjHNjGQYHZ0a"
      },
      "execution_count": 9,
      "outputs": []
    },
    {
      "cell_type": "code",
      "source": [
        "a"
      ],
      "metadata": {
        "colab": {
          "base_uri": "https://localhost:8080/"
        },
        "id": "oDbkFoXXHjEQ",
        "outputId": "c57d485f-de11-480d-97c2-543a065adcac"
      },
      "execution_count": 10,
      "outputs": [
        {
          "output_type": "execute_result",
          "data": {
            "text/plain": [
              "[12, 32, 2, 45, 666, 321, 1.5, 1.5, 1.5, 0.001, 'NewElement']"
            ]
          },
          "metadata": {},
          "execution_count": 10
        }
      ]
    },
    {
      "cell_type": "code",
      "source": [
        "a.insert(0,\"InsertedElementAtZeroIndex\")"
      ],
      "metadata": {
        "id": "50euXSwoHjZB"
      },
      "execution_count": 11,
      "outputs": []
    },
    {
      "cell_type": "code",
      "source": [
        "a"
      ],
      "metadata": {
        "colab": {
          "base_uri": "https://localhost:8080/"
        },
        "id": "p6Wyr_UHHqIx",
        "outputId": "a27e9f70-9fcc-4081-bb3a-4e67cd6c699b"
      },
      "execution_count": 12,
      "outputs": [
        {
          "output_type": "execute_result",
          "data": {
            "text/plain": [
              "['InsertedElementAtZeroIndex',\n",
              " 12,\n",
              " 32,\n",
              " 2,\n",
              " 45,\n",
              " 666,\n",
              " 321,\n",
              " 1.5,\n",
              " 1.5,\n",
              " 1.5,\n",
              " 0.001,\n",
              " 'NewElement']"
            ]
          },
          "metadata": {},
          "execution_count": 12
        }
      ]
    },
    {
      "cell_type": "code",
      "source": [
        "\"CheckOne\" in a"
      ],
      "metadata": {
        "colab": {
          "base_uri": "https://localhost:8080/"
        },
        "id": "7hd773v3Hqnz",
        "outputId": "0380c7e8-dab2-4086-c7e9-0c2614503c8d"
      },
      "execution_count": 13,
      "outputs": [
        {
          "output_type": "execute_result",
          "data": {
            "text/plain": [
              "False"
            ]
          },
          "metadata": {},
          "execution_count": 13
        }
      ]
    },
    {
      "cell_type": "code",
      "source": [
        "a.count(1.5) #count number of times 1.5 occured in the list"
      ],
      "metadata": {
        "colab": {
          "base_uri": "https://localhost:8080/"
        },
        "id": "mwUzaEnSHvW6",
        "outputId": "a71f7302-54ad-43a9-8058-9d3a41d1bc68"
      },
      "execution_count": 16,
      "outputs": [
        {
          "output_type": "execute_result",
          "data": {
            "text/plain": [
              "3"
            ]
          },
          "metadata": {},
          "execution_count": 16
        }
      ]
    },
    {
      "cell_type": "code",
      "source": [
        "a.index(1.5) #index of first occuring of 1.5"
      ],
      "metadata": {
        "colab": {
          "base_uri": "https://localhost:8080/"
        },
        "id": "nharq14FHzDT",
        "outputId": "4aeae5a0-cc39-4d9f-f6e0-40e6fcb814ab"
      },
      "execution_count": 19,
      "outputs": [
        {
          "output_type": "execute_result",
          "data": {
            "text/plain": [
              "7"
            ]
          },
          "metadata": {},
          "execution_count": 19
        }
      ]
    },
    {
      "cell_type": "code",
      "source": [
        "a.index(1.5,5,8)  #index of 1.5 between index 5 to 8"
      ],
      "metadata": {
        "colab": {
          "base_uri": "https://localhost:8080/"
        },
        "id": "RtCNCErGH5Pc",
        "outputId": "65e13cf6-6009-4c40-b38e-93480d76f152"
      },
      "execution_count": 22,
      "outputs": [
        {
          "output_type": "execute_result",
          "data": {
            "text/plain": [
              "7"
            ]
          },
          "metadata": {},
          "execution_count": 22
        }
      ]
    },
    {
      "cell_type": "code",
      "source": [
        "a.pop() #return removed element"
      ],
      "metadata": {
        "colab": {
          "base_uri": "https://localhost:8080/"
        },
        "id": "YrzovrGgIRX3",
        "outputId": "252ad384-d573-4dab-b59d-bd5e0d8b421b"
      },
      "execution_count": 27,
      "outputs": [
        {
          "output_type": "execute_result",
          "data": {
            "text/plain": [
              "1.5"
            ]
          },
          "metadata": {},
          "execution_count": 27
        }
      ]
    },
    {
      "cell_type": "code",
      "source": [
        "a"
      ],
      "metadata": {
        "colab": {
          "base_uri": "https://localhost:8080/"
        },
        "id": "ZNvpFeIGIZ5i",
        "outputId": "6664a6b7-fede-4e75-98d7-66a5e5af2b70"
      },
      "execution_count": 34,
      "outputs": [
        {
          "output_type": "execute_result",
          "data": {
            "text/plain": [
              "[12, 32, 2, 45, 666, 321, 1.5, 1.5, 1.5, 0.001]"
            ]
          },
          "metadata": {},
          "execution_count": 34
        }
      ]
    },
    {
      "cell_type": "code",
      "source": [
        "a.remove(666) #remove element by specific element"
      ],
      "metadata": {
        "id": "xCvAE94hIbec"
      },
      "execution_count": 35,
      "outputs": []
    },
    {
      "cell_type": "code",
      "source": [],
      "metadata": {
        "id": "9cwW5YxQIgNd"
      },
      "execution_count": null,
      "outputs": []
    }
  ]
}