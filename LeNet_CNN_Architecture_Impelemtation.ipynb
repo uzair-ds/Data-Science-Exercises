{
  "nbformat": 4,
  "nbformat_minor": 0,
  "metadata": {
    "colab": {
      "provenance": [],
      "authorship_tag": "ABX9TyOh4OqxaknGO7oDig6Xn5HQ",
      "include_colab_link": true
    },
    "kernelspec": {
      "name": "python3",
      "display_name": "Python 3"
    },
    "language_info": {
      "name": "python"
    }
  },
  "cells": [
    {
      "cell_type": "markdown",
      "metadata": {
        "id": "view-in-github",
        "colab_type": "text"
      },
      "source": [
        "<a href=\"https://colab.research.google.com/github/uzair-ds/learnings-notebooks/blob/main/LeNet_CNN_Architecture_Impelemtation.ipynb\" target=\"_parent\"><img src=\"https://colab.research.google.com/assets/colab-badge.svg\" alt=\"Open In Colab\"/></a>"
      ]
    },
    {
      "cell_type": "markdown",
      "source": [
        "# CNN Architecture Implementations"
      ],
      "metadata": {
        "id": "Ip2C22V0WLvd"
      }
    },
    {
      "cell_type": "markdown",
      "source": [
        "## Example-1"
      ],
      "metadata": {
        "id": "uqTOToe8Wcmo"
      }
    },
    {
      "cell_type": "code",
      "source": [
        "!pip install tensorflow"
      ],
      "metadata": {
        "colab": {
          "base_uri": "https://localhost:8080/"
        },
        "id": "j59uuDAWWl1-",
        "outputId": "e3ba613c-9a60-43c3-8dd1-f7be424bf577"
      },
      "execution_count": 1,
      "outputs": [
        {
          "output_type": "stream",
          "name": "stdout",
          "text": [
            "Requirement already satisfied: tensorflow in /usr/local/lib/python3.10/dist-packages (2.12.0)\n",
            "Requirement already satisfied: absl-py>=1.0.0 in /usr/local/lib/python3.10/dist-packages (from tensorflow) (1.4.0)\n",
            "Requirement already satisfied: astunparse>=1.6.0 in /usr/local/lib/python3.10/dist-packages (from tensorflow) (1.6.3)\n",
            "Requirement already satisfied: flatbuffers>=2.0 in /usr/local/lib/python3.10/dist-packages (from tensorflow) (23.5.26)\n",
            "Requirement already satisfied: gast<=0.4.0,>=0.2.1 in /usr/local/lib/python3.10/dist-packages (from tensorflow) (0.4.0)\n",
            "Requirement already satisfied: google-pasta>=0.1.1 in /usr/local/lib/python3.10/dist-packages (from tensorflow) (0.2.0)\n",
            "Requirement already satisfied: grpcio<2.0,>=1.24.3 in /usr/local/lib/python3.10/dist-packages (from tensorflow) (1.57.0)\n",
            "Requirement already satisfied: h5py>=2.9.0 in /usr/local/lib/python3.10/dist-packages (from tensorflow) (3.9.0)\n",
            "Requirement already satisfied: jax>=0.3.15 in /usr/local/lib/python3.10/dist-packages (from tensorflow) (0.4.14)\n",
            "Requirement already satisfied: keras<2.13,>=2.12.0 in /usr/local/lib/python3.10/dist-packages (from tensorflow) (2.12.0)\n",
            "Requirement already satisfied: libclang>=13.0.0 in /usr/local/lib/python3.10/dist-packages (from tensorflow) (16.0.6)\n",
            "Requirement already satisfied: numpy<1.24,>=1.22 in /usr/local/lib/python3.10/dist-packages (from tensorflow) (1.23.5)\n",
            "Requirement already satisfied: opt-einsum>=2.3.2 in /usr/local/lib/python3.10/dist-packages (from tensorflow) (3.3.0)\n",
            "Requirement already satisfied: packaging in /usr/local/lib/python3.10/dist-packages (from tensorflow) (23.1)\n",
            "Requirement already satisfied: protobuf!=4.21.0,!=4.21.1,!=4.21.2,!=4.21.3,!=4.21.4,!=4.21.5,<5.0.0dev,>=3.20.3 in /usr/local/lib/python3.10/dist-packages (from tensorflow) (3.20.3)\n",
            "Requirement already satisfied: setuptools in /usr/local/lib/python3.10/dist-packages (from tensorflow) (67.7.2)\n",
            "Requirement already satisfied: six>=1.12.0 in /usr/local/lib/python3.10/dist-packages (from tensorflow) (1.16.0)\n",
            "Requirement already satisfied: tensorboard<2.13,>=2.12 in /usr/local/lib/python3.10/dist-packages (from tensorflow) (2.12.3)\n",
            "Requirement already satisfied: tensorflow-estimator<2.13,>=2.12.0 in /usr/local/lib/python3.10/dist-packages (from tensorflow) (2.12.0)\n",
            "Requirement already satisfied: termcolor>=1.1.0 in /usr/local/lib/python3.10/dist-packages (from tensorflow) (2.3.0)\n",
            "Requirement already satisfied: typing-extensions>=3.6.6 in /usr/local/lib/python3.10/dist-packages (from tensorflow) (4.7.1)\n",
            "Requirement already satisfied: wrapt<1.15,>=1.11.0 in /usr/local/lib/python3.10/dist-packages (from tensorflow) (1.14.1)\n",
            "Requirement already satisfied: tensorflow-io-gcs-filesystem>=0.23.1 in /usr/local/lib/python3.10/dist-packages (from tensorflow) (0.33.0)\n",
            "Requirement already satisfied: wheel<1.0,>=0.23.0 in /usr/local/lib/python3.10/dist-packages (from astunparse>=1.6.0->tensorflow) (0.41.2)\n",
            "Requirement already satisfied: ml-dtypes>=0.2.0 in /usr/local/lib/python3.10/dist-packages (from jax>=0.3.15->tensorflow) (0.2.0)\n",
            "Requirement already satisfied: scipy>=1.7 in /usr/local/lib/python3.10/dist-packages (from jax>=0.3.15->tensorflow) (1.10.1)\n",
            "Requirement already satisfied: google-auth<3,>=1.6.3 in /usr/local/lib/python3.10/dist-packages (from tensorboard<2.13,>=2.12->tensorflow) (2.17.3)\n",
            "Requirement already satisfied: google-auth-oauthlib<1.1,>=0.5 in /usr/local/lib/python3.10/dist-packages (from tensorboard<2.13,>=2.12->tensorflow) (1.0.0)\n",
            "Requirement already satisfied: markdown>=2.6.8 in /usr/local/lib/python3.10/dist-packages (from tensorboard<2.13,>=2.12->tensorflow) (3.4.4)\n",
            "Requirement already satisfied: requests<3,>=2.21.0 in /usr/local/lib/python3.10/dist-packages (from tensorboard<2.13,>=2.12->tensorflow) (2.31.0)\n",
            "Requirement already satisfied: tensorboard-data-server<0.8.0,>=0.7.0 in /usr/local/lib/python3.10/dist-packages (from tensorboard<2.13,>=2.12->tensorflow) (0.7.1)\n",
            "Requirement already satisfied: werkzeug>=1.0.1 in /usr/local/lib/python3.10/dist-packages (from tensorboard<2.13,>=2.12->tensorflow) (2.3.7)\n",
            "Requirement already satisfied: cachetools<6.0,>=2.0.0 in /usr/local/lib/python3.10/dist-packages (from google-auth<3,>=1.6.3->tensorboard<2.13,>=2.12->tensorflow) (5.3.1)\n",
            "Requirement already satisfied: pyasn1-modules>=0.2.1 in /usr/local/lib/python3.10/dist-packages (from google-auth<3,>=1.6.3->tensorboard<2.13,>=2.12->tensorflow) (0.3.0)\n",
            "Requirement already satisfied: rsa<5,>=3.1.4 in /usr/local/lib/python3.10/dist-packages (from google-auth<3,>=1.6.3->tensorboard<2.13,>=2.12->tensorflow) (4.9)\n",
            "Requirement already satisfied: requests-oauthlib>=0.7.0 in /usr/local/lib/python3.10/dist-packages (from google-auth-oauthlib<1.1,>=0.5->tensorboard<2.13,>=2.12->tensorflow) (1.3.1)\n",
            "Requirement already satisfied: charset-normalizer<4,>=2 in /usr/local/lib/python3.10/dist-packages (from requests<3,>=2.21.0->tensorboard<2.13,>=2.12->tensorflow) (3.2.0)\n",
            "Requirement already satisfied: idna<4,>=2.5 in /usr/local/lib/python3.10/dist-packages (from requests<3,>=2.21.0->tensorboard<2.13,>=2.12->tensorflow) (3.4)\n",
            "Requirement already satisfied: urllib3<3,>=1.21.1 in /usr/local/lib/python3.10/dist-packages (from requests<3,>=2.21.0->tensorboard<2.13,>=2.12->tensorflow) (2.0.4)\n",
            "Requirement already satisfied: certifi>=2017.4.17 in /usr/local/lib/python3.10/dist-packages (from requests<3,>=2.21.0->tensorboard<2.13,>=2.12->tensorflow) (2023.7.22)\n",
            "Requirement already satisfied: MarkupSafe>=2.1.1 in /usr/local/lib/python3.10/dist-packages (from werkzeug>=1.0.1->tensorboard<2.13,>=2.12->tensorflow) (2.1.3)\n",
            "Requirement already satisfied: pyasn1<0.6.0,>=0.4.6 in /usr/local/lib/python3.10/dist-packages (from pyasn1-modules>=0.2.1->google-auth<3,>=1.6.3->tensorboard<2.13,>=2.12->tensorflow) (0.5.0)\n",
            "Requirement already satisfied: oauthlib>=3.0.0 in /usr/local/lib/python3.10/dist-packages (from requests-oauthlib>=0.7.0->google-auth-oauthlib<1.1,>=0.5->tensorboard<2.13,>=2.12->tensorflow) (3.2.2)\n"
          ]
        }
      ]
    },
    {
      "cell_type": "code",
      "source": [
        "import tensorflow as tf"
      ],
      "metadata": {
        "id": "BWN74m1kXjZJ"
      },
      "execution_count": 2,
      "outputs": []
    },
    {
      "cell_type": "code",
      "source": [
        "(x_train, y_train), (x_test, y_test) = tf.keras.datasets.mnist.load_data()"
      ],
      "metadata": {
        "id": "hH3q7iTyXmzi"
      },
      "execution_count": 3,
      "outputs": []
    },
    {
      "cell_type": "code",
      "source": [
        "x_train.shape"
      ],
      "metadata": {
        "colab": {
          "base_uri": "https://localhost:8080/"
        },
        "id": "djr7K266XraM",
        "outputId": "9b76e8c2-891a-4924-f840-b79a7e9278fe"
      },
      "execution_count": 4,
      "outputs": [
        {
          "output_type": "execute_result",
          "data": {
            "text/plain": [
              "(60000, 28, 28)"
            ]
          },
          "metadata": {},
          "execution_count": 4
        }
      ]
    },
    {
      "cell_type": "code",
      "source": [
        "y_train.shape"
      ],
      "metadata": {
        "colab": {
          "base_uri": "https://localhost:8080/"
        },
        "id": "jBB1BrAFXuYh",
        "outputId": "43504302-ba31-4f2f-8b36-2c879d45bc0d"
      },
      "execution_count": 5,
      "outputs": [
        {
          "output_type": "execute_result",
          "data": {
            "text/plain": [
              "(60000,)"
            ]
          },
          "metadata": {},
          "execution_count": 5
        }
      ]
    },
    {
      "cell_type": "code",
      "source": [
        "x_test.shape"
      ],
      "metadata": {
        "colab": {
          "base_uri": "https://localhost:8080/"
        },
        "id": "scNsfqWyXzaO",
        "outputId": "9d345bb8-4e69-49b7-813d-c900775659ad"
      },
      "execution_count": 6,
      "outputs": [
        {
          "output_type": "execute_result",
          "data": {
            "text/plain": [
              "(10000, 28, 28)"
            ]
          },
          "metadata": {},
          "execution_count": 6
        }
      ]
    },
    {
      "cell_type": "code",
      "source": [
        "import keras\n",
        "from keras.models import Sequential\n",
        "from keras.layers import Dense\n",
        "from keras.utils import to_categorical\n"
      ],
      "metadata": {
        "id": "Y6d0zSaDX1Y_"
      },
      "execution_count": 7,
      "outputs": []
    },
    {
      "cell_type": "code",
      "source": [
        "model = Sequential()"
      ],
      "metadata": {
        "id": "EVkvdADrYdR_"
      },
      "execution_count": 8,
      "outputs": []
    },
    {
      "cell_type": "markdown",
      "source": [
        "We flatten the input data using reshape to convert each 28x28 image into a 1D array of length 784."
      ],
      "metadata": {
        "id": "GODIUBDVcEtf"
      }
    },
    {
      "cell_type": "code",
      "source": [
        "x_train = x_train.reshape(-1, 28 * 28) / 255.0\n",
        "x_test = x_test.reshape(-1, 28 * 28) / 255.0"
      ],
      "metadata": {
        "id": "W24tzhYxa4q3"
      },
      "execution_count": 9,
      "outputs": []
    },
    {
      "cell_type": "markdown",
      "source": [
        "###### **Why to transform to 1D array ?**\n",
        "- A 1D input is simpler for neural networks to process. By flattening the input, you transform the image data into a format that these layers can handle.\n",
        "\n",
        "- Flattening ensures that each input sample has a consistent number of features. In the case of MNIST, each image is 28x28 pixels, so flattening it results in a vector of length 784. This consistency is important for creating a consistent architecture.\n"
      ],
      "metadata": {
        "id": "rDpQoIZqcVK6"
      }
    },
    {
      "cell_type": "code",
      "source": [
        "y_train = to_categorical(y_train, num_classes=10)\n",
        "y_test = to_categorical(y_test, num_classes=10)"
      ],
      "metadata": {
        "id": "v6pPY5_qbrqI"
      },
      "execution_count": 10,
      "outputs": []
    },
    {
      "cell_type": "markdown",
      "source": [
        "Sequential models in Keras are a type of neural network architecture that's specifically designed for building deep learning models with a linear stack of layers. These models are called \"sequential\" because you can simply add one layer at a time, and the output of each layer is passed as input to the next layer. Sequential models are commonly used for feedforward neural networks, where data flows in one direction from input to output."
      ],
      "metadata": {
        "id": "xGeP24NtY14Z"
      }
    },
    {
      "cell_type": "markdown",
      "source": [
        "Sequential specifies to keras that we are creating model sequentially and the output of each layer we add is input to the next layer we specify."
      ],
      "metadata": {
        "id": "rHFLVCGBY9nC"
      }
    },
    {
      "cell_type": "code",
      "source": [
        "model.add(Dense(128, input_dim=(784,), activation='relu'))"
      ],
      "metadata": {
        "id": "9_kFfdcGYfBP"
      },
      "execution_count": 11,
      "outputs": []
    },
    {
      "cell_type": "markdown",
      "source": [
        "\n",
        "\n",
        "1.  *model.add* is used to add a layer to our neural\n",
        "network. We need to specify as an argument what type of layer we want.  \n",
        "2. The Dense is used to specify the fully connected layer.\n",
        "3. output dimension here is 16 and input dimension is 20\n",
        "4. Activation Function is ReLU is used here\n",
        "\n",
        "\n",
        "\n"
      ],
      "metadata": {
        "id": "cYDMbFptY_LM"
      }
    },
    {
      "cell_type": "code",
      "source": [
        "model.add(Dense(64, activation='relu'))"
      ],
      "metadata": {
        "id": "bdC9eAjdYhqt"
      },
      "execution_count": 12,
      "outputs": []
    },
    {
      "cell_type": "code",
      "source": [
        "model.add(Dense(10, activation=\"softmax\"))"
      ],
      "metadata": {
        "id": "g7MVYpLDYnoe"
      },
      "execution_count": 13,
      "outputs": []
    },
    {
      "cell_type": "markdown",
      "source": [
        "Now we need to specify the loss function and the optimizer. It is done using compile function in keras."
      ],
      "metadata": {
        "id": "TzdXMHaiZzG7"
      }
    },
    {
      "cell_type": "code",
      "source": [
        "model.compile(loss='categorical_crossentropy', optimizer='adam', metrics=['accuracy'])"
      ],
      "metadata": {
        "id": "iYyqiMdDZzpI"
      },
      "execution_count": 14,
      "outputs": []
    },
    {
      "cell_type": "markdown",
      "source": [
        "### Training the model"
      ],
      "metadata": {
        "id": "gVfKdzP0Z8kH"
      }
    },
    {
      "cell_type": "markdown",
      "source": [
        " model.fit is used to train it."
      ],
      "metadata": {
        "id": "GnWKuUGYaCy1"
      }
    },
    {
      "cell_type": "code",
      "source": [
        "history = model.fit(x_train, y_train, epochs=10, batch_size=64)"
      ],
      "metadata": {
        "colab": {
          "base_uri": "https://localhost:8080/"
        },
        "id": "lhobRTpaaEmw",
        "outputId": "33774f00-04f9-4d80-bb96-186b751eaec5"
      },
      "execution_count": 15,
      "outputs": [
        {
          "output_type": "stream",
          "name": "stdout",
          "text": [
            "Epoch 1/10\n",
            "938/938 [==============================] - 6s 6ms/step - loss: 0.2753 - accuracy: 0.9208\n",
            "Epoch 2/10\n",
            "938/938 [==============================] - 7s 8ms/step - loss: 0.1113 - accuracy: 0.9662\n",
            "Epoch 3/10\n",
            "938/938 [==============================] - 9s 10ms/step - loss: 0.0769 - accuracy: 0.9768\n",
            "Epoch 4/10\n",
            "938/938 [==============================] - 8s 9ms/step - loss: 0.0575 - accuracy: 0.9822\n",
            "Epoch 5/10\n",
            "938/938 [==============================] - 5s 5ms/step - loss: 0.0474 - accuracy: 0.9850\n",
            "Epoch 6/10\n",
            "938/938 [==============================] - 5s 5ms/step - loss: 0.0374 - accuracy: 0.9879\n",
            "Epoch 7/10\n",
            "938/938 [==============================] - 4s 4ms/step - loss: 0.0294 - accuracy: 0.9908\n",
            "Epoch 8/10\n",
            "938/938 [==============================] - 4s 4ms/step - loss: 0.0272 - accuracy: 0.9911\n",
            "Epoch 9/10\n",
            "938/938 [==============================] - 5s 5ms/step - loss: 0.0199 - accuracy: 0.9936\n",
            "Epoch 10/10\n",
            "938/938 [==============================] - 4s 4ms/step - loss: 0.0193 - accuracy: 0.9936\n"
          ]
        }
      ]
    },
    {
      "cell_type": "code",
      "source": [],
      "metadata": {
        "id": "NVUtFgYCaGa1"
      },
      "execution_count": 15,
      "outputs": []
    },
    {
      "cell_type": "markdown",
      "source": [
        "## Example-2 : LeNet CNN Architecture"
      ],
      "metadata": {
        "id": "smVMCZwDdLjn"
      }
    },
    {
      "cell_type": "markdown",
      "source": [
        "![image.png](data:image/png;base64,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)"
      ],
      "metadata": {
        "id": "1kCLrBI_eH1z"
      }
    },
    {
      "cell_type": "code",
      "source": [
        "from keras.layers import Conv2D, MaxPooling2D, Flatten, Dense\n",
        "import numpy as np"
      ],
      "metadata": {
        "id": "8jUM_klcekXn"
      },
      "execution_count": 16,
      "outputs": []
    },
    {
      "cell_type": "code",
      "source": [
        "# Normalize pixel values to the range [0, 1]\n",
        "x_train = x_train.astype('float32') / 255.0\n",
        "x_test = x_test.astype('float32') / 255.0\n",
        "\n",
        "# Reshape the data to match LeNet's input shape\n",
        "x_train = x_train.reshape(x_train.shape[0], 28, 28, 1)\n",
        "x_test = x_test.reshape(x_test.shape[0], 28, 28, 1)"
      ],
      "metadata": {
        "id": "tZp_AC_bf8cm"
      },
      "execution_count": 17,
      "outputs": []
    },
    {
      "cell_type": "code",
      "source": [
        "model = Sequential()\n",
        "\n",
        "# Layer 1: Convolutional Layer with ReLU activation and Max-Pooling\n",
        "model.add(Conv2D(6, kernel_size=(5, 5), activation='relu', input_shape=(28, 28, 1)))\n",
        "model.add(MaxPooling2D(pool_size=(2, 2)))\n",
        "\n",
        "# In above Layer 1 , we have used number of kernels = 6, therefore OutputChannels = 6\n",
        "\n",
        "# Layer 2: Convolutional Layer with ReLU activation and Max-Pooling\n",
        "model.add(Conv2D(16, kernel_size=(5, 5), activation='relu'))\n",
        "model.add(MaxPooling2D(pool_size=(2, 2)))\n",
        "\n",
        "# Flatten the output from previous layers\n",
        "model.add(Flatten())\n",
        "\n",
        "# Layer 3: Fully Connected Layer with ReLU activation\n",
        "model.add(Dense(120, activation='relu'))\n",
        "\n",
        "# Number of neurons in dense layer is 120\n",
        "\n",
        "# Layer 4: Fully Connected Layer with ReLU activation\n",
        "model.add(Dense(84, activation='relu'))\n",
        "\n",
        "# Here number of neurons in dense layer is 84\n",
        "\n",
        "model.add(Dense(10, activation='softmax'))\n",
        "\n"
      ],
      "metadata": {
        "id": "_cQDxFAXeIyI"
      },
      "execution_count": 18,
      "outputs": []
    },
    {
      "cell_type": "markdown",
      "source": [
        "A dense layer, also known as a fully connected layer, is a fundamental building block in a neural network. It's called \"dense\" because every neuron in a dense layer is connected to every neuron in the previous layer."
      ],
      "metadata": {
        "id": "-JMWF5nlffUT"
      }
    },
    {
      "cell_type": "code",
      "source": [
        "model.compile(loss='categorical_crossentropy', optimizer='adam', metrics=['accuracy'])"
      ],
      "metadata": {
        "id": "5YHl_zW9eW4V"
      },
      "execution_count": 19,
      "outputs": []
    },
    {
      "cell_type": "code",
      "source": [
        "model.fit(x_train, y_train, epochs=5, batch_size=128, validation_split=0.2)"
      ],
      "metadata": {
        "colab": {
          "base_uri": "https://localhost:8080/"
        },
        "id": "xHqO-l8Kfw4Q",
        "outputId": "eafdde3a-cedc-47ac-b710-2292818898b7"
      },
      "execution_count": 20,
      "outputs": [
        {
          "output_type": "stream",
          "name": "stdout",
          "text": [
            "Epoch 1/5\n",
            "375/375 [==============================] - 25s 64ms/step - loss: 1.2447 - accuracy: 0.5968 - val_loss: 0.5723 - val_accuracy: 0.8215\n",
            "Epoch 2/5\n",
            "375/375 [==============================] - 23s 62ms/step - loss: 0.4833 - accuracy: 0.8504 - val_loss: 0.3602 - val_accuracy: 0.8882\n",
            "Epoch 3/5\n",
            "375/375 [==============================] - 26s 68ms/step - loss: 0.3342 - accuracy: 0.8982 - val_loss: 0.2662 - val_accuracy: 0.9175\n",
            "Epoch 4/5\n",
            "375/375 [==============================] - 22s 58ms/step - loss: 0.2596 - accuracy: 0.9202 - val_loss: 0.2171 - val_accuracy: 0.9326\n",
            "Epoch 5/5\n",
            "375/375 [==============================] - 24s 64ms/step - loss: 0.2097 - accuracy: 0.9343 - val_loss: 0.1798 - val_accuracy: 0.9452\n"
          ]
        },
        {
          "output_type": "execute_result",
          "data": {
            "text/plain": [
              "<keras.callbacks.History at 0x7f0706323580>"
            ]
          },
          "metadata": {},
          "execution_count": 20
        }
      ]
    },
    {
      "cell_type": "code",
      "source": [],
      "metadata": {
        "id": "yt4Xvw9ZfytJ"
      },
      "execution_count": 20,
      "outputs": []
    }
  ]
}