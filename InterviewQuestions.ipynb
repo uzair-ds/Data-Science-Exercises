{
  "nbformat": 4,
  "nbformat_minor": 0,
  "metadata": {
    "colab": {
      "provenance": [],
      "authorship_tag": "ABX9TyN/bFmVH6N9dy9Dx6HZ7a67",
      "include_colab_link": true
    },
    "kernelspec": {
      "name": "python3",
      "display_name": "Python 3"
    },
    "language_info": {
      "name": "python"
    }
  },
  "cells": [
    {
      "cell_type": "markdown",
      "metadata": {
        "id": "view-in-github",
        "colab_type": "text"
      },
      "source": [
        "<a href=\"https://colab.research.google.com/github/uzair-ds/learnings-notebooks/blob/main/InterviewQuestions.ipynb\" target=\"_parent\"><img src=\"https://colab.research.google.com/assets/colab-badge.svg\" alt=\"Open In Colab\"/></a>"
      ]
    },
    {
      "cell_type": "markdown",
      "source": [
        "\n",
        "\n",
        "1. Linear and Non linerity concept\n",
        "2. Why MSE in regression problem loss func?\n",
        "3. If set of features are given , how you are going to fit the best line curve and why ?\n",
        "4. characteristics of loss function\n",
        "5. Gradeint Descent\n",
        "6. How you are going initilizatin of gradeint descent\n",
        "7.\n",
        "\n"
      ],
      "metadata": {
        "id": "RkV0n2CyLhI8"
      }
    }
  ]
}