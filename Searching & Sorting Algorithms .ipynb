{
 "cells": [
  {
   "cell_type": "markdown",
   "id": "1867dcb1",
   "metadata": {},
   "source": [
    "## Binary Search "
   ]
  },
  {
   "cell_type": "markdown",
   "id": "cd46c788",
   "metadata": {},
   "source": [
    "- Given a sorted list, if item is in the list then return the index , otherwise return -1\n",
    "- Time Complexity - O(log(n))\n"
   ]
  },
  {
   "cell_type": "markdown",
   "id": "7d4a856d",
   "metadata": {},
   "source": [
    "### Working"
   ]
  },
  {
   "cell_type": "markdown",
   "id": "477ae9fb",
   "metadata": {},
   "source": [
    "- Find mid index = (high + low) //2 --> floor division\n",
    "- while low <=high\n",
    "- case1 : arr [mid_index] = x \n",
    "- case2 : arr [mid_index] > x then range(low, mid_index-1)\n",
    "- case3 : arr [mid_index] < x then range(mid_index+1, high)"
   ]
  },
  {
   "cell_type": "markdown",
   "id": "bec06573",
   "metadata": {},
   "source": [
    "Recursive Binary Search takes O(1) space while iterative binary search takes O(log(n)) space"
   ]
  },
  {
   "cell_type": "code",
   "execution_count": 154,
   "id": "6cd33861",
   "metadata": {},
   "outputs": [],
   "source": [
    "def binary_search(arr,target_value):\n",
    "    low = 0 \n",
    "    high = len(arr)-1\n",
    "    while low<=high:\n",
    "        mid = (low+high)//2\n",
    "        if arr[mid] == target_value:\n",
    "            return 1\n",
    "        elif arr[mid] < target_value:\n",
    "            low = mid+1\n",
    "        else:\n",
    "            high = mid-1\n",
    "    return -1        "
   ]
  },
  {
   "cell_type": "code",
   "execution_count": 156,
   "id": "9e781617",
   "metadata": {},
   "outputs": [
    {
     "data": {
      "text/plain": [
       "-1"
      ]
     },
     "execution_count": 156,
     "metadata": {},
     "output_type": "execute_result"
    }
   ],
   "source": [
    "binary_search([1,2,3,4],5)"
   ]
  },
  {
   "cell_type": "markdown",
   "id": "f945550d",
   "metadata": {},
   "source": [
    "## Bubble Sort"
   ]
  },
  {
   "cell_type": "markdown",
   "id": "1cccf3be",
   "metadata": {},
   "source": [
    "### Time Complexity O(n^2)\n",
    "- Bubble Sort is a stable algorithm as order of equal elements remains same."
   ]
  },
  {
   "cell_type": "code",
   "execution_count": 7,
   "id": "68c4d2d6",
   "metadata": {},
   "outputs": [],
   "source": [
    "def bubble_sort(a):\n",
    "    n = len(a)\n",
    "    swapped = False\n",
    "    for i in range(n-1):\n",
    "        for j in range(n-i-1):\n",
    "            if a[j] > a[j+1]:\n",
    "                a[j],a[j+1] = a[j+1],a[j]\n",
    "                swapped = True\n",
    "    if swapped ==False:\n",
    "        return "
   ]
  },
  {
   "cell_type": "markdown",
   "id": "b114350a",
   "metadata": {},
   "source": [
    "## Selection Sort"
   ]
  },
  {
   "cell_type": "markdown",
   "id": "572677a3",
   "metadata": {},
   "source": [
    "### Time Complexity O(n^2) in all cases\n",
    "- Take less memory writes in comparision to Insertion Sort, Merge Sort and Quick Sort\n",
    "- Not Stable Algo as order of equal elements may change.\n",
    "- Basic idea for heap sort\n",
    "- Cycle Sort Algo is best (optimal) in terms of memory writes.\n",
    "- HeapSort idea is based on selection sort only."
   ]
  },
  {
   "cell_type": "markdown",
   "id": "64d152da",
   "metadata": {},
   "source": [
    "### How Selection Sort Works?\n",
    "- Find the minimum element in the unsorted part of the list.\n",
    "- Swap the minimum element with the first element in the unsorted part.\n",
    "- Move the boundary between the sorted and unsorted parts one element to the right.\n",
    "- Repeat steps 1-3 until the entire list is sorted."
   ]
  },
  {
   "cell_type": "code",
   "execution_count": 11,
   "id": "e5137e02",
   "metadata": {},
   "outputs": [],
   "source": [
    "def selection_sort(a):\n",
    "    n = len(a)\n",
    "    for i in range(n-1):\n",
    "        min_index = i\n",
    "        for j in range(i+1,n):\n",
    "            if a[j]< a[min_index]:\n",
    "                min_index = j\n",
    "        a[min_index],a[i] = a[i],a[min_index]\n",
    "    print(a)\n",
    "              "
   ]
  },
  {
   "cell_type": "code",
   "execution_count": 12,
   "id": "d59718eb",
   "metadata": {},
   "outputs": [
    {
     "name": "stdout",
     "output_type": "stream",
     "text": [
      "[2, 4, 5, 6, 9]\n"
     ]
    }
   ],
   "source": [
    "selection_sort([4,5,6,9,2])"
   ]
  },
  {
   "cell_type": "markdown",
   "id": "d5888fc4",
   "metadata": {},
   "source": [
    "## Insertion Sort"
   ]
  },
  {
   "cell_type": "markdown",
   "id": "3dab8da7",
   "metadata": {},
   "source": [
    "- Worst Case : O(n^2)\n",
    "- Best Case : O(n)\n",
    "- In place and stable\n",
    "- Used for small arrays\n"
   ]
  },
  {
   "cell_type": "markdown",
   "id": "3eb23b44",
   "metadata": {},
   "source": [
    "#### Steps :\n",
    "Start with the second element (index 1) and consider it as the key.\n",
    "\n",
    "Compare this key to the element to its left (index -1), and if it's smaller, swap them.\n",
    "\n",
    "Move to the next element to the left (index -2) and continue swapping until you find the correct position for the key.\n",
    "\n",
    "Repeat steps 2 and 3 until you've reached the beginning of the array or until the key is in its correct position (i.e., it's not smaller than the element to its left).\n",
    "\n",
    "Move on to the next element (the one to the right of the key) and repeat the process, sorting the next subarray.\n",
    "\n",
    "Continue this process until the entire array is sorted."
   ]
  },
  {
   "cell_type": "code",
   "execution_count": 21,
   "id": "7ded6984",
   "metadata": {},
   "outputs": [],
   "source": [
    "def insertion_sort(arr):\n",
    "    for i in range(1,len(arr)):\n",
    "        current_value = arr[i]\n",
    "        position = i\n",
    "        while position > 0 and arr[position - 1] > current_value:\n",
    "            arr[position] = arr[position - 1] # shift to right \n",
    "            position = position - 1\n",
    "        arr[position] = current_value\n",
    "    print(arr)     "
   ]
  },
  {
   "cell_type": "code",
   "execution_count": 22,
   "id": "9d35db2f",
   "metadata": {},
   "outputs": [
    {
     "name": "stdout",
     "output_type": "stream",
     "text": [
      "[2, 3, 4, 4, 5, 55]\n"
     ]
    }
   ],
   "source": [
    "insertion_sort([3,4,5,55,4,2])"
   ]
  },
  {
   "cell_type": "markdown",
   "id": "6a958ed9",
   "metadata": {},
   "source": [
    "## Merge Sort"
   ]
  },
  {
   "cell_type": "markdown",
   "id": "b53a1207",
   "metadata": {},
   "source": [
    "Given low , mid and high values, a is list \n",
    "- divde the list into two part left and right\n",
    "- left = a[0:mid+1]\n",
    "- right = a[mid+1:high+1]"
   ]
  },
  {
   "cell_type": "markdown",
   "id": "fef72827",
   "metadata": {},
   "source": [
    "It follows the divide and conquer strategy to sort a list or array of elements.\n",
    "\n",
    "\n",
    "Divide: The unsorted list is divided into two equal sublists (or approximately equal for odd-sized lists) until each sublist contains only one element. This is done recursively until the base case is reached.\n",
    "\n",
    "Conquer: The sublists are sorted recursively using the merge sort algorithm.\n",
    "\n",
    "Combine (Merge): The sorted sublists are then merged to produce a single sorted list. This is the key step in the merge sort algorithm. During the merge step, the elements from the two sublists are compared, and the smaller of the two is placed in the output list. This process continues until all elements are merged."
   ]
  },
  {
   "cell_type": "code",
   "execution_count": null,
   "id": "f3bb2237",
   "metadata": {},
   "outputs": [],
   "source": []
  },
  {
   "cell_type": "code",
   "execution_count": 128,
   "id": "cb933a90",
   "metadata": {},
   "outputs": [],
   "source": [
    "def merge_sort(arr):\n",
    "    if len(arr) > 1:\n",
    "        mid = len(arr) // 2\n",
    "        left = arr[:mid]\n",
    "        right = arr[mid:]\n",
    "\n",
    "        merge_sort(left)\n",
    "        merge_sort(right)\n",
    "\n",
    "        i = j = k = 0\n",
    "\n",
    "        while i < len(left) and j < len(right):\n",
    "            if left[i] < right[j]:\n",
    "                arr[k] = left[i]\n",
    "                i = i+ 1\n",
    "                k = k + 1\n",
    "            else:\n",
    "                arr[k] = right[j]\n",
    "                j = j+ 1\n",
    "                k = k + 1\n",
    "            \n",
    "\n",
    "        while i < len(left):\n",
    "            arr[k] = left[i]\n",
    "            i = i+ 1\n",
    "            k = k + 1\n",
    "\n",
    "        while j < len(right):\n",
    "            arr[k] = right[j]\n",
    "            j = j+ 1\n",
    "            k = k + 1\n",
    "    return arr"
   ]
  },
  {
   "cell_type": "code",
   "execution_count": 130,
   "id": "664dc91d",
   "metadata": {},
   "outputs": [
    {
     "data": {
      "text/plain": [
       "[2, 3, 4, 4, 54, 55]"
      ]
     },
     "execution_count": 130,
     "metadata": {},
     "output_type": "execute_result"
    }
   ],
   "source": [
    "merge_sort([3,4,54,55,4,2])"
   ]
  },
  {
   "cell_type": "markdown",
   "id": "a6cdae1f",
   "metadata": {},
   "source": [
    "## Quick Sort "
   ]
  },
  {
   "cell_type": "markdown",
   "id": "0c1c7efd",
   "metadata": {},
   "source": [
    "- Divide and conquer strategy\n",
    "- Worst Case : O(n^2)\n",
    "- Faster due to \n",
    "    - In place\n",
    "    - Cache friendly\n",
    "    - Avg case : O(nlog(n))\n",
    "    - Tail Recursive\n",
    "- Partition is key function, partition func does not divide equally but ensure both list have some elements."
   ]
  },
  {
   "cell_type": "markdown",
   "id": "ac42df48",
   "metadata": {},
   "source": [
    "### Steps :\n",
    "    \n",
    "Picking a special card (the pivot).\n",
    "\n",
    "Dividing the cards into two piles: one with smaller numbers and one with larger numbers.\n",
    "    \n",
    "Repeating this process for each pile.\n",
    "\n",
    "Eventually, the cards are all sorted, and you don't need to do anything else."
   ]
  },
  {
   "cell_type": "code",
   "execution_count": 145,
   "id": "658b1ee5",
   "metadata": {},
   "outputs": [],
   "source": [
    "def naive_partition(arr,pivot_index):\n",
    "    n = len(arr)\n",
    "    \n",
    "    # Move the pivot index element to last \n",
    "    \n",
    "    arr[pivot_index],arr[n-1] = arr[n-1],arr[pivot_index]\n",
    "    tmp = []\n",
    "    \n",
    "    # if pivot element is less than equal to x then append to tmp\n",
    "    for x in arr:\n",
    "        if x <= arr[n-1]:\n",
    "            tmp.append(x)\n",
    "    # if pivot element is more than x then append to tmp\n",
    "    for x in arr:\n",
    "        if x > arr[n-1]:\n",
    "            tmp.append(x) \n",
    "    # Assign tmp to arr           \n",
    "    for i in range(n):\n",
    "        arr[i] = tmp[i]\n",
    "    print(arr)"
   ]
  },
  {
   "cell_type": "markdown",
   "id": "80e271a6",
   "metadata": {},
   "source": [
    "### Lomuto Partition\n",
    "- Only one traversal required.\n",
    "- O(1) space is required."
   ]
  },
  {
   "cell_type": "code",
   "execution_count": 150,
   "id": "e68c3fbc",
   "metadata": {},
   "outputs": [],
   "source": [
    "def quick_sort(arr):\n",
    "    if len(arr) <= 1:\n",
    "        return arr\n",
    "\n",
    "    pivot = arr[0]\n",
    "    left = []\n",
    "    right = []\n",
    "\n",
    "    for element in arr[1:]:\n",
    "        if element < pivot:\n",
    "            left.append(element)\n",
    "        else:\n",
    "            right.append(element)\n",
    "\n",
    "    return quick_sort(left) + [pivot] + quick_sort(right)"
   ]
  },
  {
   "cell_type": "code",
   "execution_count": 151,
   "id": "5d236dea",
   "metadata": {},
   "outputs": [
    {
     "name": "stdout",
     "output_type": "stream",
     "text": [
      "[5, 6, 8, 9, 11, 12, 13]\n"
     ]
    }
   ],
   "source": [
    "print(quick_sort([5,13,6,9,12,8,11]))"
   ]
  },
  {
   "cell_type": "code",
   "execution_count": null,
   "id": "6cd6419c",
   "metadata": {},
   "outputs": [],
   "source": []
  },
  {
   "cell_type": "code",
   "execution_count": null,
   "id": "fb0d3a80",
   "metadata": {},
   "outputs": [],
   "source": []
  },
  {
   "cell_type": "code",
   "execution_count": null,
   "id": "15262598",
   "metadata": {},
   "outputs": [],
   "source": []
  }
 ],
 "metadata": {
  "kernelspec": {
   "display_name": "Python 3 (ipykernel)",
   "language": "python",
   "name": "python3"
  },
  "language_info": {
   "codemirror_mode": {
    "name": "ipython",
    "version": 3
   },
   "file_extension": ".py",
   "mimetype": "text/x-python",
   "name": "python",
   "nbconvert_exporter": "python",
   "pygments_lexer": "ipython3",
   "version": "3.8.18"
  }
 },
 "nbformat": 4,
 "nbformat_minor": 5
}
